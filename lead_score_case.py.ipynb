{
 "cells": [
  {
   "cell_type": "markdown",
   "id": "e9cf8095",
   "metadata": {},
   "source": [
    "# Import necessary libraries to work on data\n"
   ]
  },
  {
   "cell_type": "code",
   "execution_count": 1,
   "id": "1d836b85",
   "metadata": {},
   "outputs": [],
   "source": [
    "import pandas as pd\n",
    "import numpy as np\n",
    "import matplotlib.pyplot as plt\n",
    "import seaborn as sns\n",
    "\n",
    "import warnings\n",
    "warnings.filterwarnings('ignore')\n",
    "\n"
   ]
  },
  {
   "cell_type": "markdown",
   "id": "60d6dca9",
   "metadata": {},
   "source": [
    "# Reading and understanding data"
   ]
  },
  {
   "cell_type": "code",
   "execution_count": 2,
   "id": "d694611c",
   "metadata": {},
   "outputs": [
    {
     "data": {
      "text/html": [
       "<div>\n",
       "<style scoped>\n",
       "    .dataframe tbody tr th:only-of-type {\n",
       "        vertical-align: middle;\n",
       "    }\n",
       "\n",
       "    .dataframe tbody tr th {\n",
       "        vertical-align: top;\n",
       "    }\n",
       "\n",
       "    .dataframe thead th {\n",
       "        text-align: right;\n",
       "    }\n",
       "</style>\n",
       "<table border=\"1\" class=\"dataframe\">\n",
       "  <thead>\n",
       "    <tr style=\"text-align: right;\">\n",
       "      <th></th>\n",
       "      <th>Prospect ID</th>\n",
       "      <th>Lead Number</th>\n",
       "      <th>Lead Origin</th>\n",
       "      <th>Lead Source</th>\n",
       "      <th>Do Not Email</th>\n",
       "      <th>Do Not Call</th>\n",
       "      <th>Converted</th>\n",
       "      <th>TotalVisits</th>\n",
       "      <th>Total Time Spent on Website</th>\n",
       "      <th>Page Views Per Visit</th>\n",
       "      <th>...</th>\n",
       "      <th>Get updates on DM Content</th>\n",
       "      <th>Lead Profile</th>\n",
       "      <th>City</th>\n",
       "      <th>Asymmetrique Activity Index</th>\n",
       "      <th>Asymmetrique Profile Index</th>\n",
       "      <th>Asymmetrique Activity Score</th>\n",
       "      <th>Asymmetrique Profile Score</th>\n",
       "      <th>I agree to pay the amount through cheque</th>\n",
       "      <th>A free copy of Mastering The Interview</th>\n",
       "      <th>Last Notable Activity</th>\n",
       "    </tr>\n",
       "  </thead>\n",
       "  <tbody>\n",
       "    <tr>\n",
       "      <th>0</th>\n",
       "      <td>7927b2df-8bba-4d29-b9a2-b6e0beafe620</td>\n",
       "      <td>660737</td>\n",
       "      <td>API</td>\n",
       "      <td>Olark Chat</td>\n",
       "      <td>No</td>\n",
       "      <td>No</td>\n",
       "      <td>0</td>\n",
       "      <td>0.0</td>\n",
       "      <td>0</td>\n",
       "      <td>0.0</td>\n",
       "      <td>...</td>\n",
       "      <td>No</td>\n",
       "      <td>Select</td>\n",
       "      <td>Select</td>\n",
       "      <td>02.Medium</td>\n",
       "      <td>02.Medium</td>\n",
       "      <td>15.0</td>\n",
       "      <td>15.0</td>\n",
       "      <td>No</td>\n",
       "      <td>No</td>\n",
       "      <td>Modified</td>\n",
       "    </tr>\n",
       "    <tr>\n",
       "      <th>1</th>\n",
       "      <td>2a272436-5132-4136-86fa-dcc88c88f482</td>\n",
       "      <td>660728</td>\n",
       "      <td>API</td>\n",
       "      <td>Organic Search</td>\n",
       "      <td>No</td>\n",
       "      <td>No</td>\n",
       "      <td>0</td>\n",
       "      <td>5.0</td>\n",
       "      <td>674</td>\n",
       "      <td>2.5</td>\n",
       "      <td>...</td>\n",
       "      <td>No</td>\n",
       "      <td>Select</td>\n",
       "      <td>Select</td>\n",
       "      <td>02.Medium</td>\n",
       "      <td>02.Medium</td>\n",
       "      <td>15.0</td>\n",
       "      <td>15.0</td>\n",
       "      <td>No</td>\n",
       "      <td>No</td>\n",
       "      <td>Email Opened</td>\n",
       "    </tr>\n",
       "    <tr>\n",
       "      <th>2</th>\n",
       "      <td>8cc8c611-a219-4f35-ad23-fdfd2656bd8a</td>\n",
       "      <td>660727</td>\n",
       "      <td>Landing Page Submission</td>\n",
       "      <td>Direct Traffic</td>\n",
       "      <td>No</td>\n",
       "      <td>No</td>\n",
       "      <td>1</td>\n",
       "      <td>2.0</td>\n",
       "      <td>1532</td>\n",
       "      <td>2.0</td>\n",
       "      <td>...</td>\n",
       "      <td>No</td>\n",
       "      <td>Potential Lead</td>\n",
       "      <td>Mumbai</td>\n",
       "      <td>02.Medium</td>\n",
       "      <td>01.High</td>\n",
       "      <td>14.0</td>\n",
       "      <td>20.0</td>\n",
       "      <td>No</td>\n",
       "      <td>Yes</td>\n",
       "      <td>Email Opened</td>\n",
       "    </tr>\n",
       "    <tr>\n",
       "      <th>3</th>\n",
       "      <td>0cc2df48-7cf4-4e39-9de9-19797f9b38cc</td>\n",
       "      <td>660719</td>\n",
       "      <td>Landing Page Submission</td>\n",
       "      <td>Direct Traffic</td>\n",
       "      <td>No</td>\n",
       "      <td>No</td>\n",
       "      <td>0</td>\n",
       "      <td>1.0</td>\n",
       "      <td>305</td>\n",
       "      <td>1.0</td>\n",
       "      <td>...</td>\n",
       "      <td>No</td>\n",
       "      <td>Select</td>\n",
       "      <td>Mumbai</td>\n",
       "      <td>02.Medium</td>\n",
       "      <td>01.High</td>\n",
       "      <td>13.0</td>\n",
       "      <td>17.0</td>\n",
       "      <td>No</td>\n",
       "      <td>No</td>\n",
       "      <td>Modified</td>\n",
       "    </tr>\n",
       "    <tr>\n",
       "      <th>4</th>\n",
       "      <td>3256f628-e534-4826-9d63-4a8b88782852</td>\n",
       "      <td>660681</td>\n",
       "      <td>Landing Page Submission</td>\n",
       "      <td>Google</td>\n",
       "      <td>No</td>\n",
       "      <td>No</td>\n",
       "      <td>1</td>\n",
       "      <td>2.0</td>\n",
       "      <td>1428</td>\n",
       "      <td>1.0</td>\n",
       "      <td>...</td>\n",
       "      <td>No</td>\n",
       "      <td>Select</td>\n",
       "      <td>Mumbai</td>\n",
       "      <td>02.Medium</td>\n",
       "      <td>01.High</td>\n",
       "      <td>15.0</td>\n",
       "      <td>18.0</td>\n",
       "      <td>No</td>\n",
       "      <td>No</td>\n",
       "      <td>Modified</td>\n",
       "    </tr>\n",
       "  </tbody>\n",
       "</table>\n",
       "<p>5 rows × 37 columns</p>\n",
       "</div>"
      ],
      "text/plain": [
       "                            Prospect ID  Lead Number              Lead Origin  \\\n",
       "0  7927b2df-8bba-4d29-b9a2-b6e0beafe620       660737                      API   \n",
       "1  2a272436-5132-4136-86fa-dcc88c88f482       660728                      API   \n",
       "2  8cc8c611-a219-4f35-ad23-fdfd2656bd8a       660727  Landing Page Submission   \n",
       "3  0cc2df48-7cf4-4e39-9de9-19797f9b38cc       660719  Landing Page Submission   \n",
       "4  3256f628-e534-4826-9d63-4a8b88782852       660681  Landing Page Submission   \n",
       "\n",
       "      Lead Source Do Not Email Do Not Call  Converted  TotalVisits  \\\n",
       "0      Olark Chat           No          No          0          0.0   \n",
       "1  Organic Search           No          No          0          5.0   \n",
       "2  Direct Traffic           No          No          1          2.0   \n",
       "3  Direct Traffic           No          No          0          1.0   \n",
       "4          Google           No          No          1          2.0   \n",
       "\n",
       "   Total Time Spent on Website  Page Views Per Visit  ...  \\\n",
       "0                            0                   0.0  ...   \n",
       "1                          674                   2.5  ...   \n",
       "2                         1532                   2.0  ...   \n",
       "3                          305                   1.0  ...   \n",
       "4                         1428                   1.0  ...   \n",
       "\n",
       "  Get updates on DM Content    Lead Profile    City  \\\n",
       "0                        No          Select  Select   \n",
       "1                        No          Select  Select   \n",
       "2                        No  Potential Lead  Mumbai   \n",
       "3                        No          Select  Mumbai   \n",
       "4                        No          Select  Mumbai   \n",
       "\n",
       "  Asymmetrique Activity Index Asymmetrique Profile Index  \\\n",
       "0                   02.Medium                  02.Medium   \n",
       "1                   02.Medium                  02.Medium   \n",
       "2                   02.Medium                    01.High   \n",
       "3                   02.Medium                    01.High   \n",
       "4                   02.Medium                    01.High   \n",
       "\n",
       "  Asymmetrique Activity Score Asymmetrique Profile Score  \\\n",
       "0                        15.0                       15.0   \n",
       "1                        15.0                       15.0   \n",
       "2                        14.0                       20.0   \n",
       "3                        13.0                       17.0   \n",
       "4                        15.0                       18.0   \n",
       "\n",
       "  I agree to pay the amount through cheque  \\\n",
       "0                                       No   \n",
       "1                                       No   \n",
       "2                                       No   \n",
       "3                                       No   \n",
       "4                                       No   \n",
       "\n",
       "  A free copy of Mastering The Interview Last Notable Activity  \n",
       "0                                     No              Modified  \n",
       "1                                     No          Email Opened  \n",
       "2                                    Yes          Email Opened  \n",
       "3                                     No              Modified  \n",
       "4                                     No              Modified  \n",
       "\n",
       "[5 rows x 37 columns]"
      ]
     },
     "execution_count": 2,
     "metadata": {},
     "output_type": "execute_result"
    }
   ],
   "source": [
    "lead_data = pd.read_csv(r\"E:\\My certificates\\Lead score assignment\\Assignment Lead+Scoring+Case+Study\\Lead Scoring Assignment\\Leads.csv\")\n",
    "lead_data.head()"
   ]
  },
  {
   "cell_type": "markdown",
   "id": "120160b7",
   "metadata": {},
   "source": [
    "# let us uderstand the columns and data types"
   ]
  },
  {
   "cell_type": "code",
   "execution_count": 3,
   "id": "ef1593a8",
   "metadata": {},
   "outputs": [
    {
     "data": {
      "text/plain": [
       "(9240, 37)"
      ]
     },
     "execution_count": 3,
     "metadata": {},
     "output_type": "execute_result"
    }
   ],
   "source": [
    "lead_data.shape"
   ]
  },
  {
   "cell_type": "code",
   "execution_count": 4,
   "id": "d4d127a5",
   "metadata": {},
   "outputs": [
    {
     "name": "stdout",
     "output_type": "stream",
     "text": [
      "<class 'pandas.core.frame.DataFrame'>\n",
      "RangeIndex: 9240 entries, 0 to 9239\n",
      "Data columns (total 37 columns):\n",
      " #   Column                                         Non-Null Count  Dtype  \n",
      "---  ------                                         --------------  -----  \n",
      " 0   Prospect ID                                    9240 non-null   object \n",
      " 1   Lead Number                                    9240 non-null   int64  \n",
      " 2   Lead Origin                                    9240 non-null   object \n",
      " 3   Lead Source                                    9204 non-null   object \n",
      " 4   Do Not Email                                   9240 non-null   object \n",
      " 5   Do Not Call                                    9240 non-null   object \n",
      " 6   Converted                                      9240 non-null   int64  \n",
      " 7   TotalVisits                                    9103 non-null   float64\n",
      " 8   Total Time Spent on Website                    9240 non-null   int64  \n",
      " 9   Page Views Per Visit                           9103 non-null   float64\n",
      " 10  Last Activity                                  9137 non-null   object \n",
      " 11  Country                                        6779 non-null   object \n",
      " 12  Specialization                                 7802 non-null   object \n",
      " 13  How did you hear about X Education             7033 non-null   object \n",
      " 14  What is your current occupation                6550 non-null   object \n",
      " 15  What matters most to you in choosing a course  6531 non-null   object \n",
      " 16  Search                                         9240 non-null   object \n",
      " 17  Magazine                                       9240 non-null   object \n",
      " 18  Newspaper Article                              9240 non-null   object \n",
      " 19  X Education Forums                             9240 non-null   object \n",
      " 20  Newspaper                                      9240 non-null   object \n",
      " 21  Digital Advertisement                          9240 non-null   object \n",
      " 22  Through Recommendations                        9240 non-null   object \n",
      " 23  Receive More Updates About Our Courses         9240 non-null   object \n",
      " 24  Tags                                           5887 non-null   object \n",
      " 25  Lead Quality                                   4473 non-null   object \n",
      " 26  Update me on Supply Chain Content              9240 non-null   object \n",
      " 27  Get updates on DM Content                      9240 non-null   object \n",
      " 28  Lead Profile                                   6531 non-null   object \n",
      " 29  City                                           7820 non-null   object \n",
      " 30  Asymmetrique Activity Index                    5022 non-null   object \n",
      " 31  Asymmetrique Profile Index                     5022 non-null   object \n",
      " 32  Asymmetrique Activity Score                    5022 non-null   float64\n",
      " 33  Asymmetrique Profile Score                     5022 non-null   float64\n",
      " 34  I agree to pay the amount through cheque       9240 non-null   object \n",
      " 35  A free copy of Mastering The Interview         9240 non-null   object \n",
      " 36  Last Notable Activity                          9240 non-null   object \n",
      "dtypes: float64(4), int64(3), object(30)\n",
      "memory usage: 2.6+ MB\n"
     ]
    }
   ],
   "source": [
    "lead_data.info()"
   ]
  },
  {
   "cell_type": "code",
   "execution_count": 5,
   "id": "1f958c3f",
   "metadata": {},
   "outputs": [],
   "source": [
    "# There are different types of data availabe in the data set. Also we can see there are also null values in the columns.\n"
   ]
  },
  {
   "cell_type": "code",
   "execution_count": 6,
   "id": "421e5bab",
   "metadata": {},
   "outputs": [
    {
     "data": {
      "text/html": [
       "<div>\n",
       "<style scoped>\n",
       "    .dataframe tbody tr th:only-of-type {\n",
       "        vertical-align: middle;\n",
       "    }\n",
       "\n",
       "    .dataframe tbody tr th {\n",
       "        vertical-align: top;\n",
       "    }\n",
       "\n",
       "    .dataframe thead th {\n",
       "        text-align: right;\n",
       "    }\n",
       "</style>\n",
       "<table border=\"1\" class=\"dataframe\">\n",
       "  <thead>\n",
       "    <tr style=\"text-align: right;\">\n",
       "      <th></th>\n",
       "      <th>Lead Number</th>\n",
       "      <th>Converted</th>\n",
       "      <th>TotalVisits</th>\n",
       "      <th>Total Time Spent on Website</th>\n",
       "      <th>Page Views Per Visit</th>\n",
       "      <th>Asymmetrique Activity Score</th>\n",
       "      <th>Asymmetrique Profile Score</th>\n",
       "    </tr>\n",
       "  </thead>\n",
       "  <tbody>\n",
       "    <tr>\n",
       "      <th>count</th>\n",
       "      <td>9240.000000</td>\n",
       "      <td>9240.000000</td>\n",
       "      <td>9103.000000</td>\n",
       "      <td>9240.000000</td>\n",
       "      <td>9103.000000</td>\n",
       "      <td>5022.000000</td>\n",
       "      <td>5022.000000</td>\n",
       "    </tr>\n",
       "    <tr>\n",
       "      <th>mean</th>\n",
       "      <td>617188.435606</td>\n",
       "      <td>0.385390</td>\n",
       "      <td>3.445238</td>\n",
       "      <td>487.698268</td>\n",
       "      <td>2.362820</td>\n",
       "      <td>14.306252</td>\n",
       "      <td>16.344883</td>\n",
       "    </tr>\n",
       "    <tr>\n",
       "      <th>std</th>\n",
       "      <td>23405.995698</td>\n",
       "      <td>0.486714</td>\n",
       "      <td>4.854853</td>\n",
       "      <td>548.021466</td>\n",
       "      <td>2.161418</td>\n",
       "      <td>1.386694</td>\n",
       "      <td>1.811395</td>\n",
       "    </tr>\n",
       "    <tr>\n",
       "      <th>min</th>\n",
       "      <td>579533.000000</td>\n",
       "      <td>0.000000</td>\n",
       "      <td>0.000000</td>\n",
       "      <td>0.000000</td>\n",
       "      <td>0.000000</td>\n",
       "      <td>7.000000</td>\n",
       "      <td>11.000000</td>\n",
       "    </tr>\n",
       "    <tr>\n",
       "      <th>25%</th>\n",
       "      <td>596484.500000</td>\n",
       "      <td>0.000000</td>\n",
       "      <td>1.000000</td>\n",
       "      <td>12.000000</td>\n",
       "      <td>1.000000</td>\n",
       "      <td>14.000000</td>\n",
       "      <td>15.000000</td>\n",
       "    </tr>\n",
       "    <tr>\n",
       "      <th>50%</th>\n",
       "      <td>615479.000000</td>\n",
       "      <td>0.000000</td>\n",
       "      <td>3.000000</td>\n",
       "      <td>248.000000</td>\n",
       "      <td>2.000000</td>\n",
       "      <td>14.000000</td>\n",
       "      <td>16.000000</td>\n",
       "    </tr>\n",
       "    <tr>\n",
       "      <th>75%</th>\n",
       "      <td>637387.250000</td>\n",
       "      <td>1.000000</td>\n",
       "      <td>5.000000</td>\n",
       "      <td>936.000000</td>\n",
       "      <td>3.000000</td>\n",
       "      <td>15.000000</td>\n",
       "      <td>18.000000</td>\n",
       "    </tr>\n",
       "    <tr>\n",
       "      <th>max</th>\n",
       "      <td>660737.000000</td>\n",
       "      <td>1.000000</td>\n",
       "      <td>251.000000</td>\n",
       "      <td>2272.000000</td>\n",
       "      <td>55.000000</td>\n",
       "      <td>18.000000</td>\n",
       "      <td>20.000000</td>\n",
       "    </tr>\n",
       "  </tbody>\n",
       "</table>\n",
       "</div>"
      ],
      "text/plain": [
       "         Lead Number    Converted  TotalVisits  Total Time Spent on Website  \\\n",
       "count    9240.000000  9240.000000  9103.000000                  9240.000000   \n",
       "mean   617188.435606     0.385390     3.445238                   487.698268   \n",
       "std     23405.995698     0.486714     4.854853                   548.021466   \n",
       "min    579533.000000     0.000000     0.000000                     0.000000   \n",
       "25%    596484.500000     0.000000     1.000000                    12.000000   \n",
       "50%    615479.000000     0.000000     3.000000                   248.000000   \n",
       "75%    637387.250000     1.000000     5.000000                   936.000000   \n",
       "max    660737.000000     1.000000   251.000000                  2272.000000   \n",
       "\n",
       "       Page Views Per Visit  Asymmetrique Activity Score  \\\n",
       "count           9103.000000                  5022.000000   \n",
       "mean               2.362820                    14.306252   \n",
       "std                2.161418                     1.386694   \n",
       "min                0.000000                     7.000000   \n",
       "25%                1.000000                    14.000000   \n",
       "50%                2.000000                    14.000000   \n",
       "75%                3.000000                    15.000000   \n",
       "max               55.000000                    18.000000   \n",
       "\n",
       "       Asymmetrique Profile Score  \n",
       "count                 5022.000000  \n",
       "mean                    16.344883  \n",
       "std                      1.811395  \n",
       "min                     11.000000  \n",
       "25%                     15.000000  \n",
       "50%                     16.000000  \n",
       "75%                     18.000000  \n",
       "max                     20.000000  "
      ]
     },
     "execution_count": 6,
     "metadata": {},
     "output_type": "execute_result"
    }
   ],
   "source": [
    "lead_data.describe()"
   ]
  },
  {
   "cell_type": "code",
   "execution_count": 7,
   "id": "747f5ab6",
   "metadata": {},
   "outputs": [
    {
     "data": {
      "text/plain": [
       "0"
      ]
     },
     "execution_count": 7,
     "metadata": {},
     "output_type": "execute_result"
    }
   ],
   "source": [
    "lead_data.duplicated().sum()"
   ]
  },
  {
   "cell_type": "code",
   "execution_count": 8,
   "id": "9c0bb881",
   "metadata": {},
   "outputs": [
    {
     "data": {
      "text/plain": [
       "Prospect ID                                         0\n",
       "Lead Number                                         0\n",
       "Lead Origin                                         0\n",
       "Lead Source                                        36\n",
       "Do Not Email                                        0\n",
       "Do Not Call                                         0\n",
       "Converted                                           0\n",
       "TotalVisits                                       137\n",
       "Total Time Spent on Website                         0\n",
       "Page Views Per Visit                              137\n",
       "Last Activity                                     103\n",
       "Country                                          2461\n",
       "Specialization                                   1438\n",
       "How did you hear about X Education               2207\n",
       "What is your current occupation                  2690\n",
       "What matters most to you in choosing a course    2709\n",
       "Search                                              0\n",
       "Magazine                                            0\n",
       "Newspaper Article                                   0\n",
       "X Education Forums                                  0\n",
       "Newspaper                                           0\n",
       "Digital Advertisement                               0\n",
       "Through Recommendations                             0\n",
       "Receive More Updates About Our Courses              0\n",
       "Tags                                             3353\n",
       "Lead Quality                                     4767\n",
       "Update me on Supply Chain Content                   0\n",
       "Get updates on DM Content                           0\n",
       "Lead Profile                                     2709\n",
       "City                                             1420\n",
       "Asymmetrique Activity Index                      4218\n",
       "Asymmetrique Profile Index                       4218\n",
       "Asymmetrique Activity Score                      4218\n",
       "Asymmetrique Profile Score                       4218\n",
       "I agree to pay the amount through cheque            0\n",
       "A free copy of Mastering The Interview              0\n",
       "Last Notable Activity                               0\n",
       "dtype: int64"
      ]
     },
     "execution_count": 8,
     "metadata": {},
     "output_type": "execute_result"
    }
   ],
   "source": [
    "lead_data.isnull().sum()"
   ]
  },
  {
   "cell_type": "markdown",
   "id": "3dbcadbb",
   "metadata": {},
   "source": [
    "#Let us treat the columns with null values. Columns with more than 30 % null values can be dropped"
   ]
  },
  {
   "cell_type": "code",
   "execution_count": 9,
   "id": "a3294c5d",
   "metadata": {},
   "outputs": [
    {
     "data": {
      "text/plain": [
       "9240"
      ]
     },
     "execution_count": 9,
     "metadata": {},
     "output_type": "execute_result"
    }
   ],
   "source": [
    "lead_data.shape[0]"
   ]
  },
  {
   "cell_type": "code",
   "execution_count": 10,
   "id": "2f68aae6",
   "metadata": {},
   "outputs": [],
   "source": [
    "for col in lead_data.columns:\n",
    "    if lead_data[col].isnull().sum() > 0.3 * lead_data.shape[0]:\n",
    "        lead_data.drop(col, 1, inplace = True)"
   ]
  },
  {
   "cell_type": "code",
   "execution_count": 11,
   "id": "de599184",
   "metadata": {},
   "outputs": [
    {
     "data": {
      "text/plain": [
       "(9240, 31)"
      ]
     },
     "execution_count": 11,
     "metadata": {},
     "output_type": "execute_result"
    }
   ],
   "source": [
    "lead_data.shape"
   ]
  },
  {
   "cell_type": "code",
   "execution_count": 12,
   "id": "613c83ef",
   "metadata": {},
   "outputs": [
    {
     "data": {
      "text/plain": [
       "Prospect ID                                         0\n",
       "Lead Number                                         0\n",
       "Lead Origin                                         0\n",
       "Lead Source                                        36\n",
       "Do Not Email                                        0\n",
       "Do Not Call                                         0\n",
       "Converted                                           0\n",
       "TotalVisits                                       137\n",
       "Total Time Spent on Website                         0\n",
       "Page Views Per Visit                              137\n",
       "Last Activity                                     103\n",
       "Country                                          2461\n",
       "Specialization                                   1438\n",
       "How did you hear about X Education               2207\n",
       "What is your current occupation                  2690\n",
       "What matters most to you in choosing a course    2709\n",
       "Search                                              0\n",
       "Magazine                                            0\n",
       "Newspaper Article                                   0\n",
       "X Education Forums                                  0\n",
       "Newspaper                                           0\n",
       "Digital Advertisement                               0\n",
       "Through Recommendations                             0\n",
       "Receive More Updates About Our Courses              0\n",
       "Update me on Supply Chain Content                   0\n",
       "Get updates on DM Content                           0\n",
       "Lead Profile                                     2709\n",
       "City                                             1420\n",
       "I agree to pay the amount through cheque            0\n",
       "A free copy of Mastering The Interview              0\n",
       "Last Notable Activity                               0\n",
       "dtype: int64"
      ]
     },
     "execution_count": 12,
     "metadata": {},
     "output_type": "execute_result"
    }
   ],
   "source": [
    "lead_data.isnull().sum()"
   ]
  },
  {
   "cell_type": "code",
   "execution_count": 13,
   "id": "9fa4f522",
   "metadata": {},
   "outputs": [
    {
     "data": {
      "text/plain": [
       "India                   6492\n",
       "United States             69\n",
       "United Arab Emirates      53\n",
       "Singapore                 24\n",
       "Saudi Arabia              21\n",
       "United Kingdom            15\n",
       "Australia                 13\n",
       "Qatar                     10\n",
       "Hong Kong                  7\n",
       "Bahrain                    7\n",
       "Oman                       6\n",
       "France                     6\n",
       "unknown                    5\n",
       "South Africa               4\n",
       "Nigeria                    4\n",
       "Germany                    4\n",
       "Kuwait                     4\n",
       "Canada                     4\n",
       "Sweden                     3\n",
       "China                      2\n",
       "Asia/Pacific Region        2\n",
       "Uganda                     2\n",
       "Bangladesh                 2\n",
       "Italy                      2\n",
       "Belgium                    2\n",
       "Netherlands                2\n",
       "Ghana                      2\n",
       "Philippines                2\n",
       "Russia                     1\n",
       "Switzerland                1\n",
       "Vietnam                    1\n",
       "Denmark                    1\n",
       "Tanzania                   1\n",
       "Liberia                    1\n",
       "Malaysia                   1\n",
       "Kenya                      1\n",
       "Sri Lanka                  1\n",
       "Indonesia                  1\n",
       "Name: Country, dtype: int64"
      ]
     },
     "execution_count": 13,
     "metadata": {},
     "output_type": "execute_result"
    }
   ],
   "source": [
    "lead_data['Country'].value_counts()"
   ]
  },
  {
   "cell_type": "markdown",
   "id": "4979a56f",
   "metadata": {},
   "source": [
    "#This column has the distribution skewed. So we can drop the column."
   ]
  },
  {
   "cell_type": "code",
   "execution_count": 14,
   "id": "2bba22f4",
   "metadata": {},
   "outputs": [],
   "source": [
    "lead_data.drop(['Country'], axis = 1, inplace = True)"
   ]
  },
  {
   "cell_type": "code",
   "execution_count": 15,
   "id": "1ec0d9a9",
   "metadata": {},
   "outputs": [
    {
     "data": {
      "text/plain": [
       "Unemployed              60.606061\n",
       "NaN                     29.112554\n",
       "Working Professional     7.640693\n",
       "Student                  2.272727\n",
       "Other                    0.173160\n",
       "Housewife                0.108225\n",
       "Businessman              0.086580\n",
       "Name: What is your current occupation, dtype: float64"
      ]
     },
     "execution_count": 15,
     "metadata": {},
     "output_type": "execute_result"
    }
   ],
   "source": [
    "lead_data['What is your current occupation'].value_counts(normalize = True, dropna = False)*100"
   ]
  },
  {
   "cell_type": "code",
   "execution_count": 16,
   "id": "075e1230",
   "metadata": {},
   "outputs": [],
   "source": [
    "#let us remove the rows with null values"
   ]
  },
  {
   "cell_type": "code",
   "execution_count": 17,
   "id": "c15db53e",
   "metadata": {},
   "outputs": [],
   "source": [
    "lead_data = lead_data[~pd.isnull(lead_data['What is your current occupation'])]\n"
   ]
  },
  {
   "cell_type": "code",
   "execution_count": 18,
   "id": "252d88a5",
   "metadata": {},
   "outputs": [
    {
     "data": {
      "text/plain": [
       "Select                         63.297710\n",
       "Potential Lead                 24.625954\n",
       "Other Leads                     7.435115\n",
       "Student of SomeSchool           3.679389\n",
       "Lateral Student                 0.366412\n",
       "Dual Specialization Student     0.305344\n",
       "NaN                             0.290076\n",
       "Name: Lead Profile, dtype: float64"
      ]
     },
     "execution_count": 18,
     "metadata": {},
     "output_type": "execute_result"
    }
   ],
   "source": [
    "lead_data['Lead Profile'].value_counts(normalize = True, dropna = False)*100"
   ]
  },
  {
   "cell_type": "markdown",
   "id": "49306b96",
   "metadata": {},
   "source": [
    "##In this column select seems to be a null value. Let us drop this column."
   ]
  },
  {
   "cell_type": "code",
   "execution_count": 19,
   "id": "a8c0b0cb",
   "metadata": {},
   "outputs": [],
   "source": [
    "lead_data.drop(['Lead Profile'], axis = 1, inplace = True)"
   ]
  },
  {
   "cell_type": "code",
   "execution_count": 20,
   "id": "0616ba89",
   "metadata": {},
   "outputs": [
    {
     "data": {
      "text/plain": [
       "Mumbai                         2489\n",
       "Select                         2249\n",
       "Thane & Outskirts               592\n",
       "Other Cities                    524\n",
       "Other Cities of Maharashtra     350\n",
       "Other Metro Cities              293\n",
       "Tier II Cities                   53\n",
       "Name: City, dtype: int64"
      ]
     },
     "execution_count": 20,
     "metadata": {},
     "output_type": "execute_result"
    }
   ],
   "source": [
    "lead_data['City'].value_counts()"
   ]
  },
  {
   "cell_type": "code",
   "execution_count": 21,
   "id": "f2e467ca",
   "metadata": {},
   "outputs": [],
   "source": [
    "lead_data['City'] = lead_data['City'].replace('Select','Mumbai')"
   ]
  },
  {
   "cell_type": "code",
   "execution_count": 22,
   "id": "c707d08e",
   "metadata": {},
   "outputs": [
    {
     "data": {
      "text/plain": [
       "Mumbai                         4738\n",
       "Thane & Outskirts               592\n",
       "Other Cities                    524\n",
       "Other Cities of Maharashtra     350\n",
       "Other Metro Cities              293\n",
       "Tier II Cities                   53\n",
       "Name: City, dtype: int64"
      ]
     },
     "execution_count": 22,
     "metadata": {},
     "output_type": "execute_result"
    }
   ],
   "source": [
    "lead_data['City'].value_counts()"
   ]
  },
  {
   "cell_type": "code",
   "execution_count": 23,
   "id": "d3807986",
   "metadata": {},
   "outputs": [
    {
     "data": {
      "text/plain": [
       "Better Career Prospects      99.664122\n",
       "NaN                           0.290076\n",
       "Flexibility & Convenience     0.030534\n",
       "Other                         0.015267\n",
       "Name: What matters most to you in choosing a course, dtype: float64"
      ]
     },
     "execution_count": 23,
     "metadata": {},
     "output_type": "execute_result"
    }
   ],
   "source": [
    "lead_data['What matters most to you in choosing a course'].value_counts(normalize = True, dropna = False)* 100 "
   ]
  },
  {
   "cell_type": "code",
   "execution_count": 24,
   "id": "1c292b7a",
   "metadata": {},
   "outputs": [],
   "source": [
    "# Let's drop this column as it seems to skewed."
   ]
  },
  {
   "cell_type": "code",
   "execution_count": 25,
   "id": "4f9298ec",
   "metadata": {},
   "outputs": [],
   "source": [
    "lead_data.drop(['What matters most to you in choosing a course'], axis = 1, inplace=True)"
   ]
  },
  {
   "cell_type": "code",
   "execution_count": 26,
   "id": "98ecf653",
   "metadata": {},
   "outputs": [
    {
     "data": {
      "text/plain": [
       "Select                   5043\n",
       "Online Search             604\n",
       "Word Of Mouth             251\n",
       "Student of SomeSchool     238\n",
       "Other                     145\n",
       "Multiple Sources          113\n",
       "Social Media               53\n",
       "Advertisements             50\n",
       "Email                      22\n",
       "SMS                        12\n",
       "Name: How did you hear about X Education, dtype: int64"
      ]
     },
     "execution_count": 26,
     "metadata": {},
     "output_type": "execute_result"
    }
   ],
   "source": [
    "lead_data['How did you hear about X Education'].value_counts() "
   ]
  },
  {
   "cell_type": "code",
   "execution_count": 27,
   "id": "abafb01b",
   "metadata": {},
   "outputs": [
    {
     "data": {
      "text/plain": [
       "Select                               1929\n",
       "Finance Management                    762\n",
       "Marketing Management                  678\n",
       "Human Resource Management             676\n",
       "Operations Management                 395\n",
       "Business Administration               314\n",
       "Supply Chain Management               278\n",
       "IT Projects Management                278\n",
       "Banking, Investment And Insurance     269\n",
       "Media and Advertising                 162\n",
       "Travel and Tourism                    150\n",
       "International Business                138\n",
       "Healthcare Management                 125\n",
       "Hospitality Management                 93\n",
       "E-COMMERCE                             81\n",
       "Retail Management                      78\n",
       "Rural and Agribusiness                 58\n",
       "E-Business                             43\n",
       "Services Excellence                    25\n",
       "Name: Specialization, dtype: int64"
      ]
     },
     "execution_count": 27,
     "metadata": {},
     "output_type": "execute_result"
    }
   ],
   "source": [
    "lead_data['Specialization'].value_counts() "
   ]
  },
  {
   "cell_type": "code",
   "execution_count": 28,
   "id": "7b13d2e5",
   "metadata": {},
   "outputs": [],
   "source": [
    "##This distribution seems good but needs categorisation.categories based on the course type, and then impute proportionally to maintain the distribution "
   ]
  },
  {
   "cell_type": "code",
   "execution_count": 29,
   "id": "28cfb289",
   "metadata": {},
   "outputs": [],
   "source": [
    "# categorize all management courses\n",
    "lead_data.loc[(lead_data.Specialization == 'Finance Management') | (lead_data.Specialization == 'Human Resource Management') | \n",
    "       (lead_data.Specialization == 'Marketing Management') |  (lead_data.Specialization == 'Operations Management') |\n",
    "       (lead_data.Specialization == 'IT Projects Management') | (lead_data.Specialization == 'Supply Chain Management') |\n",
    "       (lead_data.Specialization == 'Healthcare Management') | (lead_data.Specialization == 'Hospitality Management') |\n",
    "       (lead_data.Specialization == 'Retail Management') , 'Specialization'] = 'Management Specializations'\n",
    "\n",
    "# categorize all busines courses\n",
    "lead_data.loc[(lead_data.Specialization == 'Business Administration') | (lead_data.Specialization == 'International Business') | \n",
    "       (lead_data.Specialization == 'Rural and Agribusiness') | (lead_data.Specialization == 'E-Business') \n",
    "        , 'Specialization'] = 'Business Specializations'\n",
    "\n",
    "# categorize all industry courses\n",
    "lead_data.loc[(lead_data.Specialization == 'Banking, Investment And Insurance') | (lead_data.Specialization == 'Media and Advertising') |\n",
    "       (lead_data.Specialization == 'Travel and Tourism') | (lead_data.Specialization == 'Services Excellence') |\n",
    "       (lead_data.Specialization == 'E-COMMERCE'), 'Specialization'] = 'Industry Specializations'"
   ]
  },
  {
   "cell_type": "code",
   "execution_count": 30,
   "id": "cf3daefb",
   "metadata": {},
   "outputs": [
    {
     "data": {
      "text/plain": [
       "Management Specializations    3363\n",
       "Select                        1929\n",
       "Industry Specializations       687\n",
       "Business Specializations       553\n",
       "Name: Specialization, dtype: int64"
      ]
     },
     "execution_count": 30,
     "metadata": {},
     "output_type": "execute_result"
    }
   ],
   "source": [
    "lead_data['Specialization'].value_counts() "
   ]
  },
  {
   "cell_type": "code",
   "execution_count": 31,
   "id": "1e1733bb",
   "metadata": {},
   "outputs": [],
   "source": [
    "# impute proportionately\n",
    "lead_data['Specialization'] = lead_data.Specialization.fillna(pd.Series(np.random.choice(['Management Specializations',  \n",
    "                                                    'Business Specializations', 'Industry Specializations'], \n",
    "                                                                   p = [0.7258, 0.1213, 0.1529 ], size = len(lead_data))))"
   ]
  },
  {
   "cell_type": "code",
   "execution_count": 32,
   "id": "3f9f8c45",
   "metadata": {},
   "outputs": [
    {
     "data": {
      "text/plain": [
       "Management Specializations    3375\n",
       "Select                        1929\n",
       "Industry Specializations       690\n",
       "Business Specializations       554\n",
       "Name: Specialization, dtype: int64"
      ]
     },
     "execution_count": 32,
     "metadata": {},
     "output_type": "execute_result"
    }
   ],
   "source": [
    "lead_data['Specialization'].value_counts() "
   ]
  },
  {
   "cell_type": "code",
   "execution_count": 33,
   "id": "22df4364",
   "metadata": {},
   "outputs": [],
   "source": [
    "lead_data['Specialization'] = lead_data['Specialization'].replace('Select','Management Specializations')"
   ]
  },
  {
   "cell_type": "code",
   "execution_count": 34,
   "id": "6bc422bd",
   "metadata": {},
   "outputs": [
    {
     "data": {
      "text/plain": [
       "Management Specializations    5304\n",
       "Industry Specializations       690\n",
       "Business Specializations       554\n",
       "Name: Specialization, dtype: int64"
      ]
     },
     "execution_count": 34,
     "metadata": {},
     "output_type": "execute_result"
    }
   ],
   "source": [
    "lead_data['Specialization'].value_counts() "
   ]
  },
  {
   "cell_type": "code",
   "execution_count": 35,
   "id": "1106e2e4",
   "metadata": {},
   "outputs": [
    {
     "data": {
      "text/plain": [
       "Prospect ID                                   0\n",
       "Lead Number                                   0\n",
       "Lead Origin                                   0\n",
       "Lead Source                                  36\n",
       "Do Not Email                                  0\n",
       "Do Not Call                                   0\n",
       "Converted                                     0\n",
       "TotalVisits                                 130\n",
       "Total Time Spent on Website                   0\n",
       "Page Views Per Visit                        130\n",
       "Last Activity                               103\n",
       "Specialization                                2\n",
       "How did you hear about X Education           19\n",
       "What is your current occupation               0\n",
       "Search                                        0\n",
       "Magazine                                      0\n",
       "Newspaper Article                             0\n",
       "X Education Forums                            0\n",
       "Newspaper                                     0\n",
       "Digital Advertisement                         0\n",
       "Through Recommendations                       0\n",
       "Receive More Updates About Our Courses        0\n",
       "Update me on Supply Chain Content             0\n",
       "Get updates on DM Content                     0\n",
       "City                                          0\n",
       "I agree to pay the amount through cheque      0\n",
       "A free copy of Mastering The Interview        0\n",
       "Last Notable Activity                         0\n",
       "dtype: int64"
      ]
     },
     "execution_count": 35,
     "metadata": {},
     "output_type": "execute_result"
    }
   ],
   "source": [
    "lead_data.isnull().sum()"
   ]
  },
  {
   "cell_type": "code",
   "execution_count": 36,
   "id": "657fd213",
   "metadata": {},
   "outputs": [
    {
     "data": {
      "text/plain": [
       "(6550, 28)"
      ]
     },
     "execution_count": 36,
     "metadata": {},
     "output_type": "execute_result"
    }
   ],
   "source": [
    "lead_data.shape"
   ]
  },
  {
   "cell_type": "code",
   "execution_count": 37,
   "id": "a98fd836",
   "metadata": {},
   "outputs": [
    {
     "data": {
      "text/plain": [
       "Google               31.267176\n",
       "Direct Traffic       28.870229\n",
       "Olark Chat           13.633588\n",
       "Organic Search       13.282443\n",
       "Reference             8.152672\n",
       "Welingak Website      2.167939\n",
       "Referral Sites        1.145038\n",
       "Facebook              0.702290\n",
       "NaN                   0.549618\n",
       "Click2call            0.061069\n",
       "bing                  0.045802\n",
       "Social Media          0.030534\n",
       "Live Chat             0.030534\n",
       "Pay per Click Ads     0.015267\n",
       "WeLearn               0.015267\n",
       "testone               0.015267\n",
       "Press_Release         0.015267\n",
       "Name: Lead Source, dtype: float64"
      ]
     },
     "execution_count": 37,
     "metadata": {},
     "output_type": "execute_result"
    }
   ],
   "source": [
    "lead_data['Lead Source'].value_counts(normalize = True, dropna = False)*100 "
   ]
  },
  {
   "cell_type": "code",
   "execution_count": 38,
   "id": "59a28641",
   "metadata": {},
   "outputs": [],
   "source": [
    "lead_data = lead_data[~pd.isnull(lead_data['Last Activity'])]"
   ]
  },
  {
   "cell_type": "code",
   "execution_count": 39,
   "id": "8097f600",
   "metadata": {},
   "outputs": [],
   "source": [
    "lead_data = lead_data[~pd.isnull(lead_data['Lead Source'])]"
   ]
  },
  {
   "cell_type": "code",
   "execution_count": 40,
   "id": "7648466e",
   "metadata": {},
   "outputs": [],
   "source": [
    "lead_data = lead_data[~pd.isnull(lead_data['TotalVisits'])]"
   ]
  },
  {
   "cell_type": "code",
   "execution_count": 41,
   "id": "7326a798",
   "metadata": {},
   "outputs": [],
   "source": [
    "lead_data = lead_data[~pd.isnull(lead_data['Page Views Per Visit'])]"
   ]
  },
  {
   "cell_type": "code",
   "execution_count": 42,
   "id": "c7c26edf",
   "metadata": {},
   "outputs": [],
   "source": [
    "lead_data = lead_data[~pd.isnull(lead_data['Specialization'])]"
   ]
  },
  {
   "cell_type": "code",
   "execution_count": 43,
   "id": "2a985d2e",
   "metadata": {},
   "outputs": [],
   "source": [
    "lead_data = lead_data[~pd.isnull(lead_data['How did you hear about X Education'])]"
   ]
  },
  {
   "cell_type": "code",
   "execution_count": 44,
   "id": "9a2423fe",
   "metadata": {},
   "outputs": [
    {
     "data": {
      "text/plain": [
       "Prospect ID                                 0\n",
       "Lead Number                                 0\n",
       "Lead Origin                                 0\n",
       "Lead Source                                 0\n",
       "Do Not Email                                0\n",
       "Do Not Call                                 0\n",
       "Converted                                   0\n",
       "TotalVisits                                 0\n",
       "Total Time Spent on Website                 0\n",
       "Page Views Per Visit                        0\n",
       "Last Activity                               0\n",
       "Specialization                              0\n",
       "How did you hear about X Education          0\n",
       "What is your current occupation             0\n",
       "Search                                      0\n",
       "Magazine                                    0\n",
       "Newspaper Article                           0\n",
       "X Education Forums                          0\n",
       "Newspaper                                   0\n",
       "Digital Advertisement                       0\n",
       "Through Recommendations                     0\n",
       "Receive More Updates About Our Courses      0\n",
       "Update me on Supply Chain Content           0\n",
       "Get updates on DM Content                   0\n",
       "City                                        0\n",
       "I agree to pay the amount through cheque    0\n",
       "A free copy of Mastering The Interview      0\n",
       "Last Notable Activity                       0\n",
       "dtype: int64"
      ]
     },
     "execution_count": 44,
     "metadata": {},
     "output_type": "execute_result"
    }
   ],
   "source": [
    "lead_data.isnull().sum()"
   ]
  },
  {
   "cell_type": "code",
   "execution_count": 45,
   "id": "651ab8f9",
   "metadata": {},
   "outputs": [
    {
     "data": {
      "text/plain": [
       "(6372, 28)"
      ]
     },
     "execution_count": 45,
     "metadata": {},
     "output_type": "execute_result"
    }
   ],
   "source": [
    "lead_data.shape"
   ]
  },
  {
   "cell_type": "markdown",
   "id": "2da8e057",
   "metadata": {},
   "source": [
    "##Initially there were a total of 9240 rows and now it is 6372 rows. which is 69 percent of the data. It seems still we have sufficient data to prepare our model"
   ]
  },
  {
   "cell_type": "markdown",
   "id": "51bd66ae",
   "metadata": {},
   "source": [
    "Let us understand these variables"
   ]
  },
  {
   "cell_type": "code",
   "execution_count": 46,
   "id": "895a5e55",
   "metadata": {},
   "outputs": [
    {
     "name": "stdout",
     "output_type": "stream",
     "text": [
      "Prospect ID = 6372\n",
      "Lead Origin = 4\n",
      "Lead Source = 16\n",
      "Do Not Email = 2\n",
      "Do Not Call = 2\n",
      "Last Activity = 16\n",
      "Specialization = 3\n",
      "How did you hear about X Education = 10\n",
      "What is your current occupation = 6\n",
      "Search = 2\n",
      "Magazine = 1\n",
      "Newspaper Article = 2\n",
      "X Education Forums = 1\n",
      "Newspaper = 2\n",
      "Digital Advertisement = 2\n",
      "Through Recommendations = 2\n",
      "Receive More Updates About Our Courses = 1\n",
      "Update me on Supply Chain Content = 1\n",
      "Get updates on DM Content = 1\n",
      "City = 6\n",
      "I agree to pay the amount through cheque = 1\n",
      "A free copy of Mastering The Interview = 2\n",
      "Last Notable Activity = 14\n"
     ]
    }
   ],
   "source": [
    "# determine unique values for all object datatype columns\n",
    "for k, v in lead_data.select_dtypes(include='object').nunique().to_dict().items():\n",
    "    print('{} = {}'.format(k,v))"
   ]
  },
  {
   "cell_type": "code",
   "execution_count": 47,
   "id": "fbf01fcc",
   "metadata": {},
   "outputs": [],
   "source": [
    "#Prospect ID is the identification of the individual, it may not be of use in our model. Let's drop it\n",
    "lead_data.drop(['Prospect ID'], axis = 1, inplace = True)"
   ]
  },
  {
   "cell_type": "markdown",
   "id": "5c2e5064",
   "metadata": {},
   "source": [
    "##Let us try to understand the columns with unique objects"
   ]
  },
  {
   "cell_type": "code",
   "execution_count": 48,
   "id": "f2142998",
   "metadata": {},
   "outputs": [],
   "source": [
    "def percent_plot(var):\n",
    "    values = (lead_data[var].value_counts(normalize=True)*100)\n",
    "    plt_p = values.plot.bar(color=sns.color_palette('deep'))\n",
    "    plt_p.set(xlabel = var, ylabel = '% in dataset')"
   ]
  },
  {
   "cell_type": "code",
   "execution_count": 49,
   "id": "d89aa4d0",
   "metadata": {},
   "outputs": [
    {
     "data": {
      "image/png": "[encoded data removed]",
      "text/plain": [
       "<Figure size 432x288 with 1 Axes>"
      ]
     },
     "metadata": {
      "needs_background": "light"
     },
     "output_type": "display_data"
    }
   ],
   "source": [
    "percent_plot('Lead Source')"
   ]
  },
  {
   "cell_type": "code",
   "execution_count": 50,
   "id": "7a4cc3ca",
   "metadata": {},
   "outputs": [
    {
     "data": {
      "image/png": "[encoded data removed]",
      "text/plain": [
       "<Figure size 432x288 with 1 Axes>"
      ]
     },
     "metadata": {
      "needs_background": "light"
     },
     "output_type": "display_data"
    }
   ],
   "source": [
    "percent_plot('TotalVisits')"
   ]
  },
  {
   "cell_type": "code",
   "execution_count": 51,
   "id": "35f3bbb3",
   "metadata": {},
   "outputs": [
    {
     "data": {
      "image/png": "[encoded data removed]",
      "text/plain": [
       "<Figure size 432x288 with 1 Axes>"
      ]
     },
     "metadata": {
      "needs_background": "light"
     },
     "output_type": "display_data"
    }
   ],
   "source": [
    "percent_plot('What is your current occupation')"
   ]
  },
  {
   "cell_type": "code",
   "execution_count": 52,
   "id": "deb5d537",
   "metadata": {},
   "outputs": [
    {
     "data": {
      "image/png": "[encoded data removed]",
      "text/plain": [
       "<Figure size 432x288 with 1 Axes>"
      ]
     },
     "metadata": {
      "needs_background": "light"
     },
     "output_type": "display_data"
    }
   ],
   "source": [
    "percent_plot(\"Lead Origin\")"
   ]
  },
  {
   "cell_type": "code",
   "execution_count": 53,
   "id": "f5ed564e",
   "metadata": {},
   "outputs": [
    {
     "data": {
      "image/png": "[encoded data removed]",
      "text/plain": [
       "<Figure size 432x288 with 1 Axes>"
      ]
     },
     "metadata": {
      "needs_background": "light"
     },
     "output_type": "display_data"
    }
   ],
   "source": [
    "percent_plot('Last Activity')"
   ]
  },
  {
   "cell_type": "code",
   "execution_count": 54,
   "id": "f4742ef6",
   "metadata": {},
   "outputs": [
    {
     "data": {
      "image/png": "[encoded data removed]",
      "text/plain": [
       "<Figure size 432x288 with 1 Axes>"
      ]
     },
     "metadata": {
      "needs_background": "light"
     },
     "output_type": "display_data"
    }
   ],
   "source": [
    "percent_plot('How did you hear about X Education')"
   ]
  },
  {
   "cell_type": "code",
   "execution_count": 55,
   "id": "95495861",
   "metadata": {},
   "outputs": [
    {
     "data": {
      "image/png": "[encoded data removed]",
      "text/plain": [
       "<Figure size 432x288 with 1 Axes>"
      ]
     },
     "metadata": {
      "needs_background": "light"
     },
     "output_type": "display_data"
    }
   ],
   "source": [
    "percent_plot('Specialization')"
   ]
  },
  {
   "cell_type": "code",
   "execution_count": 56,
   "id": "99be3279",
   "metadata": {},
   "outputs": [
    {
     "data": {
      "text/plain": [
       "No     6371\n",
       "Yes       1\n",
       "Name: Newspaper Article, dtype: int64"
      ]
     },
     "execution_count": 56,
     "metadata": {},
     "output_type": "execute_result"
    }
   ],
   "source": [
    "lead_data['Newspaper Article'].value_counts()"
   ]
  },
  {
   "cell_type": "code",
   "execution_count": 57,
   "id": "b44bb023",
   "metadata": {},
   "outputs": [
    {
     "data": {
      "text/plain": [
       "No    6372\n",
       "Name: X Education Forums, dtype: int64"
      ]
     },
     "execution_count": 57,
     "metadata": {},
     "output_type": "execute_result"
    }
   ],
   "source": [
    "lead_data['X Education Forums'].value_counts()"
   ]
  },
  {
   "cell_type": "code",
   "execution_count": 58,
   "id": "e8b35b65",
   "metadata": {},
   "outputs": [
    {
     "data": {
      "text/plain": [
       "No    6372\n",
       "Name: I agree to pay the amount through cheque, dtype: int64"
      ]
     },
     "execution_count": 58,
     "metadata": {},
     "output_type": "execute_result"
    }
   ],
   "source": [
    "lead_data['I agree to pay the amount through cheque'].value_counts()"
   ]
  },
  {
   "cell_type": "code",
   "execution_count": 59,
   "id": "1c985fb4",
   "metadata": {},
   "outputs": [
    {
     "data": {
      "text/plain": [
       "No    6372\n",
       "Name: Magazine, dtype: int64"
      ]
     },
     "execution_count": 59,
     "metadata": {},
     "output_type": "execute_result"
    }
   ],
   "source": [
    "lead_data['Magazine'].value_counts()"
   ]
  },
  {
   "cell_type": "code",
   "execution_count": 60,
   "id": "7c5756d1",
   "metadata": {},
   "outputs": [
    {
     "data": {
      "text/plain": [
       "No    6372\n",
       "Name: Update me on Supply Chain Content, dtype: int64"
      ]
     },
     "execution_count": 60,
     "metadata": {},
     "output_type": "execute_result"
    }
   ],
   "source": [
    "lead_data['Update me on Supply Chain Content'].value_counts()"
   ]
  },
  {
   "cell_type": "code",
   "execution_count": 61,
   "id": "8be2ffd9",
   "metadata": {},
   "outputs": [],
   "source": [
    "## Let us drop all these columns which have unique values < 2\n",
    "data_to_drop = ['Do Not Email','Do Not Call', 'Search', 'Newspaper Article', 'X Education Forums', \n",
    "           'Newspaper', 'Digital Advertisement', 'Through Recommendations', 'Magazine', 'Receive More Updates About Our Courses', \n",
    "           'Update me on Supply Chain Content', 'Get updates on DM Content', 'I agree to pay the amount through cheque','A free copy of Mastering The Interview']\n",
    "\n",
    "lead_data.drop(data_to_drop, axis = 1, inplace =True)"
   ]
  },
  {
   "cell_type": "code",
   "execution_count": 62,
   "id": "84a14068",
   "metadata": {},
   "outputs": [
    {
     "data": {
      "text/plain": [
       "Index(['Lead Number', 'Lead Origin', 'Lead Source', 'Converted', 'TotalVisits',\n",
       "       'Total Time Spent on Website', 'Page Views Per Visit', 'Last Activity',\n",
       "       'Specialization', 'How did you hear about X Education',\n",
       "       'What is your current occupation', 'City', 'Last Notable Activity'],\n",
       "      dtype='object')"
      ]
     },
     "execution_count": 62,
     "metadata": {},
     "output_type": "execute_result"
    }
   ],
   "source": [
    "lead_data.columns"
   ]
  },
  {
   "cell_type": "code",
   "execution_count": 63,
   "id": "f0b67cb2",
   "metadata": {},
   "outputs": [
    {
     "data": {
      "text/plain": [
       "660737    1\n",
       "600947    1\n",
       "600956    1\n",
       "600979    1\n",
       "600997    1\n",
       "         ..\n",
       "629468    1\n",
       "629483    1\n",
       "629491    1\n",
       "629507    1\n",
       "579533    1\n",
       "Name: Lead Number, Length: 6372, dtype: int64"
      ]
     },
     "execution_count": 63,
     "metadata": {},
     "output_type": "execute_result"
    }
   ],
   "source": [
    "lead_data['Lead Number'].value_counts()"
   ]
  },
  {
   "cell_type": "code",
   "execution_count": 64,
   "id": "661c6d95",
   "metadata": {},
   "outputs": [],
   "source": [
    "## The column Lead Number is also of no use as it is an id.\n",
    "lead_data.drop('Lead Number', axis = 1, inplace = True)"
   ]
  },
  {
   "cell_type": "code",
   "execution_count": 65,
   "id": "d081f32d",
   "metadata": {},
   "outputs": [
    {
     "data": {
      "text/plain": [
       "Google               32.140615\n",
       "Direct Traffic       29.394225\n",
       "Olark Chat           13.998745\n",
       "Organic Search       13.653484\n",
       "Reference             6.952291\n",
       "Welingak Website      2.024482\n",
       "Referral Sites        1.161331\n",
       "Facebook              0.439422\n",
       "Click2call            0.062775\n",
       "bing                  0.047081\n",
       "Social Media          0.031387\n",
       "Live Chat             0.031387\n",
       "Pay per Click Ads     0.015694\n",
       "WeLearn               0.015694\n",
       "testone               0.015694\n",
       "Press_Release         0.015694\n",
       "Name: Lead Source, dtype: float64"
      ]
     },
     "execution_count": 65,
     "metadata": {},
     "output_type": "execute_result"
    }
   ],
   "source": [
    "lead_data['Lead Source'].value_counts(normalize = True, dropna = False)*100"
   ]
  },
  {
   "cell_type": "code",
   "execution_count": 66,
   "id": "3fe99f43",
   "metadata": {},
   "outputs": [
    {
     "name": "stdout",
     "output_type": "stream",
     "text": [
      "<class 'pandas.core.frame.DataFrame'>\n",
      "Int64Index: 6372 entries, 0 to 9239\n",
      "Data columns (total 12 columns):\n",
      " #   Column                              Non-Null Count  Dtype  \n",
      "---  ------                              --------------  -----  \n",
      " 0   Lead Origin                         6372 non-null   object \n",
      " 1   Lead Source                         6372 non-null   object \n",
      " 2   Converted                           6372 non-null   int64  \n",
      " 3   TotalVisits                         6372 non-null   float64\n",
      " 4   Total Time Spent on Website         6372 non-null   int64  \n",
      " 5   Page Views Per Visit                6372 non-null   float64\n",
      " 6   Last Activity                       6372 non-null   object \n",
      " 7   Specialization                      6372 non-null   object \n",
      " 8   How did you hear about X Education  6372 non-null   object \n",
      " 9   What is your current occupation     6372 non-null   object \n",
      " 10  City                                6372 non-null   object \n",
      " 11  Last Notable Activity               6372 non-null   object \n",
      "dtypes: float64(2), int64(2), object(8)\n",
      "memory usage: 647.2+ KB\n"
     ]
    }
   ],
   "source": [
    "lead_data.info()"
   ]
  },
  {
   "cell_type": "markdown",
   "id": "c08fdfab",
   "metadata": {},
   "source": [
    "We saw percentage plots for categorical variables while cleaning the data. Here, we'll see these plots with respect to target variable 'Converted'"
   ]
  },
  {
   "cell_type": "markdown",
   "id": "36007b5c",
   "metadata": {},
   "source": [
    "# Now we have all the data required to further analysis\n"
   ]
  },
  {
   "cell_type": "markdown",
   "id": "573034b4",
   "metadata": {},
   "source": [
    "# Exploratory Data Analysis"
   ]
  },
  {
   "cell_type": "markdown",
   "id": "f4792968",
   "metadata": {},
   "source": [
    "Numerical columns"
   ]
  },
  {
   "cell_type": "code",
   "execution_count": 67,
   "id": "39207c7a",
   "metadata": {},
   "outputs": [
    {
     "data": {
      "text/plain": [
       "48.10106716886378"
      ]
     },
     "execution_count": 67,
     "metadata": {},
     "output_type": "execute_result"
    }
   ],
   "source": [
    "# #Check the % of Data that has Converted Values = 1:\n",
    "Converted = (sum(lead_data['Converted'])/len(lead_data['Converted'].index))*100\n",
    "Converted"
   ]
  },
  {
   "cell_type": "code",
   "execution_count": 68,
   "id": "581da8a3",
   "metadata": {},
   "outputs": [
    {
     "data": {
      "image/png": "[encoded data removed]",
      "text/plain": [
       "<Figure size 599.75x540 with 12 Axes>"
      ]
     },
     "metadata": {
      "needs_background": "light"
     },
     "output_type": "display_data"
    }
   ],
   "source": [
    "lead = lead_data[['TotalVisits','Total Time Spent on Website','Page Views Per Visit','Converted']]\n",
    "sns.pairplot(lead,diag_kind='auto',hue='Converted')\n",
    "plt.show()"
   ]
  },
  {
   "cell_type": "code",
   "execution_count": 69,
   "id": "26bf055b",
   "metadata": {},
   "outputs": [],
   "source": [
    "# ploting bar chart for continous column\n",
    "con_col=['TotalVisits','Total Time Spent on Website','Page Views Per Visit']"
   ]
  },
  {
   "cell_type": "code",
   "execution_count": 70,
   "id": "0aea746d",
   "metadata": {},
   "outputs": [
    {
     "name": "stdout",
     "output_type": "stream",
     "text": [
      "TotalVisits\n"
     ]
    },
    {
     "data": {
      "image/png": "[encoded data removed]",
      "text/plain": [
       "<Figure size 432x288 with 1 Axes>"
      ]
     },
     "metadata": {
      "needs_background": "light"
     },
     "output_type": "display_data"
    },
    {
     "name": "stdout",
     "output_type": "stream",
     "text": [
      "Total Time Spent on Website\n"
     ]
    },
    {
     "data": {
      "image/png": "[encoded data removed]",
      "text/plain": [
       "<Figure size 432x288 with 1 Axes>"
      ]
     },
     "metadata": {
      "needs_background": "light"
     },
     "output_type": "display_data"
    },
    {
     "name": "stdout",
     "output_type": "stream",
     "text": [
      "Page Views Per Visit\n"
     ]
    },
    {
     "data": {
      "image/png": "[encoded data removed]",
      "text/plain": [
       "<Figure size 432x288 with 1 Axes>"
      ]
     },
     "metadata": {
      "needs_background": "light"
     },
     "output_type": "display_data"
    }
   ],
   "source": [
    "for i in con_col:\n",
    "    print(i)\n",
    "    sns.boxplot(lead_data[i],palette='Greens')\n",
    "    plt.show()"
   ]
  },
  {
   "cell_type": "markdown",
   "id": "3549a1d6",
   "metadata": {},
   "source": [
    "##Let us remove outliers in these columns"
   ]
  },
  {
   "cell_type": "code",
   "execution_count": 71,
   "id": "17ba8a31",
   "metadata": {},
   "outputs": [
    {
     "data": {
      "text/plain": [
       "count    6372.000000\n",
       "mean        3.606717\n",
       "std         4.852274\n",
       "min         0.000000\n",
       "5%          0.000000\n",
       "25%         1.000000\n",
       "50%         3.000000\n",
       "75%         5.000000\n",
       "90%         8.000000\n",
       "95%        10.000000\n",
       "99%        17.290000\n",
       "max       251.000000\n",
       "Name: TotalVisits, dtype: float64"
      ]
     },
     "execution_count": 71,
     "metadata": {},
     "output_type": "execute_result"
    }
   ],
   "source": [
    "#checking percentile values for \"Total Visits\"\n",
    "\n",
    "lead_data['TotalVisits'].describe(percentiles=[0.05,.25, .5, .75, .90, .95, .99])"
   ]
  },
  {
   "cell_type": "code",
   "execution_count": 72,
   "id": "1f5a3887",
   "metadata": {},
   "outputs": [
    {
     "data": {
      "image/png": "[encoded data removed]",
      "text/plain": [
       "<Figure size 432x288 with 1 Axes>"
      ]
     },
     "metadata": {
      "needs_background": "light"
     },
     "output_type": "display_data"
    }
   ],
   "source": [
    "#Outlier Treatment: Remove top & bottom 1% of the Column Outlier values\n",
    "\n",
    "Q3 = lead_data.TotalVisits.quantile(0.99)\n",
    "lead_data = lead_data[(lead_data.TotalVisits <= Q3)]\n",
    "Q1 = lead_data.TotalVisits.quantile(0.01)\n",
    "lead_data = lead_data[(lead_data.TotalVisits >= Q1)]\n",
    "sns.boxplot(y=lead_data['TotalVisits'])\n",
    "plt.show()"
   ]
  },
  {
   "cell_type": "code",
   "execution_count": 73,
   "id": "6b2109cf",
   "metadata": {},
   "outputs": [
    {
     "data": {
      "text/plain": [
       "count    6308.000000\n",
       "mean        2.452941\n",
       "std         2.045289\n",
       "min         0.000000\n",
       "25%         1.000000\n",
       "50%         2.000000\n",
       "75%         3.500000\n",
       "max        16.000000\n",
       "Name: Page Views Per Visit, dtype: float64"
      ]
     },
     "execution_count": 73,
     "metadata": {},
     "output_type": "execute_result"
    }
   ],
   "source": [
    "#checking spread of \"Page Views Per Visit\"\n",
    "\n",
    "lead_data['Page Views Per Visit'].describe()"
   ]
  },
  {
   "cell_type": "code",
   "execution_count": 74,
   "id": "3522c4d3",
   "metadata": {},
   "outputs": [
    {
     "data": {
      "image/png": "[encoded data removed]",
      "text/plain": [
       "<Figure size 432x288 with 1 Axes>"
      ]
     },
     "metadata": {
      "needs_background": "light"
     },
     "output_type": "display_data"
    }
   ],
   "source": [
    "#Outlier Treatment: Remove top & bottom 1% \n",
    "\n",
    "Q3 = lead_data['Page Views Per Visit'].quantile(0.99)\n",
    "lead_data = lead_data[lead_data['Page Views Per Visit'] <= Q3]\n",
    "Q1 = lead_data['Page Views Per Visit'].quantile(0.01)\n",
    "lead_data = lead_data[lead_data['Page Views Per Visit'] >= Q1]\n",
    "sns.boxplot(y=lead_data['Page Views Per Visit'])\n",
    "plt.show()"
   ]
  },
  {
   "cell_type": "markdown",
   "id": "78858c63",
   "metadata": {},
   "source": [
    "##There are no major Outliers for the variable 'Total Time Spent on Website'. We don't do any Outlier Treatment for this Column"
   ]
  },
  {
   "cell_type": "markdown",
   "id": "d1116068",
   "metadata": {},
   "source": [
    "##Let us again plot these variables to get insights into the data."
   ]
  },
  {
   "cell_type": "code",
   "execution_count": 75,
   "id": "1ef70f03",
   "metadata": {},
   "outputs": [
    {
     "data": {
      "image/png": "[encoded data removed]",
      "text/plain": [
       "<Figure size 432x288 with 1 Axes>"
      ]
     },
     "metadata": {
      "needs_background": "light"
     },
     "output_type": "display_data"
    }
   ],
   "source": [
    "#checking Spread of \"Total Time Spent on Website\" vs Converted variable\n",
    "\n",
    "sns.boxplot(x=lead_data.Converted, y=lead_data['Total Time Spent on Website'])\n",
    "plt.show()"
   ]
  },
  {
   "cell_type": "markdown",
   "id": "5442cfa5",
   "metadata": {},
   "source": [
    "1. Leads spending more time on the website are more likely to be converted.\n",
    "\n",
    "2. Website should be made more engaging to make leads spend more time."
   ]
  },
  {
   "cell_type": "code",
   "execution_count": 76,
   "id": "b2cc17b9",
   "metadata": {},
   "outputs": [
    {
     "data": {
      "image/png": "[encoded data removed]",
      "text/plain": [
       "<Figure size 432x288 with 1 Axes>"
      ]
     },
     "metadata": {
      "needs_background": "light"
     },
     "output_type": "display_data"
    }
   ],
   "source": [
    "#checking Spread of \"Total Visits\" vs Converted variable\n",
    "sns.boxplot(x=lead_data.Converted,y=lead_data['TotalVisits'])\n",
    "plt.show()"
   ]
  },
  {
   "cell_type": "markdown",
   "id": "a32b0ca8",
   "metadata": {},
   "source": [
    "1. Median for converted and not converted leads are the close.\n",
    "\n",
    "2. Nothng conclusive can be said on the basis of Total Visits"
   ]
  },
  {
   "cell_type": "code",
   "execution_count": 77,
   "id": "adf34da6",
   "metadata": {},
   "outputs": [
    {
     "data": {
      "image/png": "[encoded data removed]",
      "text/plain": [
       "<Figure size 432x288 with 1 Axes>"
      ]
     },
     "metadata": {
      "needs_background": "light"
     },
     "output_type": "display_data"
    }
   ],
   "source": [
    "#checking Spread of \"Page Views Per Visit\" vs Converted variable\n",
    "\n",
    "sns.boxplot(x=lead_data.Converted,y=lead_data['Page Views Per Visit'])\n",
    "plt.show()"
   ]
  },
  {
   "cell_type": "markdown",
   "id": "43987c46",
   "metadata": {},
   "source": [
    "1. Median for converted and unconverted leads is the same.\n",
    "2. Nothing can be said specifically for lead conversion from Page Views Per Visit"
   ]
  },
  {
   "cell_type": "code",
   "execution_count": 78,
   "id": "39836113",
   "metadata": {},
   "outputs": [],
   "source": [
    "def plot_cat_var(var):\n",
    "    plt.figure(figsize=(20, 7))\n",
    "    sns.countplot(x = var, hue = \"Converted\", data = lead_data)\n",
    "    plt.xticks(rotation = 90)\n",
    "    plt.show()"
   ]
  },
  {
   "cell_type": "code",
   "execution_count": 79,
   "id": "6722c9fc",
   "metadata": {},
   "outputs": [
    {
     "data": {
      "image/png": "[encoded data removed]",
      "text/plain": [
       "<Figure size 1440x504 with 1 Axes>"
      ]
     },
     "metadata": {
      "needs_background": "light"
     },
     "output_type": "display_data"
    }
   ],
   "source": [
    "plot_cat_var('Lead Origin')"
   ]
  },
  {
   "cell_type": "markdown",
   "id": "fc278d5d",
   "metadata": {},
   "source": [
    "'API' and 'Landing Page Submission' generate the most leads but have less conversion rates of around 30%. Whereas, 'Lead Add Form' generates less leads but conversion rate is great. We should try to increase conversion rate for 'API' and 'Landing Page Submission', and increase leads generation using 'Lead Add Form'. 'Lead Import' does not seem very significant."
   ]
  },
  {
   "cell_type": "code",
   "execution_count": 80,
   "id": "5da151a1",
   "metadata": {},
   "outputs": [
    {
     "data": {
      "image/png": "[encoded data removed]",
      "text/plain": [
       "<Figure size 1440x504 with 1 Axes>"
      ]
     },
     "metadata": {
      "needs_background": "light"
     },
     "output_type": "display_data"
    }
   ],
   "source": [
    "plot_cat_var('Lead Source')"
   ]
  },
  {
   "cell_type": "markdown",
   "id": "352aa01d",
   "metadata": {},
   "source": [
    "'Direct Traffic' and 'Google' generate maximum number of leads while maximum conversion rate is achieved through 'Reference' and 'Welingak Website'."
   ]
  },
  {
   "cell_type": "code",
   "execution_count": 81,
   "id": "f264482e",
   "metadata": {},
   "outputs": [
    {
     "data": {
      "image/png": "[encoded data removed]",
      "text/plain": [
       "<Figure size 1440x504 with 1 Axes>"
      ]
     },
     "metadata": {
      "needs_background": "light"
     },
     "output_type": "display_data"
    }
   ],
   "source": [
    "plot_cat_var('Last Activity')"
   ]
  },
  {
   "cell_type": "markdown",
   "id": "3aa412fc",
   "metadata": {},
   "source": [
    "Highest number of lead are generated where the last activity is 'Email Opened' while maximum conversion rate is for the activity of 'SMS Sent'. Its conversion rate is significantly high.\n",
    "Categories after the 'SMS Sent' have almost negligible effect. We can aggregate them all in one single category"
   ]
  },
  {
   "cell_type": "code",
   "execution_count": 82,
   "id": "21fc0e5a",
   "metadata": {},
   "outputs": [
    {
     "data": {
      "image/png": "[encoded data removed]",
      "text/plain": [
       "<Figure size 1440x504 with 1 Axes>"
      ]
     },
     "metadata": {
      "needs_background": "light"
     },
     "output_type": "display_data"
    }
   ],
   "source": [
    "plot_cat_var('Specialization')"
   ]
  },
  {
   "cell_type": "markdown",
   "id": "d0768aae",
   "metadata": {},
   "source": [
    "The highest conversion rate is for 'Management Specialization' category."
   ]
  },
  {
   "cell_type": "code",
   "execution_count": 83,
   "id": "cd066430",
   "metadata": {},
   "outputs": [
    {
     "data": {
      "image/png": "[encoded data removed]",
      "text/plain": [
       "<Figure size 1440x504 with 1 Axes>"
      ]
     },
     "metadata": {
      "needs_background": "light"
     },
     "output_type": "display_data"
    }
   ],
   "source": [
    "plot_cat_var('What is your current occupation')"
   ]
  },
  {
   "cell_type": "markdown",
   "id": "0155080e",
   "metadata": {},
   "source": [
    "The highest conversion rate is for 'Working Professional'. High number of leads are generated for 'Unemployed' but conversion rate is low."
   ]
  },
  {
   "cell_type": "markdown",
   "id": "1706e982",
   "metadata": {},
   "source": [
    "# Dummy variable creation\n",
    "The next step is to deal with the categorical variables present in the dataset. So first take a look at which variables are actually categorical variables."
   ]
  },
  {
   "cell_type": "code",
   "execution_count": 84,
   "id": "d4bf4368",
   "metadata": {},
   "outputs": [
    {
     "data": {
      "text/plain": [
       "Index(['Lead Origin', 'Lead Source', 'Last Activity', 'Specialization',\n",
       "       'How did you hear about X Education', 'What is your current occupation',\n",
       "       'City', 'Last Notable Activity'],\n",
       "      dtype='object')"
      ]
     },
     "execution_count": 84,
     "metadata": {},
     "output_type": "execute_result"
    }
   ],
   "source": [
    "# Check the columns which are of type 'object'\n",
    "\n",
    "data1 = lead_data.loc[:, lead_data.dtypes == 'object']\n",
    "data1.columns"
   ]
  },
  {
   "cell_type": "code",
   "execution_count": 85,
   "id": "efb6d7c1",
   "metadata": {},
   "outputs": [],
   "source": [
    "# Create dummy variables using the 'get_dummies' command\n",
    "dummy = pd.get_dummies(lead_data[['Lead Origin', 'Lead Source', 'Last Activity', 'Specialization',\n",
    "       'How did you hear about X Education', 'What is your current occupation',\n",
    "       'City', 'Last Notable Activity']], drop_first=True)\n",
    "\n",
    "# Add the results to the master dataframe\n",
    "lead_data = pd.concat([lead_data, dummy], axis=1)"
   ]
  },
  {
   "cell_type": "code",
   "execution_count": 86,
   "id": "d603971c",
   "metadata": {},
   "outputs": [],
   "source": [
    "# Drop the variables for which the dummy variables have been created\n",
    "\n",
    "lead_data = lead_data.drop(['Lead Origin', 'Lead Source', 'Last Activity', 'Specialization',\n",
    "       'How did you hear about X Education', 'What is your current occupation',\n",
    "       'City', 'Last Notable Activity'], 1)"
   ]
  },
  {
   "cell_type": "code",
   "execution_count": 87,
   "id": "ef9091c1",
   "metadata": {},
   "outputs": [
    {
     "data": {
      "text/html": [
       "<div>\n",
       "<style scoped>\n",
       "    .dataframe tbody tr th:only-of-type {\n",
       "        vertical-align: middle;\n",
       "    }\n",
       "\n",
       "    .dataframe tbody tr th {\n",
       "        vertical-align: top;\n",
       "    }\n",
       "\n",
       "    .dataframe thead th {\n",
       "        text-align: right;\n",
       "    }\n",
       "</style>\n",
       "<table border=\"1\" class=\"dataframe\">\n",
       "  <thead>\n",
       "    <tr style=\"text-align: right;\">\n",
       "      <th></th>\n",
       "      <th>Converted</th>\n",
       "      <th>TotalVisits</th>\n",
       "      <th>Total Time Spent on Website</th>\n",
       "      <th>Page Views Per Visit</th>\n",
       "      <th>Lead Origin_Landing Page Submission</th>\n",
       "      <th>Lead Origin_Lead Add Form</th>\n",
       "      <th>Lead Origin_Lead Import</th>\n",
       "      <th>Lead Source_Direct Traffic</th>\n",
       "      <th>Lead Source_Facebook</th>\n",
       "      <th>Lead Source_Google</th>\n",
       "      <th>...</th>\n",
       "      <th>Last Notable Activity_Email Opened</th>\n",
       "      <th>Last Notable Activity_Email Received</th>\n",
       "      <th>Last Notable Activity_Had a Phone Conversation</th>\n",
       "      <th>Last Notable Activity_Modified</th>\n",
       "      <th>Last Notable Activity_Olark Chat Conversation</th>\n",
       "      <th>Last Notable Activity_Page Visited on Website</th>\n",
       "      <th>Last Notable Activity_SMS Sent</th>\n",
       "      <th>Last Notable Activity_Unreachable</th>\n",
       "      <th>Last Notable Activity_Unsubscribed</th>\n",
       "      <th>Last Notable Activity_View in browser link Clicked</th>\n",
       "    </tr>\n",
       "  </thead>\n",
       "  <tbody>\n",
       "    <tr>\n",
       "      <th>0</th>\n",
       "      <td>0</td>\n",
       "      <td>0.0</td>\n",
       "      <td>0</td>\n",
       "      <td>0.00</td>\n",
       "      <td>0</td>\n",
       "      <td>0</td>\n",
       "      <td>0</td>\n",
       "      <td>0</td>\n",
       "      <td>0</td>\n",
       "      <td>0</td>\n",
       "      <td>...</td>\n",
       "      <td>0</td>\n",
       "      <td>0</td>\n",
       "      <td>0</td>\n",
       "      <td>1</td>\n",
       "      <td>0</td>\n",
       "      <td>0</td>\n",
       "      <td>0</td>\n",
       "      <td>0</td>\n",
       "      <td>0</td>\n",
       "      <td>0</td>\n",
       "    </tr>\n",
       "    <tr>\n",
       "      <th>1</th>\n",
       "      <td>0</td>\n",
       "      <td>5.0</td>\n",
       "      <td>674</td>\n",
       "      <td>2.50</td>\n",
       "      <td>0</td>\n",
       "      <td>0</td>\n",
       "      <td>0</td>\n",
       "      <td>0</td>\n",
       "      <td>0</td>\n",
       "      <td>0</td>\n",
       "      <td>...</td>\n",
       "      <td>1</td>\n",
       "      <td>0</td>\n",
       "      <td>0</td>\n",
       "      <td>0</td>\n",
       "      <td>0</td>\n",
       "      <td>0</td>\n",
       "      <td>0</td>\n",
       "      <td>0</td>\n",
       "      <td>0</td>\n",
       "      <td>0</td>\n",
       "    </tr>\n",
       "    <tr>\n",
       "      <th>2</th>\n",
       "      <td>1</td>\n",
       "      <td>2.0</td>\n",
       "      <td>1532</td>\n",
       "      <td>2.00</td>\n",
       "      <td>1</td>\n",
       "      <td>0</td>\n",
       "      <td>0</td>\n",
       "      <td>1</td>\n",
       "      <td>0</td>\n",
       "      <td>0</td>\n",
       "      <td>...</td>\n",
       "      <td>1</td>\n",
       "      <td>0</td>\n",
       "      <td>0</td>\n",
       "      <td>0</td>\n",
       "      <td>0</td>\n",
       "      <td>0</td>\n",
       "      <td>0</td>\n",
       "      <td>0</td>\n",
       "      <td>0</td>\n",
       "      <td>0</td>\n",
       "    </tr>\n",
       "    <tr>\n",
       "      <th>3</th>\n",
       "      <td>0</td>\n",
       "      <td>1.0</td>\n",
       "      <td>305</td>\n",
       "      <td>1.00</td>\n",
       "      <td>1</td>\n",
       "      <td>0</td>\n",
       "      <td>0</td>\n",
       "      <td>1</td>\n",
       "      <td>0</td>\n",
       "      <td>0</td>\n",
       "      <td>...</td>\n",
       "      <td>0</td>\n",
       "      <td>0</td>\n",
       "      <td>0</td>\n",
       "      <td>1</td>\n",
       "      <td>0</td>\n",
       "      <td>0</td>\n",
       "      <td>0</td>\n",
       "      <td>0</td>\n",
       "      <td>0</td>\n",
       "      <td>0</td>\n",
       "    </tr>\n",
       "    <tr>\n",
       "      <th>4</th>\n",
       "      <td>1</td>\n",
       "      <td>2.0</td>\n",
       "      <td>1428</td>\n",
       "      <td>1.00</td>\n",
       "      <td>1</td>\n",
       "      <td>0</td>\n",
       "      <td>0</td>\n",
       "      <td>0</td>\n",
       "      <td>0</td>\n",
       "      <td>1</td>\n",
       "      <td>...</td>\n",
       "      <td>0</td>\n",
       "      <td>0</td>\n",
       "      <td>0</td>\n",
       "      <td>1</td>\n",
       "      <td>0</td>\n",
       "      <td>0</td>\n",
       "      <td>0</td>\n",
       "      <td>0</td>\n",
       "      <td>0</td>\n",
       "      <td>0</td>\n",
       "    </tr>\n",
       "    <tr>\n",
       "      <th>6</th>\n",
       "      <td>1</td>\n",
       "      <td>2.0</td>\n",
       "      <td>1640</td>\n",
       "      <td>2.00</td>\n",
       "      <td>1</td>\n",
       "      <td>0</td>\n",
       "      <td>0</td>\n",
       "      <td>0</td>\n",
       "      <td>0</td>\n",
       "      <td>1</td>\n",
       "      <td>...</td>\n",
       "      <td>0</td>\n",
       "      <td>0</td>\n",
       "      <td>0</td>\n",
       "      <td>1</td>\n",
       "      <td>0</td>\n",
       "      <td>0</td>\n",
       "      <td>0</td>\n",
       "      <td>0</td>\n",
       "      <td>0</td>\n",
       "      <td>0</td>\n",
       "    </tr>\n",
       "    <tr>\n",
       "      <th>10</th>\n",
       "      <td>1</td>\n",
       "      <td>8.0</td>\n",
       "      <td>1351</td>\n",
       "      <td>8.00</td>\n",
       "      <td>1</td>\n",
       "      <td>0</td>\n",
       "      <td>0</td>\n",
       "      <td>0</td>\n",
       "      <td>0</td>\n",
       "      <td>0</td>\n",
       "      <td>...</td>\n",
       "      <td>1</td>\n",
       "      <td>0</td>\n",
       "      <td>0</td>\n",
       "      <td>0</td>\n",
       "      <td>0</td>\n",
       "      <td>0</td>\n",
       "      <td>0</td>\n",
       "      <td>0</td>\n",
       "      <td>0</td>\n",
       "      <td>0</td>\n",
       "    </tr>\n",
       "    <tr>\n",
       "      <th>11</th>\n",
       "      <td>1</td>\n",
       "      <td>8.0</td>\n",
       "      <td>1343</td>\n",
       "      <td>2.67</td>\n",
       "      <td>1</td>\n",
       "      <td>0</td>\n",
       "      <td>0</td>\n",
       "      <td>1</td>\n",
       "      <td>0</td>\n",
       "      <td>0</td>\n",
       "      <td>...</td>\n",
       "      <td>0</td>\n",
       "      <td>0</td>\n",
       "      <td>0</td>\n",
       "      <td>0</td>\n",
       "      <td>0</td>\n",
       "      <td>1</td>\n",
       "      <td>0</td>\n",
       "      <td>0</td>\n",
       "      <td>0</td>\n",
       "      <td>0</td>\n",
       "    </tr>\n",
       "    <tr>\n",
       "      <th>13</th>\n",
       "      <td>0</td>\n",
       "      <td>5.0</td>\n",
       "      <td>170</td>\n",
       "      <td>5.00</td>\n",
       "      <td>1</td>\n",
       "      <td>0</td>\n",
       "      <td>0</td>\n",
       "      <td>0</td>\n",
       "      <td>0</td>\n",
       "      <td>0</td>\n",
       "      <td>...</td>\n",
       "      <td>1</td>\n",
       "      <td>0</td>\n",
       "      <td>0</td>\n",
       "      <td>0</td>\n",
       "      <td>0</td>\n",
       "      <td>0</td>\n",
       "      <td>0</td>\n",
       "      <td>0</td>\n",
       "      <td>0</td>\n",
       "      <td>0</td>\n",
       "    </tr>\n",
       "    <tr>\n",
       "      <th>14</th>\n",
       "      <td>0</td>\n",
       "      <td>1.0</td>\n",
       "      <td>481</td>\n",
       "      <td>1.00</td>\n",
       "      <td>1</td>\n",
       "      <td>0</td>\n",
       "      <td>0</td>\n",
       "      <td>1</td>\n",
       "      <td>0</td>\n",
       "      <td>0</td>\n",
       "      <td>...</td>\n",
       "      <td>0</td>\n",
       "      <td>0</td>\n",
       "      <td>0</td>\n",
       "      <td>0</td>\n",
       "      <td>0</td>\n",
       "      <td>0</td>\n",
       "      <td>0</td>\n",
       "      <td>0</td>\n",
       "      <td>0</td>\n",
       "      <td>0</td>\n",
       "    </tr>\n",
       "  </tbody>\n",
       "</table>\n",
       "<p>10 rows × 71 columns</p>\n",
       "</div>"
      ],
      "text/plain": [
       "    Converted  TotalVisits  Total Time Spent on Website  Page Views Per Visit  \\\n",
       "0           0          0.0                            0                  0.00   \n",
       "1           0          5.0                          674                  2.50   \n",
       "2           1          2.0                         1532                  2.00   \n",
       "3           0          1.0                          305                  1.00   \n",
       "4           1          2.0                         1428                  1.00   \n",
       "6           1          2.0                         1640                  2.00   \n",
       "10          1          8.0                         1351                  8.00   \n",
       "11          1          8.0                         1343                  2.67   \n",
       "13          0          5.0                          170                  5.00   \n",
       "14          0          1.0                          481                  1.00   \n",
       "\n",
       "    Lead Origin_Landing Page Submission  Lead Origin_Lead Add Form  \\\n",
       "0                                     0                          0   \n",
       "1                                     0                          0   \n",
       "2                                     1                          0   \n",
       "3                                     1                          0   \n",
       "4                                     1                          0   \n",
       "6                                     1                          0   \n",
       "10                                    1                          0   \n",
       "11                                    1                          0   \n",
       "13                                    1                          0   \n",
       "14                                    1                          0   \n",
       "\n",
       "    Lead Origin_Lead Import  Lead Source_Direct Traffic  Lead Source_Facebook  \\\n",
       "0                         0                           0                     0   \n",
       "1                         0                           0                     0   \n",
       "2                         0                           1                     0   \n",
       "3                         0                           1                     0   \n",
       "4                         0                           0                     0   \n",
       "6                         0                           0                     0   \n",
       "10                        0                           0                     0   \n",
       "11                        0                           1                     0   \n",
       "13                        0                           0                     0   \n",
       "14                        0                           1                     0   \n",
       "\n",
       "    Lead Source_Google  ...  Last Notable Activity_Email Opened  \\\n",
       "0                    0  ...                                   0   \n",
       "1                    0  ...                                   1   \n",
       "2                    0  ...                                   1   \n",
       "3                    0  ...                                   0   \n",
       "4                    1  ...                                   0   \n",
       "6                    1  ...                                   0   \n",
       "10                   0  ...                                   1   \n",
       "11                   0  ...                                   0   \n",
       "13                   0  ...                                   1   \n",
       "14                   0  ...                                   0   \n",
       "\n",
       "    Last Notable Activity_Email Received  \\\n",
       "0                                      0   \n",
       "1                                      0   \n",
       "2                                      0   \n",
       "3                                      0   \n",
       "4                                      0   \n",
       "6                                      0   \n",
       "10                                     0   \n",
       "11                                     0   \n",
       "13                                     0   \n",
       "14                                     0   \n",
       "\n",
       "    Last Notable Activity_Had a Phone Conversation  \\\n",
       "0                                                0   \n",
       "1                                                0   \n",
       "2                                                0   \n",
       "3                                                0   \n",
       "4                                                0   \n",
       "6                                                0   \n",
       "10                                               0   \n",
       "11                                               0   \n",
       "13                                               0   \n",
       "14                                               0   \n",
       "\n",
       "    Last Notable Activity_Modified  \\\n",
       "0                                1   \n",
       "1                                0   \n",
       "2                                0   \n",
       "3                                1   \n",
       "4                                1   \n",
       "6                                1   \n",
       "10                               0   \n",
       "11                               0   \n",
       "13                               0   \n",
       "14                               0   \n",
       "\n",
       "    Last Notable Activity_Olark Chat Conversation  \\\n",
       "0                                               0   \n",
       "1                                               0   \n",
       "2                                               0   \n",
       "3                                               0   \n",
       "4                                               0   \n",
       "6                                               0   \n",
       "10                                              0   \n",
       "11                                              0   \n",
       "13                                              0   \n",
       "14                                              0   \n",
       "\n",
       "    Last Notable Activity_Page Visited on Website  \\\n",
       "0                                               0   \n",
       "1                                               0   \n",
       "2                                               0   \n",
       "3                                               0   \n",
       "4                                               0   \n",
       "6                                               0   \n",
       "10                                              0   \n",
       "11                                              1   \n",
       "13                                              0   \n",
       "14                                              0   \n",
       "\n",
       "    Last Notable Activity_SMS Sent  Last Notable Activity_Unreachable  \\\n",
       "0                                0                                  0   \n",
       "1                                0                                  0   \n",
       "2                                0                                  0   \n",
       "3                                0                                  0   \n",
       "4                                0                                  0   \n",
       "6                                0                                  0   \n",
       "10                               0                                  0   \n",
       "11                               0                                  0   \n",
       "13                               0                                  0   \n",
       "14                               0                                  0   \n",
       "\n",
       "    Last Notable Activity_Unsubscribed  \\\n",
       "0                                    0   \n",
       "1                                    0   \n",
       "2                                    0   \n",
       "3                                    0   \n",
       "4                                    0   \n",
       "6                                    0   \n",
       "10                                   0   \n",
       "11                                   0   \n",
       "13                                   0   \n",
       "14                                   0   \n",
       "\n",
       "    Last Notable Activity_View in browser link Clicked  \n",
       "0                                                   0   \n",
       "1                                                   0   \n",
       "2                                                   0   \n",
       "3                                                   0   \n",
       "4                                                   0   \n",
       "6                                                   0   \n",
       "10                                                  0   \n",
       "11                                                  0   \n",
       "13                                                  0   \n",
       "14                                                  0   \n",
       "\n",
       "[10 rows x 71 columns]"
      ]
     },
     "execution_count": 87,
     "metadata": {},
     "output_type": "execute_result"
    }
   ],
   "source": [
    "lead_data.head(10)"
   ]
  },
  {
   "cell_type": "code",
   "execution_count": 88,
   "id": "42043321",
   "metadata": {},
   "outputs": [
    {
     "name": "stdout",
     "output_type": "stream",
     "text": [
      "<class 'pandas.core.frame.DataFrame'>\n",
      "Int64Index: 6263 entries, 0 to 9239\n",
      "Data columns (total 71 columns):\n",
      " #   Column                                                    Non-Null Count  Dtype  \n",
      "---  ------                                                    --------------  -----  \n",
      " 0   Converted                                                 6263 non-null   int64  \n",
      " 1   TotalVisits                                               6263 non-null   float64\n",
      " 2   Total Time Spent on Website                               6263 non-null   int64  \n",
      " 3   Page Views Per Visit                                      6263 non-null   float64\n",
      " 4   Lead Origin_Landing Page Submission                       6263 non-null   uint8  \n",
      " 5   Lead Origin_Lead Add Form                                 6263 non-null   uint8  \n",
      " 6   Lead Origin_Lead Import                                   6263 non-null   uint8  \n",
      " 7   Lead Source_Direct Traffic                                6263 non-null   uint8  \n",
      " 8   Lead Source_Facebook                                      6263 non-null   uint8  \n",
      " 9   Lead Source_Google                                        6263 non-null   uint8  \n",
      " 10  Lead Source_Live Chat                                     6263 non-null   uint8  \n",
      " 11  Lead Source_Olark Chat                                    6263 non-null   uint8  \n",
      " 12  Lead Source_Organic Search                                6263 non-null   uint8  \n",
      " 13  Lead Source_Pay per Click Ads                             6263 non-null   uint8  \n",
      " 14  Lead Source_Press_Release                                 6263 non-null   uint8  \n",
      " 15  Lead Source_Reference                                     6263 non-null   uint8  \n",
      " 16  Lead Source_Referral Sites                                6263 non-null   uint8  \n",
      " 17  Lead Source_Social Media                                  6263 non-null   uint8  \n",
      " 18  Lead Source_WeLearn                                       6263 non-null   uint8  \n",
      " 19  Lead Source_Welingak Website                              6263 non-null   uint8  \n",
      " 20  Lead Source_bing                                          6263 non-null   uint8  \n",
      " 21  Lead Source_testone                                       6263 non-null   uint8  \n",
      " 22  Last Activity_Converted to Lead                           6263 non-null   uint8  \n",
      " 23  Last Activity_Email Bounced                               6263 non-null   uint8  \n",
      " 24  Last Activity_Email Link Clicked                          6263 non-null   uint8  \n",
      " 25  Last Activity_Email Marked Spam                           6263 non-null   uint8  \n",
      " 26  Last Activity_Email Opened                                6263 non-null   uint8  \n",
      " 27  Last Activity_Email Received                              6263 non-null   uint8  \n",
      " 28  Last Activity_Form Submitted on Website                   6263 non-null   uint8  \n",
      " 29  Last Activity_Had a Phone Conversation                    6263 non-null   uint8  \n",
      " 30  Last Activity_Olark Chat Conversation                     6263 non-null   uint8  \n",
      " 31  Last Activity_Page Visited on Website                     6263 non-null   uint8  \n",
      " 32  Last Activity_SMS Sent                                    6263 non-null   uint8  \n",
      " 33  Last Activity_Unreachable                                 6263 non-null   uint8  \n",
      " 34  Last Activity_Unsubscribed                                6263 non-null   uint8  \n",
      " 35  Last Activity_View in browser link Clicked                6263 non-null   uint8  \n",
      " 36  Last Activity_Visited Booth in Tradeshow                  6263 non-null   uint8  \n",
      " 37  Specialization_Industry Specializations                   6263 non-null   uint8  \n",
      " 38  Specialization_Management Specializations                 6263 non-null   uint8  \n",
      " 39  How did you hear about X Education_Email                  6263 non-null   uint8  \n",
      " 40  How did you hear about X Education_Multiple Sources       6263 non-null   uint8  \n",
      " 41  How did you hear about X Education_Online Search          6263 non-null   uint8  \n",
      " 42  How did you hear about X Education_Other                  6263 non-null   uint8  \n",
      " 43  How did you hear about X Education_SMS                    6263 non-null   uint8  \n",
      " 44  How did you hear about X Education_Select                 6263 non-null   uint8  \n",
      " 45  How did you hear about X Education_Social Media           6263 non-null   uint8  \n",
      " 46  How did you hear about X Education_Student of SomeSchool  6263 non-null   uint8  \n",
      " 47  How did you hear about X Education_Word Of Mouth          6263 non-null   uint8  \n",
      " 48  What is your current occupation_Housewife                 6263 non-null   uint8  \n",
      " 49  What is your current occupation_Other                     6263 non-null   uint8  \n",
      " 50  What is your current occupation_Student                   6263 non-null   uint8  \n",
      " 51  What is your current occupation_Unemployed                6263 non-null   uint8  \n",
      " 52  What is your current occupation_Working Professional      6263 non-null   uint8  \n",
      " 53  City_Other Cities                                         6263 non-null   uint8  \n",
      " 54  City_Other Cities of Maharashtra                          6263 non-null   uint8  \n",
      " 55  City_Other Metro Cities                                   6263 non-null   uint8  \n",
      " 56  City_Thane & Outskirts                                    6263 non-null   uint8  \n",
      " 57  City_Tier II Cities                                       6263 non-null   uint8  \n",
      " 58  Last Notable Activity_Email Bounced                       6263 non-null   uint8  \n",
      " 59  Last Notable Activity_Email Link Clicked                  6263 non-null   uint8  \n",
      " 60  Last Notable Activity_Email Marked Spam                   6263 non-null   uint8  \n",
      " 61  Last Notable Activity_Email Opened                        6263 non-null   uint8  \n",
      " 62  Last Notable Activity_Email Received                      6263 non-null   uint8  \n",
      " 63  Last Notable Activity_Had a Phone Conversation            6263 non-null   uint8  \n",
      " 64  Last Notable Activity_Modified                            6263 non-null   uint8  \n",
      " 65  Last Notable Activity_Olark Chat Conversation             6263 non-null   uint8  \n",
      " 66  Last Notable Activity_Page Visited on Website             6263 non-null   uint8  \n",
      " 67  Last Notable Activity_SMS Sent                            6263 non-null   uint8  \n",
      " 68  Last Notable Activity_Unreachable                         6263 non-null   uint8  \n",
      " 69  Last Notable Activity_Unsubscribed                        6263 non-null   uint8  \n",
      " 70  Last Notable Activity_View in browser link Clicked        6263 non-null   uint8  \n",
      "dtypes: float64(2), int64(2), uint8(67)\n",
      "memory usage: 654.4 KB\n"
     ]
    }
   ],
   "source": [
    "lead_data.info()"
   ]
  },
  {
   "cell_type": "markdown",
   "id": "93c2a290",
   "metadata": {},
   "source": [
    "# Test-Train Split\n",
    "The next step is to split the dataset into training an testing sets."
   ]
  },
  {
   "cell_type": "code",
   "execution_count": 89,
   "id": "c6351ba6",
   "metadata": {},
   "outputs": [],
   "source": [
    "# Import the required library\n",
    "\n",
    "from sklearn.model_selection import train_test_split"
   ]
  },
  {
   "cell_type": "code",
   "execution_count": 90,
   "id": "a5294657",
   "metadata": {},
   "outputs": [
    {
     "data": {
      "text/html": [
       "<div>\n",
       "<style scoped>\n",
       "    .dataframe tbody tr th:only-of-type {\n",
       "        vertical-align: middle;\n",
       "    }\n",
       "\n",
       "    .dataframe tbody tr th {\n",
       "        vertical-align: top;\n",
       "    }\n",
       "\n",
       "    .dataframe thead th {\n",
       "        text-align: right;\n",
       "    }\n",
       "</style>\n",
       "<table border=\"1\" class=\"dataframe\">\n",
       "  <thead>\n",
       "    <tr style=\"text-align: right;\">\n",
       "      <th></th>\n",
       "      <th>TotalVisits</th>\n",
       "      <th>Total Time Spent on Website</th>\n",
       "      <th>Page Views Per Visit</th>\n",
       "      <th>Lead Origin_Landing Page Submission</th>\n",
       "      <th>Lead Origin_Lead Add Form</th>\n",
       "      <th>Lead Origin_Lead Import</th>\n",
       "      <th>Lead Source_Direct Traffic</th>\n",
       "      <th>Lead Source_Facebook</th>\n",
       "      <th>Lead Source_Google</th>\n",
       "      <th>Lead Source_Live Chat</th>\n",
       "      <th>...</th>\n",
       "      <th>Last Notable Activity_Email Opened</th>\n",
       "      <th>Last Notable Activity_Email Received</th>\n",
       "      <th>Last Notable Activity_Had a Phone Conversation</th>\n",
       "      <th>Last Notable Activity_Modified</th>\n",
       "      <th>Last Notable Activity_Olark Chat Conversation</th>\n",
       "      <th>Last Notable Activity_Page Visited on Website</th>\n",
       "      <th>Last Notable Activity_SMS Sent</th>\n",
       "      <th>Last Notable Activity_Unreachable</th>\n",
       "      <th>Last Notable Activity_Unsubscribed</th>\n",
       "      <th>Last Notable Activity_View in browser link Clicked</th>\n",
       "    </tr>\n",
       "  </thead>\n",
       "  <tbody>\n",
       "    <tr>\n",
       "      <th>0</th>\n",
       "      <td>0.0</td>\n",
       "      <td>0</td>\n",
       "      <td>0.0</td>\n",
       "      <td>0</td>\n",
       "      <td>0</td>\n",
       "      <td>0</td>\n",
       "      <td>0</td>\n",
       "      <td>0</td>\n",
       "      <td>0</td>\n",
       "      <td>0</td>\n",
       "      <td>...</td>\n",
       "      <td>0</td>\n",
       "      <td>0</td>\n",
       "      <td>0</td>\n",
       "      <td>1</td>\n",
       "      <td>0</td>\n",
       "      <td>0</td>\n",
       "      <td>0</td>\n",
       "      <td>0</td>\n",
       "      <td>0</td>\n",
       "      <td>0</td>\n",
       "    </tr>\n",
       "    <tr>\n",
       "      <th>1</th>\n",
       "      <td>5.0</td>\n",
       "      <td>674</td>\n",
       "      <td>2.5</td>\n",
       "      <td>0</td>\n",
       "      <td>0</td>\n",
       "      <td>0</td>\n",
       "      <td>0</td>\n",
       "      <td>0</td>\n",
       "      <td>0</td>\n",
       "      <td>0</td>\n",
       "      <td>...</td>\n",
       "      <td>1</td>\n",
       "      <td>0</td>\n",
       "      <td>0</td>\n",
       "      <td>0</td>\n",
       "      <td>0</td>\n",
       "      <td>0</td>\n",
       "      <td>0</td>\n",
       "      <td>0</td>\n",
       "      <td>0</td>\n",
       "      <td>0</td>\n",
       "    </tr>\n",
       "    <tr>\n",
       "      <th>2</th>\n",
       "      <td>2.0</td>\n",
       "      <td>1532</td>\n",
       "      <td>2.0</td>\n",
       "      <td>1</td>\n",
       "      <td>0</td>\n",
       "      <td>0</td>\n",
       "      <td>1</td>\n",
       "      <td>0</td>\n",
       "      <td>0</td>\n",
       "      <td>0</td>\n",
       "      <td>...</td>\n",
       "      <td>1</td>\n",
       "      <td>0</td>\n",
       "      <td>0</td>\n",
       "      <td>0</td>\n",
       "      <td>0</td>\n",
       "      <td>0</td>\n",
       "      <td>0</td>\n",
       "      <td>0</td>\n",
       "      <td>0</td>\n",
       "      <td>0</td>\n",
       "    </tr>\n",
       "    <tr>\n",
       "      <th>3</th>\n",
       "      <td>1.0</td>\n",
       "      <td>305</td>\n",
       "      <td>1.0</td>\n",
       "      <td>1</td>\n",
       "      <td>0</td>\n",
       "      <td>0</td>\n",
       "      <td>1</td>\n",
       "      <td>0</td>\n",
       "      <td>0</td>\n",
       "      <td>0</td>\n",
       "      <td>...</td>\n",
       "      <td>0</td>\n",
       "      <td>0</td>\n",
       "      <td>0</td>\n",
       "      <td>1</td>\n",
       "      <td>0</td>\n",
       "      <td>0</td>\n",
       "      <td>0</td>\n",
       "      <td>0</td>\n",
       "      <td>0</td>\n",
       "      <td>0</td>\n",
       "    </tr>\n",
       "    <tr>\n",
       "      <th>4</th>\n",
       "      <td>2.0</td>\n",
       "      <td>1428</td>\n",
       "      <td>1.0</td>\n",
       "      <td>1</td>\n",
       "      <td>0</td>\n",
       "      <td>0</td>\n",
       "      <td>0</td>\n",
       "      <td>0</td>\n",
       "      <td>1</td>\n",
       "      <td>0</td>\n",
       "      <td>...</td>\n",
       "      <td>0</td>\n",
       "      <td>0</td>\n",
       "      <td>0</td>\n",
       "      <td>1</td>\n",
       "      <td>0</td>\n",
       "      <td>0</td>\n",
       "      <td>0</td>\n",
       "      <td>0</td>\n",
       "      <td>0</td>\n",
       "      <td>0</td>\n",
       "    </tr>\n",
       "  </tbody>\n",
       "</table>\n",
       "<p>5 rows × 70 columns</p>\n",
       "</div>"
      ],
      "text/plain": [
       "   TotalVisits  Total Time Spent on Website  Page Views Per Visit  \\\n",
       "0          0.0                            0                   0.0   \n",
       "1          5.0                          674                   2.5   \n",
       "2          2.0                         1532                   2.0   \n",
       "3          1.0                          305                   1.0   \n",
       "4          2.0                         1428                   1.0   \n",
       "\n",
       "   Lead Origin_Landing Page Submission  Lead Origin_Lead Add Form  \\\n",
       "0                                    0                          0   \n",
       "1                                    0                          0   \n",
       "2                                    1                          0   \n",
       "3                                    1                          0   \n",
       "4                                    1                          0   \n",
       "\n",
       "   Lead Origin_Lead Import  Lead Source_Direct Traffic  Lead Source_Facebook  \\\n",
       "0                        0                           0                     0   \n",
       "1                        0                           0                     0   \n",
       "2                        0                           1                     0   \n",
       "3                        0                           1                     0   \n",
       "4                        0                           0                     0   \n",
       "\n",
       "   Lead Source_Google  Lead Source_Live Chat  ...  \\\n",
       "0                   0                      0  ...   \n",
       "1                   0                      0  ...   \n",
       "2                   0                      0  ...   \n",
       "3                   0                      0  ...   \n",
       "4                   1                      0  ...   \n",
       "\n",
       "   Last Notable Activity_Email Opened  Last Notable Activity_Email Received  \\\n",
       "0                                   0                                     0   \n",
       "1                                   1                                     0   \n",
       "2                                   1                                     0   \n",
       "3                                   0                                     0   \n",
       "4                                   0                                     0   \n",
       "\n",
       "   Last Notable Activity_Had a Phone Conversation  \\\n",
       "0                                               0   \n",
       "1                                               0   \n",
       "2                                               0   \n",
       "3                                               0   \n",
       "4                                               0   \n",
       "\n",
       "   Last Notable Activity_Modified  \\\n",
       "0                               1   \n",
       "1                               0   \n",
       "2                               0   \n",
       "3                               1   \n",
       "4                               1   \n",
       "\n",
       "   Last Notable Activity_Olark Chat Conversation  \\\n",
       "0                                              0   \n",
       "1                                              0   \n",
       "2                                              0   \n",
       "3                                              0   \n",
       "4                                              0   \n",
       "\n",
       "   Last Notable Activity_Page Visited on Website  \\\n",
       "0                                              0   \n",
       "1                                              0   \n",
       "2                                              0   \n",
       "3                                              0   \n",
       "4                                              0   \n",
       "\n",
       "   Last Notable Activity_SMS Sent  Last Notable Activity_Unreachable  \\\n",
       "0                               0                                  0   \n",
       "1                               0                                  0   \n",
       "2                               0                                  0   \n",
       "3                               0                                  0   \n",
       "4                               0                                  0   \n",
       "\n",
       "   Last Notable Activity_Unsubscribed  \\\n",
       "0                                   0   \n",
       "1                                   0   \n",
       "2                                   0   \n",
       "3                                   0   \n",
       "4                                   0   \n",
       "\n",
       "   Last Notable Activity_View in browser link Clicked  \n",
       "0                                                  0   \n",
       "1                                                  0   \n",
       "2                                                  0   \n",
       "3                                                  0   \n",
       "4                                                  0   \n",
       "\n",
       "[5 rows x 70 columns]"
      ]
     },
     "execution_count": 90,
     "metadata": {},
     "output_type": "execute_result"
    }
   ],
   "source": [
    "X = lead_data.drop(['Converted'], 1)\n",
    "X.head()"
   ]
  },
  {
   "cell_type": "code",
   "execution_count": 91,
   "id": "0db9e8ef",
   "metadata": {},
   "outputs": [
    {
     "data": {
      "text/plain": [
       "0    0\n",
       "1    0\n",
       "2    1\n",
       "3    0\n",
       "4    1\n",
       "Name: Converted, dtype: int64"
      ]
     },
     "execution_count": 91,
     "metadata": {},
     "output_type": "execute_result"
    }
   ],
   "source": [
    "y = lead_data['Converted']\n",
    "\n",
    "y.head()"
   ]
  },
  {
   "cell_type": "code",
   "execution_count": 92,
   "id": "ede3f53a",
   "metadata": {},
   "outputs": [],
   "source": [
    "# Split the dataset into 70% train and 30% test\n",
    "\n",
    "X_train, X_test, y_train, y_test = train_test_split(X, y, train_size=0.7, test_size=0.3, random_state=100)"
   ]
  },
  {
   "cell_type": "markdown",
   "id": "e8da37a6",
   "metadata": {},
   "source": [
    "# Scaling\n",
    "Now there are a few numeric variables present in the dataset which have different scales. So let's go ahead and scale these variables."
   ]
  },
  {
   "cell_type": "code",
   "execution_count": 93,
   "id": "26328a5f",
   "metadata": {},
   "outputs": [
    {
     "data": {
      "text/html": [
       "<div>\n",
       "<style scoped>\n",
       "    .dataframe tbody tr th:only-of-type {\n",
       "        vertical-align: middle;\n",
       "    }\n",
       "\n",
       "    .dataframe tbody tr th {\n",
       "        vertical-align: top;\n",
       "    }\n",
       "\n",
       "    .dataframe thead th {\n",
       "        text-align: right;\n",
       "    }\n",
       "</style>\n",
       "<table border=\"1\" class=\"dataframe\">\n",
       "  <thead>\n",
       "    <tr style=\"text-align: right;\">\n",
       "      <th></th>\n",
       "      <th>TotalVisits</th>\n",
       "      <th>Total Time Spent on Website</th>\n",
       "      <th>Page Views Per Visit</th>\n",
       "      <th>Lead Origin_Landing Page Submission</th>\n",
       "      <th>Lead Origin_Lead Add Form</th>\n",
       "      <th>Lead Origin_Lead Import</th>\n",
       "      <th>Lead Source_Direct Traffic</th>\n",
       "      <th>Lead Source_Facebook</th>\n",
       "      <th>Lead Source_Google</th>\n",
       "      <th>Lead Source_Live Chat</th>\n",
       "      <th>...</th>\n",
       "      <th>Last Notable Activity_Email Opened</th>\n",
       "      <th>Last Notable Activity_Email Received</th>\n",
       "      <th>Last Notable Activity_Had a Phone Conversation</th>\n",
       "      <th>Last Notable Activity_Modified</th>\n",
       "      <th>Last Notable Activity_Olark Chat Conversation</th>\n",
       "      <th>Last Notable Activity_Page Visited on Website</th>\n",
       "      <th>Last Notable Activity_SMS Sent</th>\n",
       "      <th>Last Notable Activity_Unreachable</th>\n",
       "      <th>Last Notable Activity_Unsubscribed</th>\n",
       "      <th>Last Notable Activity_View in browser link Clicked</th>\n",
       "    </tr>\n",
       "  </thead>\n",
       "  <tbody>\n",
       "    <tr>\n",
       "      <th>3177</th>\n",
       "      <td>0.235294</td>\n",
       "      <td>0.405370</td>\n",
       "      <td>0.222222</td>\n",
       "      <td>1</td>\n",
       "      <td>0</td>\n",
       "      <td>0</td>\n",
       "      <td>0</td>\n",
       "      <td>0</td>\n",
       "      <td>1</td>\n",
       "      <td>0</td>\n",
       "      <td>...</td>\n",
       "      <td>0</td>\n",
       "      <td>0</td>\n",
       "      <td>0</td>\n",
       "      <td>0</td>\n",
       "      <td>0</td>\n",
       "      <td>0</td>\n",
       "      <td>1</td>\n",
       "      <td>0</td>\n",
       "      <td>0</td>\n",
       "      <td>0</td>\n",
       "    </tr>\n",
       "    <tr>\n",
       "      <th>169</th>\n",
       "      <td>0.176471</td>\n",
       "      <td>0.167694</td>\n",
       "      <td>0.166667</td>\n",
       "      <td>1</td>\n",
       "      <td>0</td>\n",
       "      <td>0</td>\n",
       "      <td>1</td>\n",
       "      <td>0</td>\n",
       "      <td>0</td>\n",
       "      <td>0</td>\n",
       "      <td>...</td>\n",
       "      <td>0</td>\n",
       "      <td>0</td>\n",
       "      <td>0</td>\n",
       "      <td>0</td>\n",
       "      <td>0</td>\n",
       "      <td>1</td>\n",
       "      <td>0</td>\n",
       "      <td>0</td>\n",
       "      <td>0</td>\n",
       "      <td>0</td>\n",
       "    </tr>\n",
       "    <tr>\n",
       "      <th>3549</th>\n",
       "      <td>0.235294</td>\n",
       "      <td>0.530370</td>\n",
       "      <td>0.444444</td>\n",
       "      <td>1</td>\n",
       "      <td>0</td>\n",
       "      <td>0</td>\n",
       "      <td>0</td>\n",
       "      <td>0</td>\n",
       "      <td>1</td>\n",
       "      <td>0</td>\n",
       "      <td>...</td>\n",
       "      <td>0</td>\n",
       "      <td>0</td>\n",
       "      <td>0</td>\n",
       "      <td>0</td>\n",
       "      <td>0</td>\n",
       "      <td>0</td>\n",
       "      <td>1</td>\n",
       "      <td>0</td>\n",
       "      <td>0</td>\n",
       "      <td>0</td>\n",
       "    </tr>\n",
       "    <tr>\n",
       "      <th>9140</th>\n",
       "      <td>0.117647</td>\n",
       "      <td>0.050176</td>\n",
       "      <td>0.222222</td>\n",
       "      <td>0</td>\n",
       "      <td>0</td>\n",
       "      <td>0</td>\n",
       "      <td>0</td>\n",
       "      <td>0</td>\n",
       "      <td>1</td>\n",
       "      <td>0</td>\n",
       "      <td>...</td>\n",
       "      <td>0</td>\n",
       "      <td>0</td>\n",
       "      <td>0</td>\n",
       "      <td>1</td>\n",
       "      <td>0</td>\n",
       "      <td>0</td>\n",
       "      <td>0</td>\n",
       "      <td>0</td>\n",
       "      <td>0</td>\n",
       "      <td>0</td>\n",
       "    </tr>\n",
       "    <tr>\n",
       "      <th>2994</th>\n",
       "      <td>0.411765</td>\n",
       "      <td>0.113116</td>\n",
       "      <td>0.777778</td>\n",
       "      <td>1</td>\n",
       "      <td>0</td>\n",
       "      <td>0</td>\n",
       "      <td>0</td>\n",
       "      <td>0</td>\n",
       "      <td>0</td>\n",
       "      <td>0</td>\n",
       "      <td>...</td>\n",
       "      <td>0</td>\n",
       "      <td>0</td>\n",
       "      <td>0</td>\n",
       "      <td>0</td>\n",
       "      <td>0</td>\n",
       "      <td>0</td>\n",
       "      <td>1</td>\n",
       "      <td>0</td>\n",
       "      <td>0</td>\n",
       "      <td>0</td>\n",
       "    </tr>\n",
       "  </tbody>\n",
       "</table>\n",
       "<p>5 rows × 70 columns</p>\n",
       "</div>"
      ],
      "text/plain": [
       "      TotalVisits  Total Time Spent on Website  Page Views Per Visit  \\\n",
       "3177     0.235294                     0.405370              0.222222   \n",
       "169      0.176471                     0.167694              0.166667   \n",
       "3549     0.235294                     0.530370              0.444444   \n",
       "9140     0.117647                     0.050176              0.222222   \n",
       "2994     0.411765                     0.113116              0.777778   \n",
       "\n",
       "      Lead Origin_Landing Page Submission  Lead Origin_Lead Add Form  \\\n",
       "3177                                    1                          0   \n",
       "169                                     1                          0   \n",
       "3549                                    1                          0   \n",
       "9140                                    0                          0   \n",
       "2994                                    1                          0   \n",
       "\n",
       "      Lead Origin_Lead Import  Lead Source_Direct Traffic  \\\n",
       "3177                        0                           0   \n",
       "169                         0                           1   \n",
       "3549                        0                           0   \n",
       "9140                        0                           0   \n",
       "2994                        0                           0   \n",
       "\n",
       "      Lead Source_Facebook  Lead Source_Google  Lead Source_Live Chat  ...  \\\n",
       "3177                     0                   1                      0  ...   \n",
       "169                      0                   0                      0  ...   \n",
       "3549                     0                   1                      0  ...   \n",
       "9140                     0                   1                      0  ...   \n",
       "2994                     0                   0                      0  ...   \n",
       "\n",
       "      Last Notable Activity_Email Opened  \\\n",
       "3177                                   0   \n",
       "169                                    0   \n",
       "3549                                   0   \n",
       "9140                                   0   \n",
       "2994                                   0   \n",
       "\n",
       "      Last Notable Activity_Email Received  \\\n",
       "3177                                     0   \n",
       "169                                      0   \n",
       "3549                                     0   \n",
       "9140                                     0   \n",
       "2994                                     0   \n",
       "\n",
       "      Last Notable Activity_Had a Phone Conversation  \\\n",
       "3177                                               0   \n",
       "169                                                0   \n",
       "3549                                               0   \n",
       "9140                                               0   \n",
       "2994                                               0   \n",
       "\n",
       "      Last Notable Activity_Modified  \\\n",
       "3177                               0   \n",
       "169                                0   \n",
       "3549                               0   \n",
       "9140                               1   \n",
       "2994                               0   \n",
       "\n",
       "      Last Notable Activity_Olark Chat Conversation  \\\n",
       "3177                                              0   \n",
       "169                                               0   \n",
       "3549                                              0   \n",
       "9140                                              0   \n",
       "2994                                              0   \n",
       "\n",
       "      Last Notable Activity_Page Visited on Website  \\\n",
       "3177                                              0   \n",
       "169                                               1   \n",
       "3549                                              0   \n",
       "9140                                              0   \n",
       "2994                                              0   \n",
       "\n",
       "      Last Notable Activity_SMS Sent  Last Notable Activity_Unreachable  \\\n",
       "3177                               1                                  0   \n",
       "169                                0                                  0   \n",
       "3549                               1                                  0   \n",
       "9140                               0                                  0   \n",
       "2994                               1                                  0   \n",
       "\n",
       "      Last Notable Activity_Unsubscribed  \\\n",
       "3177                                   0   \n",
       "169                                    0   \n",
       "3549                                   0   \n",
       "9140                                   0   \n",
       "2994                                   0   \n",
       "\n",
       "      Last Notable Activity_View in browser link Clicked  \n",
       "3177                                                  0   \n",
       "169                                                   0   \n",
       "3549                                                  0   \n",
       "9140                                                  0   \n",
       "2994                                                  0   \n",
       "\n",
       "[5 rows x 70 columns]"
      ]
     },
     "execution_count": 93,
     "metadata": {},
     "output_type": "execute_result"
    }
   ],
   "source": [
    "from sklearn.preprocessing import MinMaxScaler\n",
    "# Scale the three numeric features present in the dataset\n",
    "\n",
    "scaler = MinMaxScaler()\n",
    "\n",
    "X_train[['TotalVisits', 'Page Views Per Visit', 'Total Time Spent on Website']] = scaler.fit_transform(X_train[['TotalVisits', 'Page Views Per Visit', 'Total Time Spent on Website']])\n",
    "\n",
    "X_train.head()"
   ]
  },
  {
   "cell_type": "markdown",
   "id": "3a214e0b",
   "metadata": {},
   "source": [
    "# Model Building\n",
    "Let's now move to model building. As you can see that there are a lot of variables present in the dataset which we cannot deal with. So the best way to approach this is to select a small set of features from this pool of variables using RFE."
   ]
  },
  {
   "cell_type": "code",
   "execution_count": 94,
   "id": "54b349d8",
   "metadata": {},
   "outputs": [],
   "source": [
    "# Import 'LogisticRegression' and create a LogisticRegression object\n",
    "\n",
    "from sklearn.linear_model import LogisticRegression\n",
    "logreg = LogisticRegression()"
   ]
  },
  {
   "cell_type": "code",
   "execution_count": 95,
   "id": "38b7bcd1",
   "metadata": {},
   "outputs": [],
   "source": [
    "# Import RFE and select 15 variables\n",
    "\n",
    "from sklearn.feature_selection import RFE\n",
    "rfe = RFE(logreg, n_features_to_select = 15)\n",
    "rfe = rfe.fit(X_train, y_train)"
   ]
  },
  {
   "cell_type": "code",
   "execution_count": 96,
   "id": "70392b39",
   "metadata": {},
   "outputs": [
    {
     "data": {
      "text/plain": [
       "[('TotalVisits', True, 1),\n",
       " ('Total Time Spent on Website', True, 1),\n",
       " ('Page Views Per Visit', False, 8),\n",
       " ('Lead Origin_Landing Page Submission', False, 23),\n",
       " ('Lead Origin_Lead Add Form', True, 1),\n",
       " ('Lead Origin_Lead Import', False, 17),\n",
       " ('Lead Source_Direct Traffic', True, 1),\n",
       " ('Lead Source_Facebook', False, 39),\n",
       " ('Lead Source_Google', True, 1),\n",
       " ('Lead Source_Live Chat', False, 32),\n",
       " ('Lead Source_Olark Chat', False, 5),\n",
       " ('Lead Source_Organic Search', True, 1),\n",
       " ('Lead Source_Pay per Click Ads', False, 28),\n",
       " ('Lead Source_Press_Release', False, 41),\n",
       " ('Lead Source_Reference', False, 7),\n",
       " ('Lead Source_Referral Sites', True, 1),\n",
       " ('Lead Source_Social Media', False, 18),\n",
       " ('Lead Source_WeLearn', False, 26),\n",
       " ('Lead Source_Welingak Website', True, 1),\n",
       " ('Lead Source_bing', False, 38),\n",
       " ('Lead Source_testone', False, 27),\n",
       " ('Last Activity_Converted to Lead', False, 14),\n",
       " ('Last Activity_Email Bounced', True, 1),\n",
       " ('Last Activity_Email Link Clicked', False, 56),\n",
       " ('Last Activity_Email Marked Spam', False, 44),\n",
       " ('Last Activity_Email Opened', False, 10),\n",
       " ('Last Activity_Email Received', False, 48),\n",
       " ('Last Activity_Form Submitted on Website', False, 22),\n",
       " ('Last Activity_Had a Phone Conversation', False, 4),\n",
       " ('Last Activity_Olark Chat Conversation', True, 1),\n",
       " ('Last Activity_Page Visited on Website', False, 52),\n",
       " ('Last Activity_SMS Sent', True, 1),\n",
       " ('Last Activity_Unreachable', False, 37),\n",
       " ('Last Activity_Unsubscribed', False, 33),\n",
       " ('Last Activity_View in browser link Clicked', False, 21),\n",
       " ('Last Activity_Visited Booth in Tradeshow', False, 45),\n",
       " ('Specialization_Industry Specializations', False, 54),\n",
       " ('Specialization_Management Specializations', False, 46),\n",
       " ('How did you hear about X Education_Email', False, 12),\n",
       " ('How did you hear about X Education_Multiple Sources', False, 20),\n",
       " ('How did you hear about X Education_Online Search', False, 51),\n",
       " ('How did you hear about X Education_Other', False, 47),\n",
       " ('How did you hear about X Education_SMS', False, 19),\n",
       " ('How did you hear about X Education_Select', False, 24),\n",
       " ('How did you hear about X Education_Social Media', False, 53),\n",
       " ('How did you hear about X Education_Student of SomeSchool', False, 50),\n",
       " ('How did you hear about X Education_Word Of Mouth', False, 42),\n",
       " ('What is your current occupation_Housewife', False, 6),\n",
       " ('What is your current occupation_Other', False, 25),\n",
       " ('What is your current occupation_Student', False, 3),\n",
       " ('What is your current occupation_Unemployed', False, 2),\n",
       " ('What is your current occupation_Working Professional', True, 1),\n",
       " ('City_Other Cities', False, 34),\n",
       " ('City_Other Cities of Maharashtra', False, 30),\n",
       " ('City_Other Metro Cities', False, 35),\n",
       " ('City_Thane & Outskirts', False, 36),\n",
       " ('City_Tier II Cities', False, 55),\n",
       " ('Last Notable Activity_Email Bounced', False, 40),\n",
       " ('Last Notable Activity_Email Link Clicked', False, 15),\n",
       " ('Last Notable Activity_Email Marked Spam', False, 43),\n",
       " ('Last Notable Activity_Email Opened', False, 11),\n",
       " ('Last Notable Activity_Email Received', False, 49),\n",
       " ('Last Notable Activity_Had a Phone Conversation', True, 1),\n",
       " ('Last Notable Activity_Modified', False, 9),\n",
       " ('Last Notable Activity_Olark Chat Conversation', False, 16),\n",
       " ('Last Notable Activity_Page Visited on Website', False, 13),\n",
       " ('Last Notable Activity_SMS Sent', False, 29),\n",
       " ('Last Notable Activity_Unreachable', True, 1),\n",
       " ('Last Notable Activity_Unsubscribed', True, 1),\n",
       " ('Last Notable Activity_View in browser link Clicked', False, 31)]"
      ]
     },
     "execution_count": 96,
     "metadata": {},
     "output_type": "execute_result"
    }
   ],
   "source": [
    "# Let's take a look at which features have been selected by RFE\n",
    "\n",
    "list(zip(X_train.columns, rfe.support_, rfe.ranking_))"
   ]
  },
  {
   "cell_type": "code",
   "execution_count": 97,
   "id": "96eb36d0",
   "metadata": {},
   "outputs": [],
   "source": [
    "# Put all the columns selected by RFE in the variable 'col'\n",
    "\n",
    "col = X_train.columns[rfe.support_]"
   ]
  },
  {
   "cell_type": "markdown",
   "id": "2e7e3c9f",
   "metadata": {},
   "source": [
    "Now you have all the variables selected by RFE and since we care about the statistics part, i.e. the p-values and the VIFs, let's use these variables to create a logistic regression model using statsmodels."
   ]
  },
  {
   "cell_type": "code",
   "execution_count": 98,
   "id": "48305c3e",
   "metadata": {},
   "outputs": [],
   "source": [
    "# Select only the columns selected by RFE\n",
    "\n",
    "X_train = X_train[col]"
   ]
  },
  {
   "cell_type": "code",
   "execution_count": 99,
   "id": "3c6706e2",
   "metadata": {},
   "outputs": [],
   "source": [
    "# Import statsmodels\n",
    "\n",
    "import statsmodels.api as sm"
   ]
  },
  {
   "cell_type": "code",
   "execution_count": 100,
   "id": "a9cb68fe",
   "metadata": {},
   "outputs": [
    {
     "data": {
      "text/html": [
       "<table class=\"simpletable\">\n",
       "<caption>Generalized Linear Model Regression Results</caption>\n",
       "<tr>\n",
       "  <th>Dep. Variable:</th>       <td>Converted</td>    <th>  No. Observations:  </th>  <td>  4384</td> \n",
       "</tr>\n",
       "<tr>\n",
       "  <th>Model:</th>                  <td>GLM</td>       <th>  Df Residuals:      </th>  <td>  4368</td> \n",
       "</tr>\n",
       "<tr>\n",
       "  <th>Model Family:</th>        <td>Binomial</td>     <th>  Df Model:          </th>  <td>    15</td> \n",
       "</tr>\n",
       "<tr>\n",
       "  <th>Link Function:</th>         <td>Logit</td>      <th>  Scale:             </th> <td>  1.0000</td>\n",
       "</tr>\n",
       "<tr>\n",
       "  <th>Method:</th>                <td>IRLS</td>       <th>  Log-Likelihood:    </th> <td> -2027.4</td>\n",
       "</tr>\n",
       "<tr>\n",
       "  <th>Date:</th>            <td>Tue, 18 Apr 2023</td> <th>  Deviance:          </th> <td>  4054.8</td>\n",
       "</tr>\n",
       "<tr>\n",
       "  <th>Time:</th>                <td>21:11:28</td>     <th>  Pearson chi2:      </th> <td>4.65e+03</td>\n",
       "</tr>\n",
       "<tr>\n",
       "  <th>No. Iterations:</th>         <td>21</td>        <th>  Pseudo R-squ. (CS):</th>  <td>0.3684</td> \n",
       "</tr>\n",
       "<tr>\n",
       "  <th>Covariance Type:</th>     <td>nonrobust</td>    <th>                     </th>     <td> </td>   \n",
       "</tr>\n",
       "</table>\n",
       "<table class=\"simpletable\">\n",
       "<tr>\n",
       "                            <td></td>                              <th>coef</th>     <th>std err</th>      <th>z</th>      <th>P>|z|</th>  <th>[0.025</th>    <th>0.975]</th>  \n",
       "</tr>\n",
       "<tr>\n",
       "  <th>const</th>                                                <td>   -0.6285</td> <td>    0.102</td> <td>   -6.152</td> <td> 0.000</td> <td>   -0.829</td> <td>   -0.428</td>\n",
       "</tr>\n",
       "<tr>\n",
       "  <th>TotalVisits</th>                                          <td>    1.5450</td> <td>    0.282</td> <td>    5.474</td> <td> 0.000</td> <td>    0.992</td> <td>    2.098</td>\n",
       "</tr>\n",
       "<tr>\n",
       "  <th>Total Time Spent on Website</th>                          <td>    4.5373</td> <td>    0.191</td> <td>   23.779</td> <td> 0.000</td> <td>    4.163</td> <td>    4.911</td>\n",
       "</tr>\n",
       "<tr>\n",
       "  <th>Lead Origin_Lead Add Form</th>                            <td>    2.0274</td> <td>    0.225</td> <td>    9.016</td> <td> 0.000</td> <td>    1.587</td> <td>    2.468</td>\n",
       "</tr>\n",
       "<tr>\n",
       "  <th>Lead Source_Direct Traffic</th>                           <td>   -2.0782</td> <td>    0.146</td> <td>  -14.273</td> <td> 0.000</td> <td>   -2.364</td> <td>   -1.793</td>\n",
       "</tr>\n",
       "<tr>\n",
       "  <th>Lead Source_Google</th>                                   <td>   -1.6626</td> <td>    0.143</td> <td>  -11.586</td> <td> 0.000</td> <td>   -1.944</td> <td>   -1.381</td>\n",
       "</tr>\n",
       "<tr>\n",
       "  <th>Lead Source_Organic Search</th>                           <td>   -2.0392</td> <td>    0.173</td> <td>  -11.772</td> <td> 0.000</td> <td>   -2.379</td> <td>   -1.700</td>\n",
       "</tr>\n",
       "<tr>\n",
       "  <th>Lead Source_Referral Sites</th>                           <td>   -2.0400</td> <td>    0.431</td> <td>   -4.728</td> <td> 0.000</td> <td>   -2.886</td> <td>   -1.194</td>\n",
       "</tr>\n",
       "<tr>\n",
       "  <th>Lead Source_Welingak Website</th>                         <td>    1.7254</td> <td>    0.746</td> <td>    2.312</td> <td> 0.021</td> <td>    0.263</td> <td>    3.188</td>\n",
       "</tr>\n",
       "<tr>\n",
       "  <th>Last Activity_Email Bounced</th>                          <td>   -1.9478</td> <td>    0.403</td> <td>   -4.838</td> <td> 0.000</td> <td>   -2.737</td> <td>   -1.159</td>\n",
       "</tr>\n",
       "<tr>\n",
       "  <th>Last Activity_Olark Chat Conversation</th>                <td>   -1.2930</td> <td>    0.191</td> <td>   -6.752</td> <td> 0.000</td> <td>   -1.668</td> <td>   -0.918</td>\n",
       "</tr>\n",
       "<tr>\n",
       "  <th>Last Activity_SMS Sent</th>                               <td>    1.0627</td> <td>    0.084</td> <td>   12.725</td> <td> 0.000</td> <td>    0.899</td> <td>    1.226</td>\n",
       "</tr>\n",
       "<tr>\n",
       "  <th>What is your current occupation_Working Professional</th> <td>    2.4054</td> <td>    0.185</td> <td>   12.997</td> <td> 0.000</td> <td>    2.043</td> <td>    2.768</td>\n",
       "</tr>\n",
       "<tr>\n",
       "  <th>Last Notable Activity_Had a Phone Conversation</th>       <td>   22.6400</td> <td> 1.38e+04</td> <td>    0.002</td> <td> 0.999</td> <td> -2.7e+04</td> <td>  2.7e+04</td>\n",
       "</tr>\n",
       "<tr>\n",
       "  <th>Last Notable Activity_Unreachable</th>                    <td>    3.0382</td> <td>    1.100</td> <td>    2.761</td> <td> 0.006</td> <td>    0.882</td> <td>    5.195</td>\n",
       "</tr>\n",
       "<tr>\n",
       "  <th>Last Notable Activity_Unsubscribed</th>                   <td>   -1.4623</td> <td>    0.840</td> <td>   -1.742</td> <td> 0.082</td> <td>   -3.108</td> <td>    0.183</td>\n",
       "</tr>\n",
       "</table>"
      ],
      "text/plain": [
       "<class 'statsmodels.iolib.summary.Summary'>\n",
       "\"\"\"\n",
       "                 Generalized Linear Model Regression Results                  \n",
       "==============================================================================\n",
       "Dep. Variable:              Converted   No. Observations:                 4384\n",
       "Model:                            GLM   Df Residuals:                     4368\n",
       "Model Family:                Binomial   Df Model:                           15\n",
       "Link Function:                  Logit   Scale:                          1.0000\n",
       "Method:                          IRLS   Log-Likelihood:                -2027.4\n",
       "Date:                Tue, 18 Apr 2023   Deviance:                       4054.8\n",
       "Time:                        21:11:28   Pearson chi2:                 4.65e+03\n",
       "No. Iterations:                    21   Pseudo R-squ. (CS):             0.3684\n",
       "Covariance Type:            nonrobust                                         \n",
       "========================================================================================================================\n",
       "                                                           coef    std err          z      P>|z|      [0.025      0.975]\n",
       "------------------------------------------------------------------------------------------------------------------------\n",
       "const                                                   -0.6285      0.102     -6.152      0.000      -0.829      -0.428\n",
       "TotalVisits                                              1.5450      0.282      5.474      0.000       0.992       2.098\n",
       "Total Time Spent on Website                              4.5373      0.191     23.779      0.000       4.163       4.911\n",
       "Lead Origin_Lead Add Form                                2.0274      0.225      9.016      0.000       1.587       2.468\n",
       "Lead Source_Direct Traffic                              -2.0782      0.146    -14.273      0.000      -2.364      -1.793\n",
       "Lead Source_Google                                      -1.6626      0.143    -11.586      0.000      -1.944      -1.381\n",
       "Lead Source_Organic Search                              -2.0392      0.173    -11.772      0.000      -2.379      -1.700\n",
       "Lead Source_Referral Sites                              -2.0400      0.431     -4.728      0.000      -2.886      -1.194\n",
       "Lead Source_Welingak Website                             1.7254      0.746      2.312      0.021       0.263       3.188\n",
       "Last Activity_Email Bounced                             -1.9478      0.403     -4.838      0.000      -2.737      -1.159\n",
       "Last Activity_Olark Chat Conversation                   -1.2930      0.191     -6.752      0.000      -1.668      -0.918\n",
       "Last Activity_SMS Sent                                   1.0627      0.084     12.725      0.000       0.899       1.226\n",
       "What is your current occupation_Working Professional     2.4054      0.185     12.997      0.000       2.043       2.768\n",
       "Last Notable Activity_Had a Phone Conversation          22.6400   1.38e+04      0.002      0.999    -2.7e+04     2.7e+04\n",
       "Last Notable Activity_Unreachable                        3.0382      1.100      2.761      0.006       0.882       5.195\n",
       "Last Notable Activity_Unsubscribed                      -1.4623      0.840     -1.742      0.082      -3.108       0.183\n",
       "========================================================================================================================\n",
       "\"\"\""
      ]
     },
     "execution_count": 100,
     "metadata": {},
     "output_type": "execute_result"
    }
   ],
   "source": [
    "# Fit a logistic Regression model on X_train after adding a constant and output the summary\n",
    "\n",
    "X_train_sm = sm.add_constant(X_train)\n",
    "logm = sm.GLM(y_train, X_train_sm, family = sm.families.Binomial())\n",
    "res = logm.fit()\n",
    "res.summary()"
   ]
  },
  {
   "cell_type": "markdown",
   "id": "c98ec52a",
   "metadata": {},
   "source": [
    "There are quite a few variable which have a p-value greater than 0.05. We will need to take care of them. But first, let's also look at the VIFs."
   ]
  },
  {
   "cell_type": "code",
   "execution_count": 101,
   "id": "dc0c8624",
   "metadata": {},
   "outputs": [],
   "source": [
    "# Import 'variance_inflation_factor'\n",
    "\n",
    "from statsmodels.stats.outliers_influence import variance_inflation_factor"
   ]
  },
  {
   "cell_type": "code",
   "execution_count": 102,
   "id": "14f91539",
   "metadata": {},
   "outputs": [
    {
     "data": {
      "text/html": [
       "<div>\n",
       "<style scoped>\n",
       "    .dataframe tbody tr th:only-of-type {\n",
       "        vertical-align: middle;\n",
       "    }\n",
       "\n",
       "    .dataframe tbody tr th {\n",
       "        vertical-align: top;\n",
       "    }\n",
       "\n",
       "    .dataframe thead th {\n",
       "        text-align: right;\n",
       "    }\n",
       "</style>\n",
       "<table border=\"1\" class=\"dataframe\">\n",
       "  <thead>\n",
       "    <tr style=\"text-align: right;\">\n",
       "      <th></th>\n",
       "      <th>Features</th>\n",
       "      <th>VIF</th>\n",
       "    </tr>\n",
       "  </thead>\n",
       "  <tbody>\n",
       "    <tr>\n",
       "      <th>0</th>\n",
       "      <td>TotalVisits</td>\n",
       "      <td>3.57</td>\n",
       "    </tr>\n",
       "    <tr>\n",
       "      <th>4</th>\n",
       "      <td>Lead Source_Google</td>\n",
       "      <td>2.62</td>\n",
       "    </tr>\n",
       "    <tr>\n",
       "      <th>1</th>\n",
       "      <td>Total Time Spent on Website</td>\n",
       "      <td>2.50</td>\n",
       "    </tr>\n",
       "    <tr>\n",
       "      <th>3</th>\n",
       "      <td>Lead Source_Direct Traffic</td>\n",
       "      <td>2.22</td>\n",
       "    </tr>\n",
       "    <tr>\n",
       "      <th>5</th>\n",
       "      <td>Lead Source_Organic Search</td>\n",
       "      <td>1.91</td>\n",
       "    </tr>\n",
       "    <tr>\n",
       "      <th>10</th>\n",
       "      <td>Last Activity_SMS Sent</td>\n",
       "      <td>1.56</td>\n",
       "    </tr>\n",
       "    <tr>\n",
       "      <th>2</th>\n",
       "      <td>Lead Origin_Lead Add Form</td>\n",
       "      <td>1.49</td>\n",
       "    </tr>\n",
       "    <tr>\n",
       "      <th>7</th>\n",
       "      <td>Lead Source_Welingak Website</td>\n",
       "      <td>1.31</td>\n",
       "    </tr>\n",
       "    <tr>\n",
       "      <th>11</th>\n",
       "      <td>What is your current occupation_Working Profes...</td>\n",
       "      <td>1.20</td>\n",
       "    </tr>\n",
       "    <tr>\n",
       "      <th>6</th>\n",
       "      <td>Lead Source_Referral Sites</td>\n",
       "      <td>1.08</td>\n",
       "    </tr>\n",
       "    <tr>\n",
       "      <th>8</th>\n",
       "      <td>Last Activity_Email Bounced</td>\n",
       "      <td>1.06</td>\n",
       "    </tr>\n",
       "    <tr>\n",
       "      <th>9</th>\n",
       "      <td>Last Activity_Olark Chat Conversation</td>\n",
       "      <td>1.04</td>\n",
       "    </tr>\n",
       "    <tr>\n",
       "      <th>12</th>\n",
       "      <td>Last Notable Activity_Had a Phone Conversation</td>\n",
       "      <td>1.01</td>\n",
       "    </tr>\n",
       "    <tr>\n",
       "      <th>13</th>\n",
       "      <td>Last Notable Activity_Unreachable</td>\n",
       "      <td>1.01</td>\n",
       "    </tr>\n",
       "    <tr>\n",
       "      <th>14</th>\n",
       "      <td>Last Notable Activity_Unsubscribed</td>\n",
       "      <td>1.01</td>\n",
       "    </tr>\n",
       "  </tbody>\n",
       "</table>\n",
       "</div>"
      ],
      "text/plain": [
       "                                             Features   VIF\n",
       "0                                         TotalVisits  3.57\n",
       "4                                  Lead Source_Google  2.62\n",
       "1                         Total Time Spent on Website  2.50\n",
       "3                          Lead Source_Direct Traffic  2.22\n",
       "5                          Lead Source_Organic Search  1.91\n",
       "10                             Last Activity_SMS Sent  1.56\n",
       "2                           Lead Origin_Lead Add Form  1.49\n",
       "7                        Lead Source_Welingak Website  1.31\n",
       "11  What is your current occupation_Working Profes...  1.20\n",
       "6                          Lead Source_Referral Sites  1.08\n",
       "8                         Last Activity_Email Bounced  1.06\n",
       "9               Last Activity_Olark Chat Conversation  1.04\n",
       "12     Last Notable Activity_Had a Phone Conversation  1.01\n",
       "13                  Last Notable Activity_Unreachable  1.01\n",
       "14                 Last Notable Activity_Unsubscribed  1.01"
      ]
     },
     "execution_count": 102,
     "metadata": {},
     "output_type": "execute_result"
    }
   ],
   "source": [
    "# Make a VIF dataframe for all the variables present\n",
    "\n",
    "vif = pd.DataFrame()\n",
    "vif['Features'] = X_train.columns\n",
    "vif['VIF'] = [variance_inflation_factor(X_train.values, i) for i in range(X_train.shape[1])]\n",
    "vif['VIF'] = round(vif['VIF'], 2)\n",
    "vif = vif.sort_values(by = \"VIF\", ascending = False)\n",
    "vif"
   ]
  },
  {
   "cell_type": "markdown",
   "id": "eec7677b",
   "metadata": {},
   "source": [
    "VIFs seem to be in a decent range except for three variables.\n",
    "\n",
    "Let's first drop the variable 'Last Notable Activity_Had a Phone Conversation' since it has a high p-value as well as a high VIF."
   ]
  },
  {
   "cell_type": "code",
   "execution_count": 103,
   "id": "25a53f9a",
   "metadata": {},
   "outputs": [],
   "source": [
    "X_train.drop('Last Notable Activity_Had a Phone Conversation', axis = 1, inplace = True)"
   ]
  },
  {
   "cell_type": "code",
   "execution_count": 104,
   "id": "3baa961e",
   "metadata": {},
   "outputs": [
    {
     "data": {
      "text/html": [
       "<table class=\"simpletable\">\n",
       "<caption>Generalized Linear Model Regression Results</caption>\n",
       "<tr>\n",
       "  <th>Dep. Variable:</th>       <td>Converted</td>    <th>  No. Observations:  </th>  <td>  4384</td> \n",
       "</tr>\n",
       "<tr>\n",
       "  <th>Model:</th>                  <td>GLM</td>       <th>  Df Residuals:      </th>  <td>  4369</td> \n",
       "</tr>\n",
       "<tr>\n",
       "  <th>Model Family:</th>        <td>Binomial</td>     <th>  Df Model:          </th>  <td>    14</td> \n",
       "</tr>\n",
       "<tr>\n",
       "  <th>Link Function:</th>         <td>Logit</td>      <th>  Scale:             </th> <td>  1.0000</td>\n",
       "</tr>\n",
       "<tr>\n",
       "  <th>Method:</th>                <td>IRLS</td>       <th>  Log-Likelihood:    </th> <td> -2033.4</td>\n",
       "</tr>\n",
       "<tr>\n",
       "  <th>Date:</th>            <td>Tue, 18 Apr 2023</td> <th>  Deviance:          </th> <td>  4066.9</td>\n",
       "</tr>\n",
       "<tr>\n",
       "  <th>Time:</th>                <td>21:11:28</td>     <th>  Pearson chi2:      </th> <td>4.65e+03</td>\n",
       "</tr>\n",
       "<tr>\n",
       "  <th>No. Iterations:</th>          <td>7</td>        <th>  Pseudo R-squ. (CS):</th>  <td>0.3666</td> \n",
       "</tr>\n",
       "<tr>\n",
       "  <th>Covariance Type:</th>     <td>nonrobust</td>    <th>                     </th>     <td> </td>   \n",
       "</tr>\n",
       "</table>\n",
       "<table class=\"simpletable\">\n",
       "<tr>\n",
       "                            <td></td>                              <th>coef</th>     <th>std err</th>      <th>z</th>      <th>P>|z|</th>  <th>[0.025</th>    <th>0.975]</th>  \n",
       "</tr>\n",
       "<tr>\n",
       "  <th>const</th>                                                <td>   -0.6254</td> <td>    0.102</td> <td>   -6.125</td> <td> 0.000</td> <td>   -0.826</td> <td>   -0.425</td>\n",
       "</tr>\n",
       "<tr>\n",
       "  <th>TotalVisits</th>                                          <td>    1.6003</td> <td>    0.282</td> <td>    5.685</td> <td> 0.000</td> <td>    1.049</td> <td>    2.152</td>\n",
       "</tr>\n",
       "<tr>\n",
       "  <th>Total Time Spent on Website</th>                          <td>    4.5251</td> <td>    0.190</td> <td>   23.771</td> <td> 0.000</td> <td>    4.152</td> <td>    4.898</td>\n",
       "</tr>\n",
       "<tr>\n",
       "  <th>Lead Origin_Lead Add Form</th>                            <td>    2.0270</td> <td>    0.225</td> <td>    9.017</td> <td> 0.000</td> <td>    1.586</td> <td>    2.468</td>\n",
       "</tr>\n",
       "<tr>\n",
       "  <th>Lead Source_Direct Traffic</th>                           <td>   -2.0827</td> <td>    0.146</td> <td>  -14.312</td> <td> 0.000</td> <td>   -2.368</td> <td>   -1.797</td>\n",
       "</tr>\n",
       "<tr>\n",
       "  <th>Lead Source_Google</th>                                   <td>   -1.6626</td> <td>    0.143</td> <td>  -11.600</td> <td> 0.000</td> <td>   -1.944</td> <td>   -1.382</td>\n",
       "</tr>\n",
       "<tr>\n",
       "  <th>Lead Source_Organic Search</th>                           <td>   -2.0485</td> <td>    0.173</td> <td>  -11.829</td> <td> 0.000</td> <td>   -2.388</td> <td>   -1.709</td>\n",
       "</tr>\n",
       "<tr>\n",
       "  <th>Lead Source_Referral Sites</th>                           <td>   -2.0570</td> <td>    0.431</td> <td>   -4.769</td> <td> 0.000</td> <td>   -2.902</td> <td>   -1.212</td>\n",
       "</tr>\n",
       "<tr>\n",
       "  <th>Lead Source_Welingak Website</th>                         <td>    1.7261</td> <td>    0.746</td> <td>    2.313</td> <td> 0.021</td> <td>    0.263</td> <td>    3.189</td>\n",
       "</tr>\n",
       "<tr>\n",
       "  <th>Last Activity_Email Bounced</th>                          <td>   -1.9520</td> <td>    0.402</td> <td>   -4.850</td> <td> 0.000</td> <td>   -2.741</td> <td>   -1.163</td>\n",
       "</tr>\n",
       "<tr>\n",
       "  <th>Last Activity_Olark Chat Conversation</th>                <td>   -1.2997</td> <td>    0.192</td> <td>   -6.787</td> <td> 0.000</td> <td>   -1.675</td> <td>   -0.924</td>\n",
       "</tr>\n",
       "<tr>\n",
       "  <th>Last Activity_SMS Sent</th>                               <td>    1.0545</td> <td>    0.083</td> <td>   12.641</td> <td> 0.000</td> <td>    0.891</td> <td>    1.218</td>\n",
       "</tr>\n",
       "<tr>\n",
       "  <th>What is your current occupation_Working Professional</th> <td>    2.4046</td> <td>    0.185</td> <td>   13.003</td> <td> 0.000</td> <td>    2.042</td> <td>    2.767</td>\n",
       "</tr>\n",
       "<tr>\n",
       "  <th>Last Notable Activity_Unreachable</th>                    <td>    3.0277</td> <td>    1.100</td> <td>    2.752</td> <td> 0.006</td> <td>    0.871</td> <td>    5.184</td>\n",
       "</tr>\n",
       "<tr>\n",
       "  <th>Last Notable Activity_Unsubscribed</th>                   <td>   -1.4714</td> <td>    0.839</td> <td>   -1.753</td> <td> 0.080</td> <td>   -3.116</td> <td>    0.173</td>\n",
       "</tr>\n",
       "</table>"
      ],
      "text/plain": [
       "<class 'statsmodels.iolib.summary.Summary'>\n",
       "\"\"\"\n",
       "                 Generalized Linear Model Regression Results                  \n",
       "==============================================================================\n",
       "Dep. Variable:              Converted   No. Observations:                 4384\n",
       "Model:                            GLM   Df Residuals:                     4369\n",
       "Model Family:                Binomial   Df Model:                           14\n",
       "Link Function:                  Logit   Scale:                          1.0000\n",
       "Method:                          IRLS   Log-Likelihood:                -2033.4\n",
       "Date:                Tue, 18 Apr 2023   Deviance:                       4066.9\n",
       "Time:                        21:11:28   Pearson chi2:                 4.65e+03\n",
       "No. Iterations:                     7   Pseudo R-squ. (CS):             0.3666\n",
       "Covariance Type:            nonrobust                                         \n",
       "========================================================================================================================\n",
       "                                                           coef    std err          z      P>|z|      [0.025      0.975]\n",
       "------------------------------------------------------------------------------------------------------------------------\n",
       "const                                                   -0.6254      0.102     -6.125      0.000      -0.826      -0.425\n",
       "TotalVisits                                              1.6003      0.282      5.685      0.000       1.049       2.152\n",
       "Total Time Spent on Website                              4.5251      0.190     23.771      0.000       4.152       4.898\n",
       "Lead Origin_Lead Add Form                                2.0270      0.225      9.017      0.000       1.586       2.468\n",
       "Lead Source_Direct Traffic                              -2.0827      0.146    -14.312      0.000      -2.368      -1.797\n",
       "Lead Source_Google                                      -1.6626      0.143    -11.600      0.000      -1.944      -1.382\n",
       "Lead Source_Organic Search                              -2.0485      0.173    -11.829      0.000      -2.388      -1.709\n",
       "Lead Source_Referral Sites                              -2.0570      0.431     -4.769      0.000      -2.902      -1.212\n",
       "Lead Source_Welingak Website                             1.7261      0.746      2.313      0.021       0.263       3.189\n",
       "Last Activity_Email Bounced                             -1.9520      0.402     -4.850      0.000      -2.741      -1.163\n",
       "Last Activity_Olark Chat Conversation                   -1.2997      0.192     -6.787      0.000      -1.675      -0.924\n",
       "Last Activity_SMS Sent                                   1.0545      0.083     12.641      0.000       0.891       1.218\n",
       "What is your current occupation_Working Professional     2.4046      0.185     13.003      0.000       2.042       2.767\n",
       "Last Notable Activity_Unreachable                        3.0277      1.100      2.752      0.006       0.871       5.184\n",
       "Last Notable Activity_Unsubscribed                      -1.4714      0.839     -1.753      0.080      -3.116       0.173\n",
       "========================================================================================================================\n",
       "\"\"\""
      ]
     },
     "execution_count": 104,
     "metadata": {},
     "output_type": "execute_result"
    }
   ],
   "source": [
    "# Refit the model with the new set of features\n",
    "\n",
    "logm1 = sm.GLM(y_train,(sm.add_constant(X_train)), family = sm.families.Binomial())\n",
    "logm1.fit().summary()"
   ]
  },
  {
   "cell_type": "code",
   "execution_count": 105,
   "id": "18f2a326",
   "metadata": {},
   "outputs": [
    {
     "data": {
      "text/html": [
       "<div>\n",
       "<style scoped>\n",
       "    .dataframe tbody tr th:only-of-type {\n",
       "        vertical-align: middle;\n",
       "    }\n",
       "\n",
       "    .dataframe tbody tr th {\n",
       "        vertical-align: top;\n",
       "    }\n",
       "\n",
       "    .dataframe thead th {\n",
       "        text-align: right;\n",
       "    }\n",
       "</style>\n",
       "<table border=\"1\" class=\"dataframe\">\n",
       "  <thead>\n",
       "    <tr style=\"text-align: right;\">\n",
       "      <th></th>\n",
       "      <th>Features</th>\n",
       "      <th>VIF</th>\n",
       "    </tr>\n",
       "  </thead>\n",
       "  <tbody>\n",
       "    <tr>\n",
       "      <th>0</th>\n",
       "      <td>TotalVisits</td>\n",
       "      <td>3.56</td>\n",
       "    </tr>\n",
       "    <tr>\n",
       "      <th>4</th>\n",
       "      <td>Lead Source_Google</td>\n",
       "      <td>2.62</td>\n",
       "    </tr>\n",
       "    <tr>\n",
       "      <th>1</th>\n",
       "      <td>Total Time Spent on Website</td>\n",
       "      <td>2.50</td>\n",
       "    </tr>\n",
       "    <tr>\n",
       "      <th>3</th>\n",
       "      <td>Lead Source_Direct Traffic</td>\n",
       "      <td>2.22</td>\n",
       "    </tr>\n",
       "    <tr>\n",
       "      <th>5</th>\n",
       "      <td>Lead Source_Organic Search</td>\n",
       "      <td>1.91</td>\n",
       "    </tr>\n",
       "    <tr>\n",
       "      <th>10</th>\n",
       "      <td>Last Activity_SMS Sent</td>\n",
       "      <td>1.56</td>\n",
       "    </tr>\n",
       "    <tr>\n",
       "      <th>2</th>\n",
       "      <td>Lead Origin_Lead Add Form</td>\n",
       "      <td>1.49</td>\n",
       "    </tr>\n",
       "    <tr>\n",
       "      <th>7</th>\n",
       "      <td>Lead Source_Welingak Website</td>\n",
       "      <td>1.31</td>\n",
       "    </tr>\n",
       "    <tr>\n",
       "      <th>11</th>\n",
       "      <td>What is your current occupation_Working Profes...</td>\n",
       "      <td>1.20</td>\n",
       "    </tr>\n",
       "    <tr>\n",
       "      <th>6</th>\n",
       "      <td>Lead Source_Referral Sites</td>\n",
       "      <td>1.08</td>\n",
       "    </tr>\n",
       "    <tr>\n",
       "      <th>8</th>\n",
       "      <td>Last Activity_Email Bounced</td>\n",
       "      <td>1.06</td>\n",
       "    </tr>\n",
       "    <tr>\n",
       "      <th>9</th>\n",
       "      <td>Last Activity_Olark Chat Conversation</td>\n",
       "      <td>1.04</td>\n",
       "    </tr>\n",
       "    <tr>\n",
       "      <th>12</th>\n",
       "      <td>Last Notable Activity_Unreachable</td>\n",
       "      <td>1.01</td>\n",
       "    </tr>\n",
       "    <tr>\n",
       "      <th>13</th>\n",
       "      <td>Last Notable Activity_Unsubscribed</td>\n",
       "      <td>1.01</td>\n",
       "    </tr>\n",
       "  </tbody>\n",
       "</table>\n",
       "</div>"
      ],
      "text/plain": [
       "                                             Features   VIF\n",
       "0                                         TotalVisits  3.56\n",
       "4                                  Lead Source_Google  2.62\n",
       "1                         Total Time Spent on Website  2.50\n",
       "3                          Lead Source_Direct Traffic  2.22\n",
       "5                          Lead Source_Organic Search  1.91\n",
       "10                             Last Activity_SMS Sent  1.56\n",
       "2                           Lead Origin_Lead Add Form  1.49\n",
       "7                        Lead Source_Welingak Website  1.31\n",
       "11  What is your current occupation_Working Profes...  1.20\n",
       "6                          Lead Source_Referral Sites  1.08\n",
       "8                         Last Activity_Email Bounced  1.06\n",
       "9               Last Activity_Olark Chat Conversation  1.04\n",
       "12                  Last Notable Activity_Unreachable  1.01\n",
       "13                 Last Notable Activity_Unsubscribed  1.01"
      ]
     },
     "execution_count": 105,
     "metadata": {},
     "output_type": "execute_result"
    }
   ],
   "source": [
    "# Make a VIF dataframe for all the variables present\n",
    "\n",
    "vif = pd.DataFrame()\n",
    "vif['Features'] = X_train.columns\n",
    "vif['VIF'] = [variance_inflation_factor(X_train.values, i) for i in range(X_train.shape[1])]\n",
    "vif['VIF'] = round(vif['VIF'], 2)\n",
    "vif = vif.sort_values(by = \"VIF\", ascending = False)\n",
    "vif"
   ]
  },
  {
   "cell_type": "code",
   "execution_count": 106,
   "id": "3aa47f70",
   "metadata": {},
   "outputs": [],
   "source": [
    "X_train.drop('Total Time Spent on Website', axis = 1, inplace = True)"
   ]
  },
  {
   "cell_type": "code",
   "execution_count": 107,
   "id": "395b4059",
   "metadata": {},
   "outputs": [
    {
     "data": {
      "text/html": [
       "<table class=\"simpletable\">\n",
       "<caption>Generalized Linear Model Regression Results</caption>\n",
       "<tr>\n",
       "  <th>Dep. Variable:</th>       <td>Converted</td>    <th>  No. Observations:  </th>  <td>  4384</td> \n",
       "</tr>\n",
       "<tr>\n",
       "  <th>Model:</th>                  <td>GLM</td>       <th>  Df Residuals:      </th>  <td>  4370</td> \n",
       "</tr>\n",
       "<tr>\n",
       "  <th>Model Family:</th>        <td>Binomial</td>     <th>  Df Model:          </th>  <td>    13</td> \n",
       "</tr>\n",
       "<tr>\n",
       "  <th>Link Function:</th>         <td>Logit</td>      <th>  Scale:             </th> <td>  1.0000</td>\n",
       "</tr>\n",
       "<tr>\n",
       "  <th>Method:</th>                <td>IRLS</td>       <th>  Log-Likelihood:    </th> <td> -2380.3</td>\n",
       "</tr>\n",
       "<tr>\n",
       "  <th>Date:</th>            <td>Tue, 18 Apr 2023</td> <th>  Deviance:          </th> <td>  4760.6</td>\n",
       "</tr>\n",
       "<tr>\n",
       "  <th>Time:</th>                <td>21:11:29</td>     <th>  Pearson chi2:      </th> <td>4.56e+03</td>\n",
       "</tr>\n",
       "<tr>\n",
       "  <th>No. Iterations:</th>          <td>7</td>        <th>  Pseudo R-squ. (CS):</th>  <td>0.2580</td> \n",
       "</tr>\n",
       "<tr>\n",
       "  <th>Covariance Type:</th>     <td>nonrobust</td>    <th>                     </th>     <td> </td>   \n",
       "</tr>\n",
       "</table>\n",
       "<table class=\"simpletable\">\n",
       "<tr>\n",
       "                            <td></td>                              <th>coef</th>     <th>std err</th>      <th>z</th>      <th>P>|z|</th>  <th>[0.025</th>    <th>0.975]</th>  \n",
       "</tr>\n",
       "<tr>\n",
       "  <th>const</th>                                                <td>   -0.5210</td> <td>    0.098</td> <td>   -5.302</td> <td> 0.000</td> <td>   -0.714</td> <td>   -0.328</td>\n",
       "</tr>\n",
       "<tr>\n",
       "  <th>TotalVisits</th>                                          <td>    2.0378</td> <td>    0.248</td> <td>    8.207</td> <td> 0.000</td> <td>    1.551</td> <td>    2.524</td>\n",
       "</tr>\n",
       "<tr>\n",
       "  <th>Lead Origin_Lead Add Form</th>                            <td>    1.9589</td> <td>    0.222</td> <td>    8.804</td> <td> 0.000</td> <td>    1.523</td> <td>    2.395</td>\n",
       "</tr>\n",
       "<tr>\n",
       "  <th>Lead Source_Direct Traffic</th>                           <td>   -0.9652</td> <td>    0.124</td> <td>   -7.788</td> <td> 0.000</td> <td>   -1.208</td> <td>   -0.722</td>\n",
       "</tr>\n",
       "<tr>\n",
       "  <th>Lead Source_Google</th>                                   <td>   -0.4739</td> <td>    0.121</td> <td>   -3.905</td> <td> 0.000</td> <td>   -0.712</td> <td>   -0.236</td>\n",
       "</tr>\n",
       "<tr>\n",
       "  <th>Lead Source_Organic Search</th>                           <td>   -0.9904</td> <td>    0.151</td> <td>   -6.576</td> <td> 0.000</td> <td>   -1.286</td> <td>   -0.695</td>\n",
       "</tr>\n",
       "<tr>\n",
       "  <th>Lead Source_Referral Sites</th>                           <td>   -1.0125</td> <td>    0.374</td> <td>   -2.704</td> <td> 0.007</td> <td>   -1.746</td> <td>   -0.279</td>\n",
       "</tr>\n",
       "<tr>\n",
       "  <th>Lead Source_Welingak Website</th>                         <td>    1.7372</td> <td>    0.746</td> <td>    2.330</td> <td> 0.020</td> <td>    0.276</td> <td>    3.199</td>\n",
       "</tr>\n",
       "<tr>\n",
       "  <th>Last Activity_Email Bounced</th>                          <td>   -1.8919</td> <td>    0.384</td> <td>   -4.932</td> <td> 0.000</td> <td>   -2.644</td> <td>   -1.140</td>\n",
       "</tr>\n",
       "<tr>\n",
       "  <th>Last Activity_Olark Chat Conversation</th>                <td>   -1.2320</td> <td>    0.178</td> <td>   -6.917</td> <td> 0.000</td> <td>   -1.581</td> <td>   -0.883</td>\n",
       "</tr>\n",
       "<tr>\n",
       "  <th>Last Activity_SMS Sent</th>                               <td>    1.0987</td> <td>    0.075</td> <td>   14.575</td> <td> 0.000</td> <td>    0.951</td> <td>    1.246</td>\n",
       "</tr>\n",
       "<tr>\n",
       "  <th>What is your current occupation_Working Professional</th> <td>    2.5183</td> <td>    0.177</td> <td>   14.257</td> <td> 0.000</td> <td>    2.172</td> <td>    2.865</td>\n",
       "</tr>\n",
       "<tr>\n",
       "  <th>Last Notable Activity_Unreachable</th>                    <td>    2.6868</td> <td>    1.064</td> <td>    2.524</td> <td> 0.012</td> <td>    0.600</td> <td>    4.773</td>\n",
       "</tr>\n",
       "<tr>\n",
       "  <th>Last Notable Activity_Unsubscribed</th>                   <td>   -1.7477</td> <td>    0.803</td> <td>   -2.177</td> <td> 0.029</td> <td>   -3.321</td> <td>   -0.174</td>\n",
       "</tr>\n",
       "</table>"
      ],
      "text/plain": [
       "<class 'statsmodels.iolib.summary.Summary'>\n",
       "\"\"\"\n",
       "                 Generalized Linear Model Regression Results                  \n",
       "==============================================================================\n",
       "Dep. Variable:              Converted   No. Observations:                 4384\n",
       "Model:                            GLM   Df Residuals:                     4370\n",
       "Model Family:                Binomial   Df Model:                           13\n",
       "Link Function:                  Logit   Scale:                          1.0000\n",
       "Method:                          IRLS   Log-Likelihood:                -2380.3\n",
       "Date:                Tue, 18 Apr 2023   Deviance:                       4760.6\n",
       "Time:                        21:11:29   Pearson chi2:                 4.56e+03\n",
       "No. Iterations:                     7   Pseudo R-squ. (CS):             0.2580\n",
       "Covariance Type:            nonrobust                                         \n",
       "========================================================================================================================\n",
       "                                                           coef    std err          z      P>|z|      [0.025      0.975]\n",
       "------------------------------------------------------------------------------------------------------------------------\n",
       "const                                                   -0.5210      0.098     -5.302      0.000      -0.714      -0.328\n",
       "TotalVisits                                              2.0378      0.248      8.207      0.000       1.551       2.524\n",
       "Lead Origin_Lead Add Form                                1.9589      0.222      8.804      0.000       1.523       2.395\n",
       "Lead Source_Direct Traffic                              -0.9652      0.124     -7.788      0.000      -1.208      -0.722\n",
       "Lead Source_Google                                      -0.4739      0.121     -3.905      0.000      -0.712      -0.236\n",
       "Lead Source_Organic Search                              -0.9904      0.151     -6.576      0.000      -1.286      -0.695\n",
       "Lead Source_Referral Sites                              -1.0125      0.374     -2.704      0.007      -1.746      -0.279\n",
       "Lead Source_Welingak Website                             1.7372      0.746      2.330      0.020       0.276       3.199\n",
       "Last Activity_Email Bounced                             -1.8919      0.384     -4.932      0.000      -2.644      -1.140\n",
       "Last Activity_Olark Chat Conversation                   -1.2320      0.178     -6.917      0.000      -1.581      -0.883\n",
       "Last Activity_SMS Sent                                   1.0987      0.075     14.575      0.000       0.951       1.246\n",
       "What is your current occupation_Working Professional     2.5183      0.177     14.257      0.000       2.172       2.865\n",
       "Last Notable Activity_Unreachable                        2.6868      1.064      2.524      0.012       0.600       4.773\n",
       "Last Notable Activity_Unsubscribed                      -1.7477      0.803     -2.177      0.029      -3.321      -0.174\n",
       "========================================================================================================================\n",
       "\"\"\""
      ]
     },
     "execution_count": 107,
     "metadata": {},
     "output_type": "execute_result"
    }
   ],
   "source": [
    "# Refit the model with the new set of features\n",
    "\n",
    "logm2 = sm.GLM(y_train,(sm.add_constant(X_train)), family = sm.families.Binomial())\n",
    "logm2.fit().summary()"
   ]
  },
  {
   "cell_type": "code",
   "execution_count": 108,
   "id": "d5a9f7e2",
   "metadata": {},
   "outputs": [
    {
     "data": {
      "text/html": [
       "<div>\n",
       "<style scoped>\n",
       "    .dataframe tbody tr th:only-of-type {\n",
       "        vertical-align: middle;\n",
       "    }\n",
       "\n",
       "    .dataframe tbody tr th {\n",
       "        vertical-align: top;\n",
       "    }\n",
       "\n",
       "    .dataframe thead th {\n",
       "        text-align: right;\n",
       "    }\n",
       "</style>\n",
       "<table border=\"1\" class=\"dataframe\">\n",
       "  <thead>\n",
       "    <tr style=\"text-align: right;\">\n",
       "      <th></th>\n",
       "      <th>Features</th>\n",
       "      <th>VIF</th>\n",
       "    </tr>\n",
       "  </thead>\n",
       "  <tbody>\n",
       "    <tr>\n",
       "      <th>0</th>\n",
       "      <td>TotalVisits</td>\n",
       "      <td>3.49</td>\n",
       "    </tr>\n",
       "    <tr>\n",
       "      <th>3</th>\n",
       "      <td>Lead Source_Google</td>\n",
       "      <td>2.22</td>\n",
       "    </tr>\n",
       "    <tr>\n",
       "      <th>2</th>\n",
       "      <td>Lead Source_Direct Traffic</td>\n",
       "      <td>1.95</td>\n",
       "    </tr>\n",
       "    <tr>\n",
       "      <th>4</th>\n",
       "      <td>Lead Source_Organic Search</td>\n",
       "      <td>1.81</td>\n",
       "    </tr>\n",
       "    <tr>\n",
       "      <th>9</th>\n",
       "      <td>Last Activity_SMS Sent</td>\n",
       "      <td>1.54</td>\n",
       "    </tr>\n",
       "    <tr>\n",
       "      <th>1</th>\n",
       "      <td>Lead Origin_Lead Add Form</td>\n",
       "      <td>1.49</td>\n",
       "    </tr>\n",
       "    <tr>\n",
       "      <th>6</th>\n",
       "      <td>Lead Source_Welingak Website</td>\n",
       "      <td>1.31</td>\n",
       "    </tr>\n",
       "    <tr>\n",
       "      <th>10</th>\n",
       "      <td>What is your current occupation_Working Profes...</td>\n",
       "      <td>1.18</td>\n",
       "    </tr>\n",
       "    <tr>\n",
       "      <th>5</th>\n",
       "      <td>Lead Source_Referral Sites</td>\n",
       "      <td>1.07</td>\n",
       "    </tr>\n",
       "    <tr>\n",
       "      <th>7</th>\n",
       "      <td>Last Activity_Email Bounced</td>\n",
       "      <td>1.06</td>\n",
       "    </tr>\n",
       "    <tr>\n",
       "      <th>8</th>\n",
       "      <td>Last Activity_Olark Chat Conversation</td>\n",
       "      <td>1.04</td>\n",
       "    </tr>\n",
       "    <tr>\n",
       "      <th>11</th>\n",
       "      <td>Last Notable Activity_Unreachable</td>\n",
       "      <td>1.01</td>\n",
       "    </tr>\n",
       "    <tr>\n",
       "      <th>12</th>\n",
       "      <td>Last Notable Activity_Unsubscribed</td>\n",
       "      <td>1.01</td>\n",
       "    </tr>\n",
       "  </tbody>\n",
       "</table>\n",
       "</div>"
      ],
      "text/plain": [
       "                                             Features   VIF\n",
       "0                                         TotalVisits  3.49\n",
       "3                                  Lead Source_Google  2.22\n",
       "2                          Lead Source_Direct Traffic  1.95\n",
       "4                          Lead Source_Organic Search  1.81\n",
       "9                              Last Activity_SMS Sent  1.54\n",
       "1                           Lead Origin_Lead Add Form  1.49\n",
       "6                        Lead Source_Welingak Website  1.31\n",
       "10  What is your current occupation_Working Profes...  1.18\n",
       "5                          Lead Source_Referral Sites  1.07\n",
       "7                         Last Activity_Email Bounced  1.06\n",
       "8               Last Activity_Olark Chat Conversation  1.04\n",
       "11                  Last Notable Activity_Unreachable  1.01\n",
       "12                 Last Notable Activity_Unsubscribed  1.01"
      ]
     },
     "execution_count": 108,
     "metadata": {},
     "output_type": "execute_result"
    }
   ],
   "source": [
    "# Make a VIF dataframe for all the variables present\n",
    "\n",
    "vif = pd.DataFrame()\n",
    "vif['Features'] = X_train.columns\n",
    "vif['VIF'] = [variance_inflation_factor(X_train.values, i) for i in range(X_train.shape[1])]\n",
    "vif['VIF'] = round(vif['VIF'], 2)\n",
    "vif = vif.sort_values(by = \"VIF\", ascending = False)\n",
    "vif"
   ]
  },
  {
   "cell_type": "code",
   "execution_count": 109,
   "id": "c57ee51e",
   "metadata": {},
   "outputs": [],
   "source": [
    "X_train.drop('TotalVisits', axis = 1, inplace = True)"
   ]
  },
  {
   "cell_type": "code",
   "execution_count": 110,
   "id": "c95b76f5",
   "metadata": {},
   "outputs": [
    {
     "data": {
      "text/html": [
       "<table class=\"simpletable\">\n",
       "<caption>Generalized Linear Model Regression Results</caption>\n",
       "<tr>\n",
       "  <th>Dep. Variable:</th>       <td>Converted</td>    <th>  No. Observations:  </th>  <td>  4384</td> \n",
       "</tr>\n",
       "<tr>\n",
       "  <th>Model:</th>                  <td>GLM</td>       <th>  Df Residuals:      </th>  <td>  4371</td> \n",
       "</tr>\n",
       "<tr>\n",
       "  <th>Model Family:</th>        <td>Binomial</td>     <th>  Df Model:          </th>  <td>    12</td> \n",
       "</tr>\n",
       "<tr>\n",
       "  <th>Link Function:</th>         <td>Logit</td>      <th>  Scale:             </th> <td>  1.0000</td>\n",
       "</tr>\n",
       "<tr>\n",
       "  <th>Method:</th>                <td>IRLS</td>       <th>  Log-Likelihood:    </th> <td> -2415.1</td>\n",
       "</tr>\n",
       "<tr>\n",
       "  <th>Date:</th>            <td>Tue, 18 Apr 2023</td> <th>  Deviance:          </th> <td>  4830.2</td>\n",
       "</tr>\n",
       "<tr>\n",
       "  <th>Time:</th>                <td>21:11:29</td>     <th>  Pearson chi2:      </th> <td>4.60e+03</td>\n",
       "</tr>\n",
       "<tr>\n",
       "  <th>No. Iterations:</th>          <td>7</td>        <th>  Pseudo R-squ. (CS):</th>  <td>0.2462</td> \n",
       "</tr>\n",
       "<tr>\n",
       "  <th>Covariance Type:</th>     <td>nonrobust</td>    <th>                     </th>     <td> </td>   \n",
       "</tr>\n",
       "</table>\n",
       "<table class=\"simpletable\">\n",
       "<tr>\n",
       "                            <td></td>                              <th>coef</th>     <th>std err</th>      <th>z</th>      <th>P>|z|</th>  <th>[0.025</th>    <th>0.975]</th>  \n",
       "</tr>\n",
       "<tr>\n",
       "  <th>const</th>                                                <td>   -0.4406</td> <td>    0.097</td> <td>   -4.530</td> <td> 0.000</td> <td>   -0.631</td> <td>   -0.250</td>\n",
       "</tr>\n",
       "<tr>\n",
       "  <th>Lead Origin_Lead Add Form</th>                            <td>    1.9159</td> <td>    0.222</td> <td>    8.628</td> <td> 0.000</td> <td>    1.481</td> <td>    2.351</td>\n",
       "</tr>\n",
       "<tr>\n",
       "  <th>Lead Source_Direct Traffic</th>                           <td>   -0.5650</td> <td>    0.113</td> <td>   -5.019</td> <td> 0.000</td> <td>   -0.786</td> <td>   -0.344</td>\n",
       "</tr>\n",
       "<tr>\n",
       "  <th>Lead Source_Google</th>                                   <td>   -0.0398</td> <td>    0.108</td> <td>   -0.367</td> <td> 0.714</td> <td>   -0.252</td> <td>    0.173</td>\n",
       "</tr>\n",
       "<tr>\n",
       "  <th>Lead Source_Organic Search</th>                           <td>   -0.3959</td> <td>    0.130</td> <td>   -3.039</td> <td> 0.002</td> <td>   -0.651</td> <td>   -0.141</td>\n",
       "</tr>\n",
       "<tr>\n",
       "  <th>Lead Source_Referral Sites</th>                           <td>   -0.3802</td> <td>    0.358</td> <td>   -1.061</td> <td> 0.289</td> <td>   -1.082</td> <td>    0.322</td>\n",
       "</tr>\n",
       "<tr>\n",
       "  <th>Lead Source_Welingak Website</th>                         <td>    1.7472</td> <td>    0.745</td> <td>    2.344</td> <td> 0.019</td> <td>    0.286</td> <td>    3.208</td>\n",
       "</tr>\n",
       "<tr>\n",
       "  <th>Last Activity_Email Bounced</th>                          <td>   -2.0614</td> <td>    0.382</td> <td>   -5.400</td> <td> 0.000</td> <td>   -2.810</td> <td>   -1.313</td>\n",
       "</tr>\n",
       "<tr>\n",
       "  <th>Last Activity_Olark Chat Conversation</th>                <td>   -1.2678</td> <td>    0.177</td> <td>   -7.146</td> <td> 0.000</td> <td>   -1.616</td> <td>   -0.920</td>\n",
       "</tr>\n",
       "<tr>\n",
       "  <th>Last Activity_SMS Sent</th>                               <td>    1.0637</td> <td>    0.074</td> <td>   14.279</td> <td> 0.000</td> <td>    0.918</td> <td>    1.210</td>\n",
       "</tr>\n",
       "<tr>\n",
       "  <th>What is your current occupation_Working Professional</th> <td>    2.5079</td> <td>    0.176</td> <td>   14.266</td> <td> 0.000</td> <td>    2.163</td> <td>    2.852</td>\n",
       "</tr>\n",
       "<tr>\n",
       "  <th>Last Notable Activity_Unreachable</th>                    <td>    2.6718</td> <td>    1.064</td> <td>    2.511</td> <td> 0.012</td> <td>    0.587</td> <td>    4.757</td>\n",
       "</tr>\n",
       "<tr>\n",
       "  <th>Last Notable Activity_Unsubscribed</th>                   <td>   -1.7701</td> <td>    0.804</td> <td>   -2.200</td> <td> 0.028</td> <td>   -3.347</td> <td>   -0.193</td>\n",
       "</tr>\n",
       "</table>"
      ],
      "text/plain": [
       "<class 'statsmodels.iolib.summary.Summary'>\n",
       "\"\"\"\n",
       "                 Generalized Linear Model Regression Results                  \n",
       "==============================================================================\n",
       "Dep. Variable:              Converted   No. Observations:                 4384\n",
       "Model:                            GLM   Df Residuals:                     4371\n",
       "Model Family:                Binomial   Df Model:                           12\n",
       "Link Function:                  Logit   Scale:                          1.0000\n",
       "Method:                          IRLS   Log-Likelihood:                -2415.1\n",
       "Date:                Tue, 18 Apr 2023   Deviance:                       4830.2\n",
       "Time:                        21:11:29   Pearson chi2:                 4.60e+03\n",
       "No. Iterations:                     7   Pseudo R-squ. (CS):             0.2462\n",
       "Covariance Type:            nonrobust                                         \n",
       "========================================================================================================================\n",
       "                                                           coef    std err          z      P>|z|      [0.025      0.975]\n",
       "------------------------------------------------------------------------------------------------------------------------\n",
       "const                                                   -0.4406      0.097     -4.530      0.000      -0.631      -0.250\n",
       "Lead Origin_Lead Add Form                                1.9159      0.222      8.628      0.000       1.481       2.351\n",
       "Lead Source_Direct Traffic                              -0.5650      0.113     -5.019      0.000      -0.786      -0.344\n",
       "Lead Source_Google                                      -0.0398      0.108     -0.367      0.714      -0.252       0.173\n",
       "Lead Source_Organic Search                              -0.3959      0.130     -3.039      0.002      -0.651      -0.141\n",
       "Lead Source_Referral Sites                              -0.3802      0.358     -1.061      0.289      -1.082       0.322\n",
       "Lead Source_Welingak Website                             1.7472      0.745      2.344      0.019       0.286       3.208\n",
       "Last Activity_Email Bounced                             -2.0614      0.382     -5.400      0.000      -2.810      -1.313\n",
       "Last Activity_Olark Chat Conversation                   -1.2678      0.177     -7.146      0.000      -1.616      -0.920\n",
       "Last Activity_SMS Sent                                   1.0637      0.074     14.279      0.000       0.918       1.210\n",
       "What is your current occupation_Working Professional     2.5079      0.176     14.266      0.000       2.163       2.852\n",
       "Last Notable Activity_Unreachable                        2.6718      1.064      2.511      0.012       0.587       4.757\n",
       "Last Notable Activity_Unsubscribed                      -1.7701      0.804     -2.200      0.028      -3.347      -0.193\n",
       "========================================================================================================================\n",
       "\"\"\""
      ]
     },
     "execution_count": 110,
     "metadata": {},
     "output_type": "execute_result"
    }
   ],
   "source": [
    "logm3 = sm.GLM(y_train,(sm.add_constant(X_train)), family = sm.families.Binomial())\n",
    "logm3.fit().summary()"
   ]
  },
  {
   "cell_type": "code",
   "execution_count": 111,
   "id": "d7403cb7",
   "metadata": {},
   "outputs": [
    {
     "data": {
      "text/html": [
       "<div>\n",
       "<style scoped>\n",
       "    .dataframe tbody tr th:only-of-type {\n",
       "        vertical-align: middle;\n",
       "    }\n",
       "\n",
       "    .dataframe tbody tr th {\n",
       "        vertical-align: top;\n",
       "    }\n",
       "\n",
       "    .dataframe thead th {\n",
       "        text-align: right;\n",
       "    }\n",
       "</style>\n",
       "<table border=\"1\" class=\"dataframe\">\n",
       "  <thead>\n",
       "    <tr style=\"text-align: right;\">\n",
       "      <th></th>\n",
       "      <th>Features</th>\n",
       "      <th>VIF</th>\n",
       "    </tr>\n",
       "  </thead>\n",
       "  <tbody>\n",
       "    <tr>\n",
       "      <th>5</th>\n",
       "      <td>Lead Source_Welingak Website</td>\n",
       "      <td>1.31</td>\n",
       "    </tr>\n",
       "    <tr>\n",
       "      <th>6</th>\n",
       "      <td>Last Activity_Email Bounced</td>\n",
       "      <td>1.05</td>\n",
       "    </tr>\n",
       "    <tr>\n",
       "      <th>4</th>\n",
       "      <td>Lead Source_Referral Sites</td>\n",
       "      <td>1.01</td>\n",
       "    </tr>\n",
       "    <tr>\n",
       "      <th>10</th>\n",
       "      <td>Last Notable Activity_Unreachable</td>\n",
       "      <td>1.01</td>\n",
       "    </tr>\n",
       "    <tr>\n",
       "      <th>11</th>\n",
       "      <td>Last Notable Activity_Unsubscribed</td>\n",
       "      <td>1.01</td>\n",
       "    </tr>\n",
       "    <tr>\n",
       "      <th>0</th>\n",
       "      <td>Lead Origin_Lead Add Form</td>\n",
       "      <td>0.56</td>\n",
       "    </tr>\n",
       "    <tr>\n",
       "      <th>9</th>\n",
       "      <td>What is your current occupation_Working Profes...</td>\n",
       "      <td>0.52</td>\n",
       "    </tr>\n",
       "    <tr>\n",
       "      <th>8</th>\n",
       "      <td>Last Activity_SMS Sent</td>\n",
       "      <td>0.25</td>\n",
       "    </tr>\n",
       "    <tr>\n",
       "      <th>3</th>\n",
       "      <td>Lead Source_Organic Search</td>\n",
       "      <td>0.15</td>\n",
       "    </tr>\n",
       "    <tr>\n",
       "      <th>2</th>\n",
       "      <td>Lead Source_Google</td>\n",
       "      <td>0.12</td>\n",
       "    </tr>\n",
       "    <tr>\n",
       "      <th>7</th>\n",
       "      <td>Last Activity_Olark Chat Conversation</td>\n",
       "      <td>0.12</td>\n",
       "    </tr>\n",
       "    <tr>\n",
       "      <th>1</th>\n",
       "      <td>Lead Source_Direct Traffic</td>\n",
       "      <td>0.00</td>\n",
       "    </tr>\n",
       "  </tbody>\n",
       "</table>\n",
       "</div>"
      ],
      "text/plain": [
       "                                             Features   VIF\n",
       "5                        Lead Source_Welingak Website  1.31\n",
       "6                         Last Activity_Email Bounced  1.05\n",
       "4                          Lead Source_Referral Sites  1.01\n",
       "10                  Last Notable Activity_Unreachable  1.01\n",
       "11                 Last Notable Activity_Unsubscribed  1.01\n",
       "0                           Lead Origin_Lead Add Form  0.56\n",
       "9   What is your current occupation_Working Profes...  0.52\n",
       "8                              Last Activity_SMS Sent  0.25\n",
       "3                          Lead Source_Organic Search  0.15\n",
       "2                                  Lead Source_Google  0.12\n",
       "7               Last Activity_Olark Chat Conversation  0.12\n",
       "1                          Lead Source_Direct Traffic  0.00"
      ]
     },
     "execution_count": 111,
     "metadata": {},
     "output_type": "execute_result"
    }
   ],
   "source": [
    "vif = pd.DataFrame()\n",
    "vif['Features'] = X_train.columns\n",
    "vif['VIF'] = [variance_inflation_factor(X_train.values, i) for i in range(X_train.shape[1])]\n",
    "vif['VIF'] = round(vif['VIF'], 2)\n",
    "vif = vif.sort_values(by = \"VIF\", ascending = False)\n",
    "vif"
   ]
  },
  {
   "cell_type": "code",
   "execution_count": 112,
   "id": "f55dadcf",
   "metadata": {},
   "outputs": [],
   "source": [
    "X_train.drop('Lead Source_Referral Sites', axis = 1, inplace = True)"
   ]
  },
  {
   "cell_type": "code",
   "execution_count": 113,
   "id": "3635d2ee",
   "metadata": {},
   "outputs": [
    {
     "data": {
      "text/html": [
       "<table class=\"simpletable\">\n",
       "<caption>Generalized Linear Model Regression Results</caption>\n",
       "<tr>\n",
       "  <th>Dep. Variable:</th>       <td>Converted</td>    <th>  No. Observations:  </th>  <td>  4384</td> \n",
       "</tr>\n",
       "<tr>\n",
       "  <th>Model:</th>                  <td>GLM</td>       <th>  Df Residuals:      </th>  <td>  4372</td> \n",
       "</tr>\n",
       "<tr>\n",
       "  <th>Model Family:</th>        <td>Binomial</td>     <th>  Df Model:          </th>  <td>    11</td> \n",
       "</tr>\n",
       "<tr>\n",
       "  <th>Link Function:</th>         <td>Logit</td>      <th>  Scale:             </th> <td>  1.0000</td>\n",
       "</tr>\n",
       "<tr>\n",
       "  <th>Method:</th>                <td>IRLS</td>       <th>  Log-Likelihood:    </th> <td> -2415.7</td>\n",
       "</tr>\n",
       "<tr>\n",
       "  <th>Date:</th>            <td>Tue, 18 Apr 2023</td> <th>  Deviance:          </th> <td>  4831.3</td>\n",
       "</tr>\n",
       "<tr>\n",
       "  <th>Time:</th>                <td>21:11:29</td>     <th>  Pearson chi2:      </th> <td>4.59e+03</td>\n",
       "</tr>\n",
       "<tr>\n",
       "  <th>No. Iterations:</th>          <td>7</td>        <th>  Pseudo R-squ. (CS):</th>  <td>0.2460</td> \n",
       "</tr>\n",
       "<tr>\n",
       "  <th>Covariance Type:</th>     <td>nonrobust</td>    <th>                     </th>     <td> </td>   \n",
       "</tr>\n",
       "</table>\n",
       "<table class=\"simpletable\">\n",
       "<tr>\n",
       "                            <td></td>                              <th>coef</th>     <th>std err</th>      <th>z</th>      <th>P>|z|</th>  <th>[0.025</th>    <th>0.975]</th>  \n",
       "</tr>\n",
       "<tr>\n",
       "  <th>const</th>                                                <td>   -0.4673</td> <td>    0.094</td> <td>   -4.965</td> <td> 0.000</td> <td>   -0.652</td> <td>   -0.283</td>\n",
       "</tr>\n",
       "<tr>\n",
       "  <th>Lead Origin_Lead Add Form</th>                            <td>    1.9416</td> <td>    0.221</td> <td>    8.794</td> <td> 0.000</td> <td>    1.509</td> <td>    2.374</td>\n",
       "</tr>\n",
       "<tr>\n",
       "  <th>Lead Source_Direct Traffic</th>                           <td>   -0.5395</td> <td>    0.110</td> <td>   -4.903</td> <td> 0.000</td> <td>   -0.755</td> <td>   -0.324</td>\n",
       "</tr>\n",
       "<tr>\n",
       "  <th>Lead Source_Google</th>                                   <td>   -0.0144</td> <td>    0.106</td> <td>   -0.136</td> <td> 0.892</td> <td>   -0.222</td> <td>    0.193</td>\n",
       "</tr>\n",
       "<tr>\n",
       "  <th>Lead Source_Organic Search</th>                           <td>   -0.3705</td> <td>    0.128</td> <td>   -2.892</td> <td> 0.004</td> <td>   -0.622</td> <td>   -0.119</td>\n",
       "</tr>\n",
       "<tr>\n",
       "  <th>Lead Source_Welingak Website</th>                         <td>    1.7470</td> <td>    0.745</td> <td>    2.344</td> <td> 0.019</td> <td>    0.286</td> <td>    3.208</td>\n",
       "</tr>\n",
       "<tr>\n",
       "  <th>Last Activity_Email Bounced</th>                          <td>   -2.0613</td> <td>    0.381</td> <td>   -5.405</td> <td> 0.000</td> <td>   -2.809</td> <td>   -1.314</td>\n",
       "</tr>\n",
       "<tr>\n",
       "  <th>Last Activity_Olark Chat Conversation</th>                <td>   -1.2594</td> <td>    0.177</td> <td>   -7.111</td> <td> 0.000</td> <td>   -1.607</td> <td>   -0.912</td>\n",
       "</tr>\n",
       "<tr>\n",
       "  <th>Last Activity_SMS Sent</th>                               <td>    1.0667</td> <td>    0.074</td> <td>   14.329</td> <td> 0.000</td> <td>    0.921</td> <td>    1.213</td>\n",
       "</tr>\n",
       "<tr>\n",
       "  <th>What is your current occupation_Working Professional</th> <td>    2.5050</td> <td>    0.176</td> <td>   14.249</td> <td> 0.000</td> <td>    2.160</td> <td>    2.850</td>\n",
       "</tr>\n",
       "<tr>\n",
       "  <th>Last Notable Activity_Unreachable</th>                    <td>    2.6338</td> <td>    1.063</td> <td>    2.478</td> <td> 0.013</td> <td>    0.551</td> <td>    4.717</td>\n",
       "</tr>\n",
       "<tr>\n",
       "  <th>Last Notable Activity_Unsubscribed</th>                   <td>   -1.7601</td> <td>    0.803</td> <td>   -2.192</td> <td> 0.028</td> <td>   -3.334</td> <td>   -0.186</td>\n",
       "</tr>\n",
       "</table>"
      ],
      "text/plain": [
       "<class 'statsmodels.iolib.summary.Summary'>\n",
       "\"\"\"\n",
       "                 Generalized Linear Model Regression Results                  \n",
       "==============================================================================\n",
       "Dep. Variable:              Converted   No. Observations:                 4384\n",
       "Model:                            GLM   Df Residuals:                     4372\n",
       "Model Family:                Binomial   Df Model:                           11\n",
       "Link Function:                  Logit   Scale:                          1.0000\n",
       "Method:                          IRLS   Log-Likelihood:                -2415.7\n",
       "Date:                Tue, 18 Apr 2023   Deviance:                       4831.3\n",
       "Time:                        21:11:29   Pearson chi2:                 4.59e+03\n",
       "No. Iterations:                     7   Pseudo R-squ. (CS):             0.2460\n",
       "Covariance Type:            nonrobust                                         \n",
       "========================================================================================================================\n",
       "                                                           coef    std err          z      P>|z|      [0.025      0.975]\n",
       "------------------------------------------------------------------------------------------------------------------------\n",
       "const                                                   -0.4673      0.094     -4.965      0.000      -0.652      -0.283\n",
       "Lead Origin_Lead Add Form                                1.9416      0.221      8.794      0.000       1.509       2.374\n",
       "Lead Source_Direct Traffic                              -0.5395      0.110     -4.903      0.000      -0.755      -0.324\n",
       "Lead Source_Google                                      -0.0144      0.106     -0.136      0.892      -0.222       0.193\n",
       "Lead Source_Organic Search                              -0.3705      0.128     -2.892      0.004      -0.622      -0.119\n",
       "Lead Source_Welingak Website                             1.7470      0.745      2.344      0.019       0.286       3.208\n",
       "Last Activity_Email Bounced                             -2.0613      0.381     -5.405      0.000      -2.809      -1.314\n",
       "Last Activity_Olark Chat Conversation                   -1.2594      0.177     -7.111      0.000      -1.607      -0.912\n",
       "Last Activity_SMS Sent                                   1.0667      0.074     14.329      0.000       0.921       1.213\n",
       "What is your current occupation_Working Professional     2.5050      0.176     14.249      0.000       2.160       2.850\n",
       "Last Notable Activity_Unreachable                        2.6338      1.063      2.478      0.013       0.551       4.717\n",
       "Last Notable Activity_Unsubscribed                      -1.7601      0.803     -2.192      0.028      -3.334      -0.186\n",
       "========================================================================================================================\n",
       "\"\"\""
      ]
     },
     "execution_count": 113,
     "metadata": {},
     "output_type": "execute_result"
    }
   ],
   "source": [
    "logm4 = sm.GLM(y_train,(sm.add_constant(X_train)), family = sm.families.Binomial())\n",
    "logm4.fit().summary()"
   ]
  },
  {
   "cell_type": "code",
   "execution_count": 114,
   "id": "e4932707",
   "metadata": {},
   "outputs": [],
   "source": [
    "X_train.drop('Lead Source_Google', axis = 1, inplace = True)"
   ]
  },
  {
   "cell_type": "code",
   "execution_count": 115,
   "id": "1a83d5a1",
   "metadata": {},
   "outputs": [
    {
     "data": {
      "text/html": [
       "<table class=\"simpletable\">\n",
       "<caption>Generalized Linear Model Regression Results</caption>\n",
       "<tr>\n",
       "  <th>Dep. Variable:</th>       <td>Converted</td>    <th>  No. Observations:  </th>  <td>  4384</td> \n",
       "</tr>\n",
       "<tr>\n",
       "  <th>Model:</th>                  <td>GLM</td>       <th>  Df Residuals:      </th>  <td>  4373</td> \n",
       "</tr>\n",
       "<tr>\n",
       "  <th>Model Family:</th>        <td>Binomial</td>     <th>  Df Model:          </th>  <td>    10</td> \n",
       "</tr>\n",
       "<tr>\n",
       "  <th>Link Function:</th>         <td>Logit</td>      <th>  Scale:             </th> <td>  1.0000</td>\n",
       "</tr>\n",
       "<tr>\n",
       "  <th>Method:</th>                <td>IRLS</td>       <th>  Log-Likelihood:    </th> <td> -2415.7</td>\n",
       "</tr>\n",
       "<tr>\n",
       "  <th>Date:</th>            <td>Tue, 18 Apr 2023</td> <th>  Deviance:          </th> <td>  4831.4</td>\n",
       "</tr>\n",
       "<tr>\n",
       "  <th>Time:</th>                <td>21:11:30</td>     <th>  Pearson chi2:      </th> <td>4.59e+03</td>\n",
       "</tr>\n",
       "<tr>\n",
       "  <th>No. Iterations:</th>          <td>7</td>        <th>  Pseudo R-squ. (CS):</th>  <td>0.2460</td> \n",
       "</tr>\n",
       "<tr>\n",
       "  <th>Covariance Type:</th>     <td>nonrobust</td>    <th>                     </th>     <td> </td>   \n",
       "</tr>\n",
       "</table>\n",
       "<table class=\"simpletable\">\n",
       "<tr>\n",
       "                            <td></td>                              <th>coef</th>     <th>std err</th>      <th>z</th>      <th>P>|z|</th>  <th>[0.025</th>    <th>0.975]</th>  \n",
       "</tr>\n",
       "<tr>\n",
       "  <th>const</th>                                                <td>   -0.4775</td> <td>    0.057</td> <td>   -8.435</td> <td> 0.000</td> <td>   -0.588</td> <td>   -0.367</td>\n",
       "</tr>\n",
       "<tr>\n",
       "  <th>Lead Origin_Lead Add Form</th>                            <td>    1.9517</td> <td>    0.208</td> <td>    9.386</td> <td> 0.000</td> <td>    1.544</td> <td>    2.359</td>\n",
       "</tr>\n",
       "<tr>\n",
       "  <th>Lead Source_Direct Traffic</th>                           <td>   -0.5293</td> <td>    0.081</td> <td>   -6.567</td> <td> 0.000</td> <td>   -0.687</td> <td>   -0.371</td>\n",
       "</tr>\n",
       "<tr>\n",
       "  <th>Lead Source_Organic Search</th>                           <td>   -0.3604</td> <td>    0.104</td> <td>   -3.460</td> <td> 0.001</td> <td>   -0.565</td> <td>   -0.156</td>\n",
       "</tr>\n",
       "<tr>\n",
       "  <th>Lead Source_Welingak Website</th>                         <td>    1.7471</td> <td>    0.745</td> <td>    2.344</td> <td> 0.019</td> <td>    0.286</td> <td>    3.208</td>\n",
       "</tr>\n",
       "<tr>\n",
       "  <th>Last Activity_Email Bounced</th>                          <td>   -2.0605</td> <td>    0.381</td> <td>   -5.405</td> <td> 0.000</td> <td>   -2.808</td> <td>   -1.313</td>\n",
       "</tr>\n",
       "<tr>\n",
       "  <th>Last Activity_Olark Chat Conversation</th>                <td>   -1.2551</td> <td>    0.174</td> <td>   -7.206</td> <td> 0.000</td> <td>   -1.596</td> <td>   -0.914</td>\n",
       "</tr>\n",
       "<tr>\n",
       "  <th>Last Activity_SMS Sent</th>                               <td>    1.0667</td> <td>    0.074</td> <td>   14.330</td> <td> 0.000</td> <td>    0.921</td> <td>    1.213</td>\n",
       "</tr>\n",
       "<tr>\n",
       "  <th>What is your current occupation_Working Professional</th> <td>    2.5046</td> <td>    0.176</td> <td>   14.248</td> <td> 0.000</td> <td>    2.160</td> <td>    2.849</td>\n",
       "</tr>\n",
       "<tr>\n",
       "  <th>Last Notable Activity_Unreachable</th>                    <td>    2.6341</td> <td>    1.063</td> <td>    2.479</td> <td> 0.013</td> <td>    0.551</td> <td>    4.717</td>\n",
       "</tr>\n",
       "<tr>\n",
       "  <th>Last Notable Activity_Unsubscribed</th>                   <td>   -1.7581</td> <td>    0.802</td> <td>   -2.191</td> <td> 0.028</td> <td>   -3.331</td> <td>   -0.185</td>\n",
       "</tr>\n",
       "</table>"
      ],
      "text/plain": [
       "<class 'statsmodels.iolib.summary.Summary'>\n",
       "\"\"\"\n",
       "                 Generalized Linear Model Regression Results                  \n",
       "==============================================================================\n",
       "Dep. Variable:              Converted   No. Observations:                 4384\n",
       "Model:                            GLM   Df Residuals:                     4373\n",
       "Model Family:                Binomial   Df Model:                           10\n",
       "Link Function:                  Logit   Scale:                          1.0000\n",
       "Method:                          IRLS   Log-Likelihood:                -2415.7\n",
       "Date:                Tue, 18 Apr 2023   Deviance:                       4831.4\n",
       "Time:                        21:11:30   Pearson chi2:                 4.59e+03\n",
       "No. Iterations:                     7   Pseudo R-squ. (CS):             0.2460\n",
       "Covariance Type:            nonrobust                                         \n",
       "========================================================================================================================\n",
       "                                                           coef    std err          z      P>|z|      [0.025      0.975]\n",
       "------------------------------------------------------------------------------------------------------------------------\n",
       "const                                                   -0.4775      0.057     -8.435      0.000      -0.588      -0.367\n",
       "Lead Origin_Lead Add Form                                1.9517      0.208      9.386      0.000       1.544       2.359\n",
       "Lead Source_Direct Traffic                              -0.5293      0.081     -6.567      0.000      -0.687      -0.371\n",
       "Lead Source_Organic Search                              -0.3604      0.104     -3.460      0.001      -0.565      -0.156\n",
       "Lead Source_Welingak Website                             1.7471      0.745      2.344      0.019       0.286       3.208\n",
       "Last Activity_Email Bounced                             -2.0605      0.381     -5.405      0.000      -2.808      -1.313\n",
       "Last Activity_Olark Chat Conversation                   -1.2551      0.174     -7.206      0.000      -1.596      -0.914\n",
       "Last Activity_SMS Sent                                   1.0667      0.074     14.330      0.000       0.921       1.213\n",
       "What is your current occupation_Working Professional     2.5046      0.176     14.248      0.000       2.160       2.849\n",
       "Last Notable Activity_Unreachable                        2.6341      1.063      2.479      0.013       0.551       4.717\n",
       "Last Notable Activity_Unsubscribed                      -1.7581      0.802     -2.191      0.028      -3.331      -0.185\n",
       "========================================================================================================================\n",
       "\"\"\""
      ]
     },
     "execution_count": 115,
     "metadata": {},
     "output_type": "execute_result"
    }
   ],
   "source": [
    "logm5 = sm.GLM(y_train,(sm.add_constant(X_train)), family = sm.families.Binomial())\n",
    "logm5.fit().summary()"
   ]
  },
  {
   "cell_type": "code",
   "execution_count": 116,
   "id": "22f02d87",
   "metadata": {},
   "outputs": [
    {
     "data": {
      "text/html": [
       "<div>\n",
       "<style scoped>\n",
       "    .dataframe tbody tr th:only-of-type {\n",
       "        vertical-align: middle;\n",
       "    }\n",
       "\n",
       "    .dataframe tbody tr th {\n",
       "        vertical-align: top;\n",
       "    }\n",
       "\n",
       "    .dataframe thead th {\n",
       "        text-align: right;\n",
       "    }\n",
       "</style>\n",
       "<table border=\"1\" class=\"dataframe\">\n",
       "  <thead>\n",
       "    <tr style=\"text-align: right;\">\n",
       "      <th></th>\n",
       "      <th>Features</th>\n",
       "      <th>VIF</th>\n",
       "    </tr>\n",
       "  </thead>\n",
       "  <tbody>\n",
       "    <tr>\n",
       "      <th>3</th>\n",
       "      <td>Lead Source_Welingak Website</td>\n",
       "      <td>1.31</td>\n",
       "    </tr>\n",
       "    <tr>\n",
       "      <th>4</th>\n",
       "      <td>Last Activity_Email Bounced</td>\n",
       "      <td>1.03</td>\n",
       "    </tr>\n",
       "    <tr>\n",
       "      <th>8</th>\n",
       "      <td>Last Notable Activity_Unreachable</td>\n",
       "      <td>1.00</td>\n",
       "    </tr>\n",
       "    <tr>\n",
       "      <th>9</th>\n",
       "      <td>Last Notable Activity_Unsubscribed</td>\n",
       "      <td>1.00</td>\n",
       "    </tr>\n",
       "    <tr>\n",
       "      <th>0</th>\n",
       "      <td>Lead Origin_Lead Add Form</td>\n",
       "      <td>0.55</td>\n",
       "    </tr>\n",
       "    <tr>\n",
       "      <th>7</th>\n",
       "      <td>What is your current occupation_Working Profes...</td>\n",
       "      <td>0.51</td>\n",
       "    </tr>\n",
       "    <tr>\n",
       "      <th>6</th>\n",
       "      <td>Last Activity_SMS Sent</td>\n",
       "      <td>0.22</td>\n",
       "    </tr>\n",
       "    <tr>\n",
       "      <th>2</th>\n",
       "      <td>Lead Source_Organic Search</td>\n",
       "      <td>0.15</td>\n",
       "    </tr>\n",
       "    <tr>\n",
       "      <th>5</th>\n",
       "      <td>Last Activity_Olark Chat Conversation</td>\n",
       "      <td>0.12</td>\n",
       "    </tr>\n",
       "    <tr>\n",
       "      <th>1</th>\n",
       "      <td>Lead Source_Direct Traffic</td>\n",
       "      <td>0.00</td>\n",
       "    </tr>\n",
       "  </tbody>\n",
       "</table>\n",
       "</div>"
      ],
      "text/plain": [
       "                                            Features   VIF\n",
       "3                       Lead Source_Welingak Website  1.31\n",
       "4                        Last Activity_Email Bounced  1.03\n",
       "8                  Last Notable Activity_Unreachable  1.00\n",
       "9                 Last Notable Activity_Unsubscribed  1.00\n",
       "0                          Lead Origin_Lead Add Form  0.55\n",
       "7  What is your current occupation_Working Profes...  0.51\n",
       "6                             Last Activity_SMS Sent  0.22\n",
       "2                         Lead Source_Organic Search  0.15\n",
       "5              Last Activity_Olark Chat Conversation  0.12\n",
       "1                         Lead Source_Direct Traffic  0.00"
      ]
     },
     "execution_count": 116,
     "metadata": {},
     "output_type": "execute_result"
    }
   ],
   "source": [
    "vif = pd.DataFrame()\n",
    "vif['Features'] = X_train.columns\n",
    "vif['VIF'] = [variance_inflation_factor(X_train.values, i) for i in range(X_train.shape[1])]\n",
    "vif['VIF'] = round(vif['VIF'], 2)\n",
    "vif = vif.sort_values(by = \"VIF\", ascending = False)\n",
    "vif"
   ]
  },
  {
   "cell_type": "markdown",
   "id": "b1180664",
   "metadata": {},
   "source": [
    "# Model Evaluation\n",
    "Now, both the p-values and VIFs seem decent enough for all the variables. So let's go ahead and make predictions using this final set of features."
   ]
  },
  {
   "cell_type": "code",
   "execution_count": 117,
   "id": "6e1da486",
   "metadata": {},
   "outputs": [
    {
     "data": {
      "text/plain": [
       "(4384, 10)"
      ]
     },
     "execution_count": 117,
     "metadata": {},
     "output_type": "execute_result"
    }
   ],
   "source": [
    "X_train.shape"
   ]
  },
  {
   "cell_type": "code",
   "execution_count": 118,
   "id": "7c210995",
   "metadata": {},
   "outputs": [
    {
     "data": {
      "text/plain": [
       "3177    0.726008\n",
       "169     0.157998\n",
       "3549    0.981053\n",
       "9140    0.132205\n",
       "2994    0.875421\n",
       "335     0.802013\n",
       "6504    0.196138\n",
       "5324    0.346113\n",
       "7150    0.909640\n",
       "dtype: float64"
      ]
     },
     "execution_count": 118,
     "metadata": {},
     "output_type": "execute_result"
    }
   ],
   "source": [
    "# Getting the Predicted values on the train set\n",
    "y_train_pred = res.predict(X_train_sm)\n",
    "y_train_pred[:9]"
   ]
  },
  {
   "cell_type": "code",
   "execution_count": 119,
   "id": "2560d136",
   "metadata": {},
   "outputs": [
    {
     "data": {
      "text/plain": [
       "array([0.72600846, 0.15799775, 0.98105332, 0.1322048 , 0.87542118,\n",
       "       0.80201322, 0.19613767, 0.3461135 , 0.90963963])"
      ]
     },
     "execution_count": 119,
     "metadata": {},
     "output_type": "execute_result"
    }
   ],
   "source": [
    "# Reshaping it into an array\n",
    "\n",
    "y_train_pred = y_train_pred.values.reshape(-1)\n",
    "y_train_pred[:9]"
   ]
  },
  {
   "cell_type": "markdown",
   "id": "ce17958c",
   "metadata": {},
   "source": [
    "# Creating a dataframe with the actual conversion flag and the predicted probabilities"
   ]
  },
  {
   "cell_type": "code",
   "execution_count": 120,
   "id": "63b278eb",
   "metadata": {},
   "outputs": [
    {
     "data": {
      "text/html": [
       "<div>\n",
       "<style scoped>\n",
       "    .dataframe tbody tr th:only-of-type {\n",
       "        vertical-align: middle;\n",
       "    }\n",
       "\n",
       "    .dataframe tbody tr th {\n",
       "        vertical-align: top;\n",
       "    }\n",
       "\n",
       "    .dataframe thead th {\n",
       "        text-align: right;\n",
       "    }\n",
       "</style>\n",
       "<table border=\"1\" class=\"dataframe\">\n",
       "  <thead>\n",
       "    <tr style=\"text-align: right;\">\n",
       "      <th></th>\n",
       "      <th>Converted</th>\n",
       "      <th>Conversion_Prob</th>\n",
       "    </tr>\n",
       "  </thead>\n",
       "  <tbody>\n",
       "    <tr>\n",
       "      <th>0</th>\n",
       "      <td>1</td>\n",
       "      <td>0.726008</td>\n",
       "    </tr>\n",
       "    <tr>\n",
       "      <th>1</th>\n",
       "      <td>0</td>\n",
       "      <td>0.157998</td>\n",
       "    </tr>\n",
       "    <tr>\n",
       "      <th>2</th>\n",
       "      <td>1</td>\n",
       "      <td>0.981053</td>\n",
       "    </tr>\n",
       "    <tr>\n",
       "      <th>3</th>\n",
       "      <td>0</td>\n",
       "      <td>0.132205</td>\n",
       "    </tr>\n",
       "    <tr>\n",
       "      <th>4</th>\n",
       "      <td>1</td>\n",
       "      <td>0.875421</td>\n",
       "    </tr>\n",
       "  </tbody>\n",
       "</table>\n",
       "</div>"
      ],
      "text/plain": [
       "   Converted  Conversion_Prob\n",
       "0          1         0.726008\n",
       "1          0         0.157998\n",
       "2          1         0.981053\n",
       "3          0         0.132205\n",
       "4          1         0.875421"
      ]
     },
     "execution_count": 120,
     "metadata": {},
     "output_type": "execute_result"
    }
   ],
   "source": [
    "# Create a new dataframe containing the actual conversion flag and the probabilities predicted by the model\n",
    "\n",
    "y_train_pred_final = pd.DataFrame({'Converted':y_train.values, 'Conversion_Prob':y_train_pred})\n",
    "y_train_pred_final.head()"
   ]
  },
  {
   "cell_type": "markdown",
   "id": "170a8e53",
   "metadata": {},
   "source": [
    "# Creating new column 'Predicted' with 1 if Paid_Prob > 0.5 else 0"
   ]
  },
  {
   "cell_type": "code",
   "execution_count": 121,
   "id": "140dbdfc",
   "metadata": {},
   "outputs": [
    {
     "data": {
      "text/html": [
       "<div>\n",
       "<style scoped>\n",
       "    .dataframe tbody tr th:only-of-type {\n",
       "        vertical-align: middle;\n",
       "    }\n",
       "\n",
       "    .dataframe tbody tr th {\n",
       "        vertical-align: top;\n",
       "    }\n",
       "\n",
       "    .dataframe thead th {\n",
       "        text-align: right;\n",
       "    }\n",
       "</style>\n",
       "<table border=\"1\" class=\"dataframe\">\n",
       "  <thead>\n",
       "    <tr style=\"text-align: right;\">\n",
       "      <th></th>\n",
       "      <th>Converted</th>\n",
       "      <th>Conversion_Prob</th>\n",
       "      <th>Predicted</th>\n",
       "    </tr>\n",
       "  </thead>\n",
       "  <tbody>\n",
       "    <tr>\n",
       "      <th>0</th>\n",
       "      <td>1</td>\n",
       "      <td>0.726008</td>\n",
       "      <td>1</td>\n",
       "    </tr>\n",
       "    <tr>\n",
       "      <th>1</th>\n",
       "      <td>0</td>\n",
       "      <td>0.157998</td>\n",
       "      <td>0</td>\n",
       "    </tr>\n",
       "    <tr>\n",
       "      <th>2</th>\n",
       "      <td>1</td>\n",
       "      <td>0.981053</td>\n",
       "      <td>1</td>\n",
       "    </tr>\n",
       "    <tr>\n",
       "      <th>3</th>\n",
       "      <td>0</td>\n",
       "      <td>0.132205</td>\n",
       "      <td>0</td>\n",
       "    </tr>\n",
       "    <tr>\n",
       "      <th>4</th>\n",
       "      <td>1</td>\n",
       "      <td>0.875421</td>\n",
       "      <td>1</td>\n",
       "    </tr>\n",
       "  </tbody>\n",
       "</table>\n",
       "</div>"
      ],
      "text/plain": [
       "   Converted  Conversion_Prob  Predicted\n",
       "0          1         0.726008          1\n",
       "1          0         0.157998          0\n",
       "2          1         0.981053          1\n",
       "3          0         0.132205          0\n",
       "4          1         0.875421          1"
      ]
     },
     "execution_count": 121,
     "metadata": {},
     "output_type": "execute_result"
    }
   ],
   "source": [
    "y_train_pred_final['Predicted'] = y_train_pred_final.Conversion_Prob.map(lambda x: 1 if x > 0.5 else 0)\n",
    "\n",
    "# Let's see the head\n",
    "y_train_pred_final.head()"
   ]
  },
  {
   "cell_type": "code",
   "execution_count": 122,
   "id": "3a98d382",
   "metadata": {},
   "outputs": [],
   "source": [
    "# Import metrics from sklearn for evaluation\n",
    "\n",
    "from sklearn import metrics"
   ]
  },
  {
   "cell_type": "code",
   "execution_count": 123,
   "id": "977950bb",
   "metadata": {},
   "outputs": [
    {
     "name": "stdout",
     "output_type": "stream",
     "text": [
      "[[1894  394]\n",
      " [ 520 1576]]\n"
     ]
    }
   ],
   "source": [
    "# Create confusion matrix \n",
    "\n",
    "confusion = metrics.confusion_matrix(y_train_pred_final.Converted, y_train_pred_final.Predicted )\n",
    "print(confusion)"
   ]
  },
  {
   "cell_type": "code",
   "execution_count": 124,
   "id": "0b41cbba",
   "metadata": {},
   "outputs": [
    {
     "name": "stdout",
     "output_type": "stream",
     "text": [
      "0.7915145985401459\n"
     ]
    }
   ],
   "source": [
    "print(metrics.accuracy_score(y_train_pred_final.Converted, y_train_pred_final.Predicted))"
   ]
  },
  {
   "cell_type": "code",
   "execution_count": 125,
   "id": "677cd827",
   "metadata": {},
   "outputs": [],
   "source": [
    "# Let's evaluate the other metrics as well\n",
    "\n",
    "TP = confusion[1,1] # true positive \n",
    "TN = confusion[0,0] # true negatives\n",
    "FP = confusion[0,1] # false positives\n",
    "FN = confusion[1,0] # false negatives"
   ]
  },
  {
   "cell_type": "code",
   "execution_count": 126,
   "id": "1d045cc3",
   "metadata": {},
   "outputs": [
    {
     "data": {
      "text/plain": [
       "0.7519083969465649"
      ]
     },
     "execution_count": 126,
     "metadata": {},
     "output_type": "execute_result"
    }
   ],
   "source": [
    "# Calculate the sensitivity\n",
    "\n",
    "TP/(TP+FN)"
   ]
  },
  {
   "cell_type": "code",
   "execution_count": 127,
   "id": "5b12556f",
   "metadata": {},
   "outputs": [
    {
     "data": {
      "text/plain": [
       "0.8277972027972028"
      ]
     },
     "execution_count": 127,
     "metadata": {},
     "output_type": "execute_result"
    }
   ],
   "source": [
    "# Calculate the specificity\n",
    "\n",
    "TN/(TN+FP)"
   ]
  },
  {
   "cell_type": "markdown",
   "id": "abc9d423",
   "metadata": {},
   "source": [
    "Finding the Optimal Cutoff\n",
    "Now 0.5 was just arbitrary to loosely check the model performace. But in order to get good results, you need to optimise the threshold. So first let's plot an ROC curve to see what AUC we get."
   ]
  },
  {
   "cell_type": "code",
   "execution_count": 128,
   "id": "e4b1c810",
   "metadata": {},
   "outputs": [],
   "source": [
    "# ROC function\n",
    "\n",
    "def draw_roc( actual, probs ):\n",
    "    fpr, tpr, thresholds = metrics.roc_curve( actual, probs,\n",
    "                                              drop_intermediate = False )\n",
    "    auc_score = metrics.roc_auc_score( actual, probs )\n",
    "    plt.figure(figsize=(5, 5))\n",
    "    plt.plot( fpr, tpr, label='ROC curve (area = %0.2f)' % auc_score )\n",
    "    plt.plot([0, 1], [0, 1], 'k--')\n",
    "    plt.xlim([0.0, 1.0])\n",
    "    plt.ylim([0.0, 1.05])\n",
    "    plt.xlabel('False Positive Rate or [1 - True Negative Rate]')\n",
    "    plt.ylabel('True Positive Rate')\n",
    "    plt.title('Receiver operating characteristic example')\n",
    "    plt.legend(loc=\"lower right\")\n",
    "    plt.show()\n",
    "\n",
    "    return None"
   ]
  },
  {
   "cell_type": "code",
   "execution_count": 129,
   "id": "d8a946b6",
   "metadata": {},
   "outputs": [],
   "source": [
    "fpr, tpr, thresholds = metrics.roc_curve( y_train_pred_final.Converted, y_train_pred_final.Conversion_Prob, drop_intermediate = False )"
   ]
  },
  {
   "cell_type": "code",
   "execution_count": 130,
   "id": "7a347e56",
   "metadata": {},
   "outputs": [],
   "source": [
    "# Import matplotlib to plot the ROC curve\n",
    "\n",
    "import matplotlib.pyplot as plt"
   ]
  },
  {
   "cell_type": "code",
   "execution_count": 131,
   "id": "211c754c",
   "metadata": {},
   "outputs": [
    {
     "data": {
      "image/png": "[encoded data removed]",
      "text/plain": [
       "<Figure size 360x360 with 1 Axes>"
      ]
     },
     "metadata": {
      "needs_background": "light"
     },
     "output_type": "display_data"
    }
   ],
   "source": [
    "# Call the ROC function\n",
    "\n",
    "draw_roc(y_train_pred_final.Converted, y_train_pred_final.Conversion_Prob)"
   ]
  },
  {
   "cell_type": "code",
   "execution_count": 132,
   "id": "11f82db7",
   "metadata": {},
   "outputs": [
    {
     "data": {
      "text/html": [
       "<div>\n",
       "<style scoped>\n",
       "    .dataframe tbody tr th:only-of-type {\n",
       "        vertical-align: middle;\n",
       "    }\n",
       "\n",
       "    .dataframe tbody tr th {\n",
       "        vertical-align: top;\n",
       "    }\n",
       "\n",
       "    .dataframe thead th {\n",
       "        text-align: right;\n",
       "    }\n",
       "</style>\n",
       "<table border=\"1\" class=\"dataframe\">\n",
       "  <thead>\n",
       "    <tr style=\"text-align: right;\">\n",
       "      <th></th>\n",
       "      <th>Converted</th>\n",
       "      <th>Conversion_Prob</th>\n",
       "      <th>Predicted</th>\n",
       "      <th>0.0</th>\n",
       "      <th>0.1</th>\n",
       "      <th>0.2</th>\n",
       "      <th>0.3</th>\n",
       "      <th>0.4</th>\n",
       "      <th>0.5</th>\n",
       "      <th>0.6</th>\n",
       "      <th>0.7</th>\n",
       "      <th>0.8</th>\n",
       "      <th>0.9</th>\n",
       "    </tr>\n",
       "  </thead>\n",
       "  <tbody>\n",
       "    <tr>\n",
       "      <th>0</th>\n",
       "      <td>1</td>\n",
       "      <td>0.726008</td>\n",
       "      <td>1</td>\n",
       "      <td>1</td>\n",
       "      <td>1</td>\n",
       "      <td>1</td>\n",
       "      <td>1</td>\n",
       "      <td>1</td>\n",
       "      <td>1</td>\n",
       "      <td>1</td>\n",
       "      <td>1</td>\n",
       "      <td>0</td>\n",
       "      <td>0</td>\n",
       "    </tr>\n",
       "    <tr>\n",
       "      <th>1</th>\n",
       "      <td>0</td>\n",
       "      <td>0.157998</td>\n",
       "      <td>0</td>\n",
       "      <td>1</td>\n",
       "      <td>1</td>\n",
       "      <td>0</td>\n",
       "      <td>0</td>\n",
       "      <td>0</td>\n",
       "      <td>0</td>\n",
       "      <td>0</td>\n",
       "      <td>0</td>\n",
       "      <td>0</td>\n",
       "      <td>0</td>\n",
       "    </tr>\n",
       "    <tr>\n",
       "      <th>2</th>\n",
       "      <td>1</td>\n",
       "      <td>0.981053</td>\n",
       "      <td>1</td>\n",
       "      <td>1</td>\n",
       "      <td>1</td>\n",
       "      <td>1</td>\n",
       "      <td>1</td>\n",
       "      <td>1</td>\n",
       "      <td>1</td>\n",
       "      <td>1</td>\n",
       "      <td>1</td>\n",
       "      <td>1</td>\n",
       "      <td>1</td>\n",
       "    </tr>\n",
       "    <tr>\n",
       "      <th>3</th>\n",
       "      <td>0</td>\n",
       "      <td>0.132205</td>\n",
       "      <td>0</td>\n",
       "      <td>1</td>\n",
       "      <td>1</td>\n",
       "      <td>0</td>\n",
       "      <td>0</td>\n",
       "      <td>0</td>\n",
       "      <td>0</td>\n",
       "      <td>0</td>\n",
       "      <td>0</td>\n",
       "      <td>0</td>\n",
       "      <td>0</td>\n",
       "    </tr>\n",
       "    <tr>\n",
       "      <th>4</th>\n",
       "      <td>1</td>\n",
       "      <td>0.875421</td>\n",
       "      <td>1</td>\n",
       "      <td>1</td>\n",
       "      <td>1</td>\n",
       "      <td>1</td>\n",
       "      <td>1</td>\n",
       "      <td>1</td>\n",
       "      <td>1</td>\n",
       "      <td>1</td>\n",
       "      <td>1</td>\n",
       "      <td>1</td>\n",
       "      <td>0</td>\n",
       "    </tr>\n",
       "  </tbody>\n",
       "</table>\n",
       "</div>"
      ],
      "text/plain": [
       "   Converted  Conversion_Prob  Predicted  0.0  0.1  0.2  0.3  0.4  0.5  0.6  \\\n",
       "0          1         0.726008          1    1    1    1    1    1    1    1   \n",
       "1          0         0.157998          0    1    1    0    0    0    0    0   \n",
       "2          1         0.981053          1    1    1    1    1    1    1    1   \n",
       "3          0         0.132205          0    1    1    0    0    0    0    0   \n",
       "4          1         0.875421          1    1    1    1    1    1    1    1   \n",
       "\n",
       "   0.7  0.8  0.9  \n",
       "0    1    0    0  \n",
       "1    0    0    0  \n",
       "2    1    1    1  \n",
       "3    0    0    0  \n",
       "4    1    1    0  "
      ]
     },
     "execution_count": 132,
     "metadata": {},
     "output_type": "execute_result"
    }
   ],
   "source": [
    "# Let's create columns with different probability cutoffs \n",
    "\n",
    "numbers = [float(x)/10 for x in range(10)]\n",
    "for i in numbers:\n",
    "    y_train_pred_final[i]= y_train_pred_final.Conversion_Prob.map(lambda x: 1 if x > i else 0)\n",
    "y_train_pred_final.head()"
   ]
  },
  {
   "cell_type": "code",
   "execution_count": 133,
   "id": "d66ff276",
   "metadata": {},
   "outputs": [
    {
     "name": "stdout",
     "output_type": "stream",
     "text": [
      "     prob  accuracy     sensi     speci\n",
      "0.0   0.0  0.478102  1.000000  0.000000\n",
      "0.1   0.1  0.548358  0.987595  0.145979\n",
      "0.2   0.2  0.709854  0.942748  0.496503\n",
      "0.3   0.3  0.759580  0.900763  0.630245\n",
      "0.4   0.4  0.789918  0.807252  0.774038\n",
      "0.5   0.5  0.791515  0.751908  0.827797\n",
      "0.6   0.6  0.775319  0.680344  0.862325\n",
      "0.7   0.7  0.741788  0.548664  0.918706\n",
      "0.8   0.8  0.716013  0.461355  0.949301\n",
      "0.9   0.9  0.649179  0.286737  0.981206\n"
     ]
    }
   ],
   "source": [
    "# Let's create a dataframe to see the values of accuracy, sensitivity, and specificity at different values of probabiity cutoffs\n",
    "\n",
    "cutoff_df = pd.DataFrame( columns = ['prob','accuracy','sensi','speci'])\n",
    "from sklearn.metrics import confusion_matrix\n",
    "\n",
    "# TP = confusion[1,1] # true positive \n",
    "# TN = confusion[0,0] # true negatives\n",
    "# FP = confusion[0,1] # false positives\n",
    "# FN = confusion[1,0] # false negatives\n",
    "\n",
    "num = [0.0,0.1,0.2,0.3,0.4,0.5,0.6,0.7,0.8,0.9]\n",
    "for i in num:\n",
    "    cm1 = metrics.confusion_matrix(y_train_pred_final.Converted, y_train_pred_final[i] )\n",
    "    total1=sum(sum(cm1))\n",
    "    accuracy = (cm1[0,0]+cm1[1,1])/total1\n",
    "    \n",
    "    speci = cm1[0,0]/(cm1[0,0]+cm1[0,1])\n",
    "    sensi = cm1[1,1]/(cm1[1,0]+cm1[1,1])\n",
    "    cutoff_df.loc[i] =[ i ,accuracy,sensi,speci]\n",
    "print(cutoff_df)"
   ]
  },
  {
   "cell_type": "code",
   "execution_count": 134,
   "id": "dce56629",
   "metadata": {},
   "outputs": [
    {
     "data": {
      "image/png": "[encoded data removed]",
      "text/plain": [
       "<Figure size 432x288 with 1 Axes>"
      ]
     },
     "metadata": {
      "needs_background": "light"
     },
     "output_type": "display_data"
    }
   ],
   "source": [
    "# Let's plot it as well\n",
    "\n",
    "cutoff_df.plot.line(x='prob', y=['accuracy','sensi','speci'])\n",
    "plt.show()"
   ]
  },
  {
   "cell_type": "markdown",
   "id": "3504cdf8",
   "metadata": {},
   "source": [
    "As you can see that around 0.42, you get the optimal values of the three metrics. So let's choose 0.42 as our cutoff now.\n",
    "\n"
   ]
  },
  {
   "cell_type": "code",
   "execution_count": 135,
   "id": "db0b7c14",
   "metadata": {},
   "outputs": [
    {
     "data": {
      "text/html": [
       "<div>\n",
       "<style scoped>\n",
       "    .dataframe tbody tr th:only-of-type {\n",
       "        vertical-align: middle;\n",
       "    }\n",
       "\n",
       "    .dataframe tbody tr th {\n",
       "        vertical-align: top;\n",
       "    }\n",
       "\n",
       "    .dataframe thead th {\n",
       "        text-align: right;\n",
       "    }\n",
       "</style>\n",
       "<table border=\"1\" class=\"dataframe\">\n",
       "  <thead>\n",
       "    <tr style=\"text-align: right;\">\n",
       "      <th></th>\n",
       "      <th>Converted</th>\n",
       "      <th>Conversion_Prob</th>\n",
       "      <th>Predicted</th>\n",
       "      <th>0.0</th>\n",
       "      <th>0.1</th>\n",
       "      <th>0.2</th>\n",
       "      <th>0.3</th>\n",
       "      <th>0.4</th>\n",
       "      <th>0.5</th>\n",
       "      <th>0.6</th>\n",
       "      <th>0.7</th>\n",
       "      <th>0.8</th>\n",
       "      <th>0.9</th>\n",
       "      <th>final_predicted</th>\n",
       "    </tr>\n",
       "  </thead>\n",
       "  <tbody>\n",
       "    <tr>\n",
       "      <th>0</th>\n",
       "      <td>1</td>\n",
       "      <td>0.726008</td>\n",
       "      <td>1</td>\n",
       "      <td>1</td>\n",
       "      <td>1</td>\n",
       "      <td>1</td>\n",
       "      <td>1</td>\n",
       "      <td>1</td>\n",
       "      <td>1</td>\n",
       "      <td>1</td>\n",
       "      <td>1</td>\n",
       "      <td>0</td>\n",
       "      <td>0</td>\n",
       "      <td>1</td>\n",
       "    </tr>\n",
       "    <tr>\n",
       "      <th>1</th>\n",
       "      <td>0</td>\n",
       "      <td>0.157998</td>\n",
       "      <td>0</td>\n",
       "      <td>1</td>\n",
       "      <td>1</td>\n",
       "      <td>0</td>\n",
       "      <td>0</td>\n",
       "      <td>0</td>\n",
       "      <td>0</td>\n",
       "      <td>0</td>\n",
       "      <td>0</td>\n",
       "      <td>0</td>\n",
       "      <td>0</td>\n",
       "      <td>0</td>\n",
       "    </tr>\n",
       "    <tr>\n",
       "      <th>2</th>\n",
       "      <td>1</td>\n",
       "      <td>0.981053</td>\n",
       "      <td>1</td>\n",
       "      <td>1</td>\n",
       "      <td>1</td>\n",
       "      <td>1</td>\n",
       "      <td>1</td>\n",
       "      <td>1</td>\n",
       "      <td>1</td>\n",
       "      <td>1</td>\n",
       "      <td>1</td>\n",
       "      <td>1</td>\n",
       "      <td>1</td>\n",
       "      <td>1</td>\n",
       "    </tr>\n",
       "    <tr>\n",
       "      <th>3</th>\n",
       "      <td>0</td>\n",
       "      <td>0.132205</td>\n",
       "      <td>0</td>\n",
       "      <td>1</td>\n",
       "      <td>1</td>\n",
       "      <td>0</td>\n",
       "      <td>0</td>\n",
       "      <td>0</td>\n",
       "      <td>0</td>\n",
       "      <td>0</td>\n",
       "      <td>0</td>\n",
       "      <td>0</td>\n",
       "      <td>0</td>\n",
       "      <td>0</td>\n",
       "    </tr>\n",
       "    <tr>\n",
       "      <th>4</th>\n",
       "      <td>1</td>\n",
       "      <td>0.875421</td>\n",
       "      <td>1</td>\n",
       "      <td>1</td>\n",
       "      <td>1</td>\n",
       "      <td>1</td>\n",
       "      <td>1</td>\n",
       "      <td>1</td>\n",
       "      <td>1</td>\n",
       "      <td>1</td>\n",
       "      <td>1</td>\n",
       "      <td>1</td>\n",
       "      <td>0</td>\n",
       "      <td>1</td>\n",
       "    </tr>\n",
       "  </tbody>\n",
       "</table>\n",
       "</div>"
      ],
      "text/plain": [
       "   Converted  Conversion_Prob  Predicted  0.0  0.1  0.2  0.3  0.4  0.5  0.6  \\\n",
       "0          1         0.726008          1    1    1    1    1    1    1    1   \n",
       "1          0         0.157998          0    1    1    0    0    0    0    0   \n",
       "2          1         0.981053          1    1    1    1    1    1    1    1   \n",
       "3          0         0.132205          0    1    1    0    0    0    0    0   \n",
       "4          1         0.875421          1    1    1    1    1    1    1    1   \n",
       "\n",
       "   0.7  0.8  0.9  final_predicted  \n",
       "0    1    0    0                1  \n",
       "1    0    0    0                0  \n",
       "2    1    1    1                1  \n",
       "3    0    0    0                0  \n",
       "4    1    1    0                1  "
      ]
     },
     "execution_count": 135,
     "metadata": {},
     "output_type": "execute_result"
    }
   ],
   "source": [
    "y_train_pred_final['final_predicted'] = y_train_pred_final.Conversion_Prob.map( lambda x: 1 if x > 0.42 else 0)\n",
    "\n",
    "y_train_pred_final.head()"
   ]
  },
  {
   "cell_type": "code",
   "execution_count": 136,
   "id": "276cf71c",
   "metadata": {},
   "outputs": [
    {
     "data": {
      "text/plain": [
       "0.7906021897810219"
      ]
     },
     "execution_count": 136,
     "metadata": {},
     "output_type": "execute_result"
    }
   ],
   "source": [
    "# Let's check the accuracy now\n",
    "\n",
    "metrics.accuracy_score(y_train_pred_final.Converted, y_train_pred_final.final_predicted)"
   ]
  },
  {
   "cell_type": "code",
   "execution_count": 137,
   "id": "a194e5a1",
   "metadata": {},
   "outputs": [
    {
     "data": {
      "text/plain": [
       "array([[1802,  486],\n",
       "       [ 432, 1664]], dtype=int64)"
      ]
     },
     "execution_count": 137,
     "metadata": {},
     "output_type": "execute_result"
    }
   ],
   "source": [
    "# Let's create the confusion matrix once again\n",
    "\n",
    "confusion2 = metrics.confusion_matrix(y_train_pred_final.Converted, y_train_pred_final.final_predicted )\n",
    "confusion2"
   ]
  },
  {
   "cell_type": "code",
   "execution_count": 138,
   "id": "96c15910",
   "metadata": {},
   "outputs": [],
   "source": [
    "# Let's evaluate the other metrics as well\n",
    "\n",
    "TP = confusion2[1,1] # true positive \n",
    "TN = confusion2[0,0] # true negatives\n",
    "FP = confusion2[0,1] # false positives\n",
    "FN = confusion2[1,0] # false negatives"
   ]
  },
  {
   "cell_type": "code",
   "execution_count": 139,
   "id": "df1a35f2",
   "metadata": {},
   "outputs": [
    {
     "data": {
      "text/plain": [
       "0.7938931297709924"
      ]
     },
     "execution_count": 139,
     "metadata": {},
     "output_type": "execute_result"
    }
   ],
   "source": [
    "# Calculate Sensitivity\n",
    "\n",
    "TP/(TP+FN)"
   ]
  },
  {
   "cell_type": "code",
   "execution_count": 140,
   "id": "ce6f667b",
   "metadata": {},
   "outputs": [
    {
     "data": {
      "text/plain": [
       "0.7875874125874126"
      ]
     },
     "execution_count": 140,
     "metadata": {},
     "output_type": "execute_result"
    }
   ],
   "source": [
    "# Calculate Specificity\n",
    "\n",
    "TN/(TN+FP)"
   ]
  },
  {
   "cell_type": "markdown",
   "id": "17cc7933",
   "metadata": {},
   "source": [
    "##cutoff point is good"
   ]
  },
  {
   "cell_type": "markdown",
   "id": "886a3265",
   "metadata": {},
   "source": [
    "# Making Predictions on the Test Set\n",
    "Let's now make predicitons on the test set."
   ]
  },
  {
   "cell_type": "code",
   "execution_count": 141,
   "id": "c9713fac",
   "metadata": {},
   "outputs": [],
   "source": [
    "# Scale the test set as well using just 'transform'\n",
    "\n",
    "X_test[['TotalVisits', 'Page Views Per Visit', 'Total Time Spent on Website']] = scaler.transform(X_test[['TotalVisits', 'Page Views Per Visit', 'Total Time Spent on Website']])"
   ]
  },
  {
   "cell_type": "code",
   "execution_count": 142,
   "id": "0791bd67",
   "metadata": {},
   "outputs": [
    {
     "data": {
      "text/html": [
       "<div>\n",
       "<style scoped>\n",
       "    .dataframe tbody tr th:only-of-type {\n",
       "        vertical-align: middle;\n",
       "    }\n",
       "\n",
       "    .dataframe tbody tr th {\n",
       "        vertical-align: top;\n",
       "    }\n",
       "\n",
       "    .dataframe thead th {\n",
       "        text-align: right;\n",
       "    }\n",
       "</style>\n",
       "<table border=\"1\" class=\"dataframe\">\n",
       "  <thead>\n",
       "    <tr style=\"text-align: right;\">\n",
       "      <th></th>\n",
       "      <th>TotalVisits</th>\n",
       "      <th>Total Time Spent on Website</th>\n",
       "      <th>Lead Origin_Lead Add Form</th>\n",
       "      <th>Lead Source_Direct Traffic</th>\n",
       "      <th>Lead Source_Google</th>\n",
       "      <th>Lead Source_Organic Search</th>\n",
       "      <th>Lead Source_Referral Sites</th>\n",
       "      <th>Lead Source_Welingak Website</th>\n",
       "      <th>Last Activity_Email Bounced</th>\n",
       "      <th>Last Activity_Olark Chat Conversation</th>\n",
       "      <th>Last Activity_SMS Sent</th>\n",
       "      <th>What is your current occupation_Working Professional</th>\n",
       "      <th>Last Notable Activity_Had a Phone Conversation</th>\n",
       "      <th>Last Notable Activity_Unreachable</th>\n",
       "      <th>Last Notable Activity_Unsubscribed</th>\n",
       "    </tr>\n",
       "  </thead>\n",
       "  <tbody>\n",
       "    <tr>\n",
       "      <th>2457</th>\n",
       "      <td>0.000000</td>\n",
       "      <td>0.000000</td>\n",
       "      <td>1</td>\n",
       "      <td>0</td>\n",
       "      <td>0</td>\n",
       "      <td>0</td>\n",
       "      <td>0</td>\n",
       "      <td>1</td>\n",
       "      <td>0</td>\n",
       "      <td>0</td>\n",
       "      <td>1</td>\n",
       "      <td>0</td>\n",
       "      <td>0</td>\n",
       "      <td>0</td>\n",
       "      <td>0</td>\n",
       "    </tr>\n",
       "    <tr>\n",
       "      <th>1935</th>\n",
       "      <td>0.117647</td>\n",
       "      <td>0.035651</td>\n",
       "      <td>0</td>\n",
       "      <td>0</td>\n",
       "      <td>1</td>\n",
       "      <td>0</td>\n",
       "      <td>0</td>\n",
       "      <td>0</td>\n",
       "      <td>0</td>\n",
       "      <td>1</td>\n",
       "      <td>0</td>\n",
       "      <td>0</td>\n",
       "      <td>0</td>\n",
       "      <td>0</td>\n",
       "      <td>0</td>\n",
       "    </tr>\n",
       "    <tr>\n",
       "      <th>4464</th>\n",
       "      <td>0.176471</td>\n",
       "      <td>0.082306</td>\n",
       "      <td>0</td>\n",
       "      <td>0</td>\n",
       "      <td>1</td>\n",
       "      <td>0</td>\n",
       "      <td>0</td>\n",
       "      <td>0</td>\n",
       "      <td>0</td>\n",
       "      <td>0</td>\n",
       "      <td>1</td>\n",
       "      <td>0</td>\n",
       "      <td>0</td>\n",
       "      <td>0</td>\n",
       "      <td>0</td>\n",
       "    </tr>\n",
       "    <tr>\n",
       "      <th>7986</th>\n",
       "      <td>0.000000</td>\n",
       "      <td>0.000000</td>\n",
       "      <td>0</td>\n",
       "      <td>0</td>\n",
       "      <td>0</td>\n",
       "      <td>0</td>\n",
       "      <td>0</td>\n",
       "      <td>0</td>\n",
       "      <td>0</td>\n",
       "      <td>1</td>\n",
       "      <td>0</td>\n",
       "      <td>0</td>\n",
       "      <td>0</td>\n",
       "      <td>0</td>\n",
       "      <td>0</td>\n",
       "    </tr>\n",
       "    <tr>\n",
       "      <th>5136</th>\n",
       "      <td>0.058824</td>\n",
       "      <td>0.007042</td>\n",
       "      <td>0</td>\n",
       "      <td>0</td>\n",
       "      <td>1</td>\n",
       "      <td>0</td>\n",
       "      <td>0</td>\n",
       "      <td>0</td>\n",
       "      <td>0</td>\n",
       "      <td>0</td>\n",
       "      <td>0</td>\n",
       "      <td>0</td>\n",
       "      <td>0</td>\n",
       "      <td>0</td>\n",
       "      <td>0</td>\n",
       "    </tr>\n",
       "  </tbody>\n",
       "</table>\n",
       "</div>"
      ],
      "text/plain": [
       "      TotalVisits  Total Time Spent on Website  Lead Origin_Lead Add Form  \\\n",
       "2457     0.000000                     0.000000                          1   \n",
       "1935     0.117647                     0.035651                          0   \n",
       "4464     0.176471                     0.082306                          0   \n",
       "7986     0.000000                     0.000000                          0   \n",
       "5136     0.058824                     0.007042                          0   \n",
       "\n",
       "      Lead Source_Direct Traffic  Lead Source_Google  \\\n",
       "2457                           0                   0   \n",
       "1935                           0                   1   \n",
       "4464                           0                   1   \n",
       "7986                           0                   0   \n",
       "5136                           0                   1   \n",
       "\n",
       "      Lead Source_Organic Search  Lead Source_Referral Sites  \\\n",
       "2457                           0                           0   \n",
       "1935                           0                           0   \n",
       "4464                           0                           0   \n",
       "7986                           0                           0   \n",
       "5136                           0                           0   \n",
       "\n",
       "      Lead Source_Welingak Website  Last Activity_Email Bounced  \\\n",
       "2457                             1                            0   \n",
       "1935                             0                            0   \n",
       "4464                             0                            0   \n",
       "7986                             0                            0   \n",
       "5136                             0                            0   \n",
       "\n",
       "      Last Activity_Olark Chat Conversation  Last Activity_SMS Sent  \\\n",
       "2457                                      0                       1   \n",
       "1935                                      1                       0   \n",
       "4464                                      0                       1   \n",
       "7986                                      1                       0   \n",
       "5136                                      0                       0   \n",
       "\n",
       "      What is your current occupation_Working Professional  \\\n",
       "2457                                                  0      \n",
       "1935                                                  0      \n",
       "4464                                                  0      \n",
       "7986                                                  0      \n",
       "5136                                                  0      \n",
       "\n",
       "      Last Notable Activity_Had a Phone Conversation  \\\n",
       "2457                                               0   \n",
       "1935                                               0   \n",
       "4464                                               0   \n",
       "7986                                               0   \n",
       "5136                                               0   \n",
       "\n",
       "      Last Notable Activity_Unreachable  Last Notable Activity_Unsubscribed  \n",
       "2457                                  0                                   0  \n",
       "1935                                  0                                   0  \n",
       "4464                                  0                                   0  \n",
       "7986                                  0                                   0  \n",
       "5136                                  0                                   0  "
      ]
     },
     "execution_count": 142,
     "metadata": {},
     "output_type": "execute_result"
    }
   ],
   "source": [
    "# Select the columns in X_train for X_test as well\n",
    "\n",
    "X_test = X_test[col]\n",
    "X_test.head()"
   ]
  },
  {
   "cell_type": "code",
   "execution_count": 143,
   "id": "61d527eb",
   "metadata": {},
   "outputs": [],
   "source": [
    "# Add a constant to X_test\n",
    "\n",
    "X_test_sm = sm.add_constant(X_test[col])"
   ]
  },
  {
   "cell_type": "code",
   "execution_count": 144,
   "id": "3bad25b7",
   "metadata": {},
   "outputs": [
    {
     "data": {
      "text/html": [
       "<div>\n",
       "<style scoped>\n",
       "    .dataframe tbody tr th:only-of-type {\n",
       "        vertical-align: middle;\n",
       "    }\n",
       "\n",
       "    .dataframe tbody tr th {\n",
       "        vertical-align: top;\n",
       "    }\n",
       "\n",
       "    .dataframe thead th {\n",
       "        text-align: right;\n",
       "    }\n",
       "</style>\n",
       "<table border=\"1\" class=\"dataframe\">\n",
       "  <thead>\n",
       "    <tr style=\"text-align: right;\">\n",
       "      <th></th>\n",
       "      <th>const</th>\n",
       "      <th>TotalVisits</th>\n",
       "      <th>Total Time Spent on Website</th>\n",
       "      <th>Lead Origin_Lead Add Form</th>\n",
       "      <th>Lead Source_Direct Traffic</th>\n",
       "      <th>Lead Source_Google</th>\n",
       "      <th>Lead Source_Organic Search</th>\n",
       "      <th>Lead Source_Referral Sites</th>\n",
       "      <th>Lead Source_Welingak Website</th>\n",
       "      <th>Last Activity_Email Bounced</th>\n",
       "      <th>Last Activity_Olark Chat Conversation</th>\n",
       "      <th>Last Activity_SMS Sent</th>\n",
       "      <th>What is your current occupation_Working Professional</th>\n",
       "      <th>Last Notable Activity_Had a Phone Conversation</th>\n",
       "      <th>Last Notable Activity_Unreachable</th>\n",
       "      <th>Last Notable Activity_Unsubscribed</th>\n",
       "    </tr>\n",
       "  </thead>\n",
       "  <tbody>\n",
       "    <tr>\n",
       "      <th>2457</th>\n",
       "      <td>1.0</td>\n",
       "      <td>0.000000</td>\n",
       "      <td>0.000000</td>\n",
       "      <td>1</td>\n",
       "      <td>0</td>\n",
       "      <td>0</td>\n",
       "      <td>0</td>\n",
       "      <td>0</td>\n",
       "      <td>1</td>\n",
       "      <td>0</td>\n",
       "      <td>0</td>\n",
       "      <td>1</td>\n",
       "      <td>0</td>\n",
       "      <td>0</td>\n",
       "      <td>0</td>\n",
       "      <td>0</td>\n",
       "    </tr>\n",
       "    <tr>\n",
       "      <th>1935</th>\n",
       "      <td>1.0</td>\n",
       "      <td>0.117647</td>\n",
       "      <td>0.035651</td>\n",
       "      <td>0</td>\n",
       "      <td>0</td>\n",
       "      <td>1</td>\n",
       "      <td>0</td>\n",
       "      <td>0</td>\n",
       "      <td>0</td>\n",
       "      <td>0</td>\n",
       "      <td>1</td>\n",
       "      <td>0</td>\n",
       "      <td>0</td>\n",
       "      <td>0</td>\n",
       "      <td>0</td>\n",
       "      <td>0</td>\n",
       "    </tr>\n",
       "    <tr>\n",
       "      <th>4464</th>\n",
       "      <td>1.0</td>\n",
       "      <td>0.176471</td>\n",
       "      <td>0.082306</td>\n",
       "      <td>0</td>\n",
       "      <td>0</td>\n",
       "      <td>1</td>\n",
       "      <td>0</td>\n",
       "      <td>0</td>\n",
       "      <td>0</td>\n",
       "      <td>0</td>\n",
       "      <td>0</td>\n",
       "      <td>1</td>\n",
       "      <td>0</td>\n",
       "      <td>0</td>\n",
       "      <td>0</td>\n",
       "      <td>0</td>\n",
       "    </tr>\n",
       "    <tr>\n",
       "      <th>7986</th>\n",
       "      <td>1.0</td>\n",
       "      <td>0.000000</td>\n",
       "      <td>0.000000</td>\n",
       "      <td>0</td>\n",
       "      <td>0</td>\n",
       "      <td>0</td>\n",
       "      <td>0</td>\n",
       "      <td>0</td>\n",
       "      <td>0</td>\n",
       "      <td>0</td>\n",
       "      <td>1</td>\n",
       "      <td>0</td>\n",
       "      <td>0</td>\n",
       "      <td>0</td>\n",
       "      <td>0</td>\n",
       "      <td>0</td>\n",
       "    </tr>\n",
       "    <tr>\n",
       "      <th>5136</th>\n",
       "      <td>1.0</td>\n",
       "      <td>0.058824</td>\n",
       "      <td>0.007042</td>\n",
       "      <td>0</td>\n",
       "      <td>0</td>\n",
       "      <td>1</td>\n",
       "      <td>0</td>\n",
       "      <td>0</td>\n",
       "      <td>0</td>\n",
       "      <td>0</td>\n",
       "      <td>0</td>\n",
       "      <td>0</td>\n",
       "      <td>0</td>\n",
       "      <td>0</td>\n",
       "      <td>0</td>\n",
       "      <td>0</td>\n",
       "    </tr>\n",
       "    <tr>\n",
       "      <th>...</th>\n",
       "      <td>...</td>\n",
       "      <td>...</td>\n",
       "      <td>...</td>\n",
       "      <td>...</td>\n",
       "      <td>...</td>\n",
       "      <td>...</td>\n",
       "      <td>...</td>\n",
       "      <td>...</td>\n",
       "      <td>...</td>\n",
       "      <td>...</td>\n",
       "      <td>...</td>\n",
       "      <td>...</td>\n",
       "      <td>...</td>\n",
       "      <td>...</td>\n",
       "      <td>...</td>\n",
       "      <td>...</td>\n",
       "    </tr>\n",
       "    <tr>\n",
       "      <th>262</th>\n",
       "      <td>1.0</td>\n",
       "      <td>0.000000</td>\n",
       "      <td>0.000000</td>\n",
       "      <td>1</td>\n",
       "      <td>0</td>\n",
       "      <td>0</td>\n",
       "      <td>0</td>\n",
       "      <td>0</td>\n",
       "      <td>1</td>\n",
       "      <td>0</td>\n",
       "      <td>0</td>\n",
       "      <td>0</td>\n",
       "      <td>0</td>\n",
       "      <td>0</td>\n",
       "      <td>0</td>\n",
       "      <td>0</td>\n",
       "    </tr>\n",
       "    <tr>\n",
       "      <th>2376</th>\n",
       "      <td>1.0</td>\n",
       "      <td>0.000000</td>\n",
       "      <td>0.000000</td>\n",
       "      <td>1</td>\n",
       "      <td>0</td>\n",
       "      <td>0</td>\n",
       "      <td>0</td>\n",
       "      <td>0</td>\n",
       "      <td>0</td>\n",
       "      <td>0</td>\n",
       "      <td>0</td>\n",
       "      <td>1</td>\n",
       "      <td>0</td>\n",
       "      <td>0</td>\n",
       "      <td>0</td>\n",
       "      <td>0</td>\n",
       "    </tr>\n",
       "    <tr>\n",
       "      <th>5594</th>\n",
       "      <td>1.0</td>\n",
       "      <td>0.000000</td>\n",
       "      <td>0.000000</td>\n",
       "      <td>0</td>\n",
       "      <td>0</td>\n",
       "      <td>0</td>\n",
       "      <td>0</td>\n",
       "      <td>0</td>\n",
       "      <td>0</td>\n",
       "      <td>0</td>\n",
       "      <td>1</td>\n",
       "      <td>0</td>\n",
       "      <td>0</td>\n",
       "      <td>0</td>\n",
       "      <td>0</td>\n",
       "      <td>0</td>\n",
       "    </tr>\n",
       "    <tr>\n",
       "      <th>3186</th>\n",
       "      <td>1.0</td>\n",
       "      <td>0.117647</td>\n",
       "      <td>0.341989</td>\n",
       "      <td>0</td>\n",
       "      <td>0</td>\n",
       "      <td>1</td>\n",
       "      <td>0</td>\n",
       "      <td>0</td>\n",
       "      <td>0</td>\n",
       "      <td>0</td>\n",
       "      <td>0</td>\n",
       "      <td>1</td>\n",
       "      <td>0</td>\n",
       "      <td>0</td>\n",
       "      <td>0</td>\n",
       "      <td>0</td>\n",
       "    </tr>\n",
       "    <tr>\n",
       "      <th>5654</th>\n",
       "      <td>1.0</td>\n",
       "      <td>0.000000</td>\n",
       "      <td>0.000000</td>\n",
       "      <td>0</td>\n",
       "      <td>0</td>\n",
       "      <td>0</td>\n",
       "      <td>0</td>\n",
       "      <td>0</td>\n",
       "      <td>0</td>\n",
       "      <td>0</td>\n",
       "      <td>1</td>\n",
       "      <td>0</td>\n",
       "      <td>1</td>\n",
       "      <td>0</td>\n",
       "      <td>0</td>\n",
       "      <td>0</td>\n",
       "    </tr>\n",
       "  </tbody>\n",
       "</table>\n",
       "<p>1879 rows × 16 columns</p>\n",
       "</div>"
      ],
      "text/plain": [
       "      const  TotalVisits  Total Time Spent on Website  \\\n",
       "2457    1.0     0.000000                     0.000000   \n",
       "1935    1.0     0.117647                     0.035651   \n",
       "4464    1.0     0.176471                     0.082306   \n",
       "7986    1.0     0.000000                     0.000000   \n",
       "5136    1.0     0.058824                     0.007042   \n",
       "...     ...          ...                          ...   \n",
       "262     1.0     0.000000                     0.000000   \n",
       "2376    1.0     0.000000                     0.000000   \n",
       "5594    1.0     0.000000                     0.000000   \n",
       "3186    1.0     0.117647                     0.341989   \n",
       "5654    1.0     0.000000                     0.000000   \n",
       "\n",
       "      Lead Origin_Lead Add Form  Lead Source_Direct Traffic  \\\n",
       "2457                          1                           0   \n",
       "1935                          0                           0   \n",
       "4464                          0                           0   \n",
       "7986                          0                           0   \n",
       "5136                          0                           0   \n",
       "...                         ...                         ...   \n",
       "262                           1                           0   \n",
       "2376                          1                           0   \n",
       "5594                          0                           0   \n",
       "3186                          0                           0   \n",
       "5654                          0                           0   \n",
       "\n",
       "      Lead Source_Google  Lead Source_Organic Search  \\\n",
       "2457                   0                           0   \n",
       "1935                   1                           0   \n",
       "4464                   1                           0   \n",
       "7986                   0                           0   \n",
       "5136                   1                           0   \n",
       "...                  ...                         ...   \n",
       "262                    0                           0   \n",
       "2376                   0                           0   \n",
       "5594                   0                           0   \n",
       "3186                   1                           0   \n",
       "5654                   0                           0   \n",
       "\n",
       "      Lead Source_Referral Sites  Lead Source_Welingak Website  \\\n",
       "2457                           0                             1   \n",
       "1935                           0                             0   \n",
       "4464                           0                             0   \n",
       "7986                           0                             0   \n",
       "5136                           0                             0   \n",
       "...                          ...                           ...   \n",
       "262                            0                             1   \n",
       "2376                           0                             0   \n",
       "5594                           0                             0   \n",
       "3186                           0                             0   \n",
       "5654                           0                             0   \n",
       "\n",
       "      Last Activity_Email Bounced  Last Activity_Olark Chat Conversation  \\\n",
       "2457                            0                                      0   \n",
       "1935                            0                                      1   \n",
       "4464                            0                                      0   \n",
       "7986                            0                                      1   \n",
       "5136                            0                                      0   \n",
       "...                           ...                                    ...   \n",
       "262                             0                                      0   \n",
       "2376                            0                                      0   \n",
       "5594                            0                                      1   \n",
       "3186                            0                                      0   \n",
       "5654                            0                                      1   \n",
       "\n",
       "      Last Activity_SMS Sent  \\\n",
       "2457                       1   \n",
       "1935                       0   \n",
       "4464                       1   \n",
       "7986                       0   \n",
       "5136                       0   \n",
       "...                      ...   \n",
       "262                        0   \n",
       "2376                       1   \n",
       "5594                       0   \n",
       "3186                       1   \n",
       "5654                       0   \n",
       "\n",
       "      What is your current occupation_Working Professional  \\\n",
       "2457                                                  0      \n",
       "1935                                                  0      \n",
       "4464                                                  0      \n",
       "7986                                                  0      \n",
       "5136                                                  0      \n",
       "...                                                 ...      \n",
       "262                                                   0      \n",
       "2376                                                  0      \n",
       "5594                                                  0      \n",
       "3186                                                  0      \n",
       "5654                                                  1      \n",
       "\n",
       "      Last Notable Activity_Had a Phone Conversation  \\\n",
       "2457                                               0   \n",
       "1935                                               0   \n",
       "4464                                               0   \n",
       "7986                                               0   \n",
       "5136                                               0   \n",
       "...                                              ...   \n",
       "262                                                0   \n",
       "2376                                               0   \n",
       "5594                                               0   \n",
       "3186                                               0   \n",
       "5654                                               0   \n",
       "\n",
       "      Last Notable Activity_Unreachable  Last Notable Activity_Unsubscribed  \n",
       "2457                                  0                                   0  \n",
       "1935                                  0                                   0  \n",
       "4464                                  0                                   0  \n",
       "7986                                  0                                   0  \n",
       "5136                                  0                                   0  \n",
       "...                                 ...                                 ...  \n",
       "262                                   0                                   0  \n",
       "2376                                  0                                   0  \n",
       "5594                                  0                                   0  \n",
       "3186                                  0                                   0  \n",
       "5654                                  0                                   0  \n",
       "\n",
       "[1879 rows x 16 columns]"
      ]
     },
     "execution_count": 144,
     "metadata": {},
     "output_type": "execute_result"
    }
   ],
   "source": [
    "# Check X_test_sm\n",
    "\n",
    "X_test_sm\n"
   ]
  },
  {
   "cell_type": "code",
   "execution_count": 145,
   "id": "e3f0879d",
   "metadata": {},
   "outputs": [],
   "source": [
    "y_test_pred = res.predict(sm.add_constant(X_test))"
   ]
  },
  {
   "cell_type": "code",
   "execution_count": 146,
   "id": "1cf0009f",
   "metadata": {},
   "outputs": [
    {
     "data": {
      "text/plain": [
       "2457    0.985035\n",
       "1935    0.037671\n",
       "4464    0.358416\n",
       "7986    0.127700\n",
       "5136    0.102643\n",
       "3711    0.462957\n",
       "6164    0.347854\n",
       "8905    0.347854\n",
       "1092    0.618675\n",
       "dtype: float64"
      ]
     },
     "execution_count": 146,
     "metadata": {},
     "output_type": "execute_result"
    }
   ],
   "source": [
    "y_test_pred[:9]"
   ]
  },
  {
   "cell_type": "code",
   "execution_count": 147,
   "id": "3339cbcc",
   "metadata": {},
   "outputs": [],
   "source": [
    "# Converting y_pred to a dataframe\n",
    "\n",
    "y_pred_1 = pd.DataFrame(y_test_pred)"
   ]
  },
  {
   "cell_type": "code",
   "execution_count": 148,
   "id": "e06d57c2",
   "metadata": {},
   "outputs": [
    {
     "data": {
      "text/html": [
       "<div>\n",
       "<style scoped>\n",
       "    .dataframe tbody tr th:only-of-type {\n",
       "        vertical-align: middle;\n",
       "    }\n",
       "\n",
       "    .dataframe tbody tr th {\n",
       "        vertical-align: top;\n",
       "    }\n",
       "\n",
       "    .dataframe thead th {\n",
       "        text-align: right;\n",
       "    }\n",
       "</style>\n",
       "<table border=\"1\" class=\"dataframe\">\n",
       "  <thead>\n",
       "    <tr style=\"text-align: right;\">\n",
       "      <th></th>\n",
       "      <th>0</th>\n",
       "    </tr>\n",
       "  </thead>\n",
       "  <tbody>\n",
       "    <tr>\n",
       "      <th>2457</th>\n",
       "      <td>0.985035</td>\n",
       "    </tr>\n",
       "    <tr>\n",
       "      <th>1935</th>\n",
       "      <td>0.037671</td>\n",
       "    </tr>\n",
       "    <tr>\n",
       "      <th>4464</th>\n",
       "      <td>0.358416</td>\n",
       "    </tr>\n",
       "    <tr>\n",
       "      <th>7986</th>\n",
       "      <td>0.127700</td>\n",
       "    </tr>\n",
       "    <tr>\n",
       "      <th>5136</th>\n",
       "      <td>0.102643</td>\n",
       "    </tr>\n",
       "  </tbody>\n",
       "</table>\n",
       "</div>"
      ],
      "text/plain": [
       "             0\n",
       "2457  0.985035\n",
       "1935  0.037671\n",
       "4464  0.358416\n",
       "7986  0.127700\n",
       "5136  0.102643"
      ]
     },
     "execution_count": 148,
     "metadata": {},
     "output_type": "execute_result"
    }
   ],
   "source": [
    "# Let's see the head\n",
    "\n",
    "y_pred_1.head()"
   ]
  },
  {
   "cell_type": "code",
   "execution_count": 149,
   "id": "a6d2e5e5",
   "metadata": {},
   "outputs": [],
   "source": [
    "# Converting y_test to dataframe\n",
    "\n",
    "y_test_df = pd.DataFrame(y_test)"
   ]
  },
  {
   "cell_type": "code",
   "execution_count": 150,
   "id": "1a4ca84c",
   "metadata": {},
   "outputs": [],
   "source": [
    "# Remove index for both dataframes to append them side by side \n",
    "\n",
    "y_pred_1.reset_index(drop=True, inplace=True)\n",
    "y_test_df.reset_index(drop=True, inplace=True)"
   ]
  },
  {
   "cell_type": "code",
   "execution_count": 151,
   "id": "3b92cf63",
   "metadata": {},
   "outputs": [],
   "source": [
    "# Append y_test_df and y_pred_1\n",
    "\n",
    "y_pred_final = pd.concat([y_test_df, y_pred_1],axis=1)"
   ]
  },
  {
   "cell_type": "code",
   "execution_count": 152,
   "id": "81874da4",
   "metadata": {},
   "outputs": [
    {
     "data": {
      "text/html": [
       "<div>\n",
       "<style scoped>\n",
       "    .dataframe tbody tr th:only-of-type {\n",
       "        vertical-align: middle;\n",
       "    }\n",
       "\n",
       "    .dataframe tbody tr th {\n",
       "        vertical-align: top;\n",
       "    }\n",
       "\n",
       "    .dataframe thead th {\n",
       "        text-align: right;\n",
       "    }\n",
       "</style>\n",
       "<table border=\"1\" class=\"dataframe\">\n",
       "  <thead>\n",
       "    <tr style=\"text-align: right;\">\n",
       "      <th></th>\n",
       "      <th>Converted</th>\n",
       "      <th>0</th>\n",
       "    </tr>\n",
       "  </thead>\n",
       "  <tbody>\n",
       "    <tr>\n",
       "      <th>0</th>\n",
       "      <td>1</td>\n",
       "      <td>0.985035</td>\n",
       "    </tr>\n",
       "    <tr>\n",
       "      <th>1</th>\n",
       "      <td>0</td>\n",
       "      <td>0.037671</td>\n",
       "    </tr>\n",
       "    <tr>\n",
       "      <th>2</th>\n",
       "      <td>0</td>\n",
       "      <td>0.358416</td>\n",
       "    </tr>\n",
       "    <tr>\n",
       "      <th>3</th>\n",
       "      <td>0</td>\n",
       "      <td>0.127700</td>\n",
       "    </tr>\n",
       "    <tr>\n",
       "      <th>4</th>\n",
       "      <td>0</td>\n",
       "      <td>0.102643</td>\n",
       "    </tr>\n",
       "  </tbody>\n",
       "</table>\n",
       "</div>"
      ],
      "text/plain": [
       "   Converted         0\n",
       "0          1  0.985035\n",
       "1          0  0.037671\n",
       "2          0  0.358416\n",
       "3          0  0.127700\n",
       "4          0  0.102643"
      ]
     },
     "execution_count": 152,
     "metadata": {},
     "output_type": "execute_result"
    }
   ],
   "source": [
    "# Check 'y_pred_final'\n",
    "\n",
    "y_pred_final.head()"
   ]
  },
  {
   "cell_type": "code",
   "execution_count": 153,
   "id": "d80e86dd",
   "metadata": {},
   "outputs": [],
   "source": [
    "# Rename the column \n",
    "y_pred_final= y_pred_final.rename(columns = {0 : 'Conversion_Prob'})"
   ]
  },
  {
   "cell_type": "code",
   "execution_count": 154,
   "id": "a3eec831",
   "metadata": {},
   "outputs": [
    {
     "data": {
      "text/html": [
       "<div>\n",
       "<style scoped>\n",
       "    .dataframe tbody tr th:only-of-type {\n",
       "        vertical-align: middle;\n",
       "    }\n",
       "\n",
       "    .dataframe tbody tr th {\n",
       "        vertical-align: top;\n",
       "    }\n",
       "\n",
       "    .dataframe thead th {\n",
       "        text-align: right;\n",
       "    }\n",
       "</style>\n",
       "<table border=\"1\" class=\"dataframe\">\n",
       "  <thead>\n",
       "    <tr style=\"text-align: right;\">\n",
       "      <th></th>\n",
       "      <th>Converted</th>\n",
       "      <th>Conversion_Prob</th>\n",
       "    </tr>\n",
       "  </thead>\n",
       "  <tbody>\n",
       "    <tr>\n",
       "      <th>0</th>\n",
       "      <td>1</td>\n",
       "      <td>0.985035</td>\n",
       "    </tr>\n",
       "    <tr>\n",
       "      <th>1</th>\n",
       "      <td>0</td>\n",
       "      <td>0.037671</td>\n",
       "    </tr>\n",
       "    <tr>\n",
       "      <th>2</th>\n",
       "      <td>0</td>\n",
       "      <td>0.358416</td>\n",
       "    </tr>\n",
       "    <tr>\n",
       "      <th>3</th>\n",
       "      <td>0</td>\n",
       "      <td>0.127700</td>\n",
       "    </tr>\n",
       "    <tr>\n",
       "      <th>4</th>\n",
       "      <td>0</td>\n",
       "      <td>0.102643</td>\n",
       "    </tr>\n",
       "  </tbody>\n",
       "</table>\n",
       "</div>"
      ],
      "text/plain": [
       "   Converted  Conversion_Prob\n",
       "0          1         0.985035\n",
       "1          0         0.037671\n",
       "2          0         0.358416\n",
       "3          0         0.127700\n",
       "4          0         0.102643"
      ]
     },
     "execution_count": 154,
     "metadata": {},
     "output_type": "execute_result"
    }
   ],
   "source": [
    "# Let's see the head of y_pred_final\n",
    "y_pred_final.head()\n"
   ]
  },
  {
   "cell_type": "code",
   "execution_count": 155,
   "id": "719758ba",
   "metadata": {},
   "outputs": [],
   "source": [
    "# Make predictions on the test set using 0.45 as the cutoff\n",
    "\n",
    "y_pred_final['final_predicted'] = y_pred_final.Conversion_Prob.map(lambda x: 1 if x > 0.42 else 0)"
   ]
  },
  {
   "cell_type": "code",
   "execution_count": 156,
   "id": "b6cc7cca",
   "metadata": {},
   "outputs": [
    {
     "data": {
      "text/html": [
       "<div>\n",
       "<style scoped>\n",
       "    .dataframe tbody tr th:only-of-type {\n",
       "        vertical-align: middle;\n",
       "    }\n",
       "\n",
       "    .dataframe tbody tr th {\n",
       "        vertical-align: top;\n",
       "    }\n",
       "\n",
       "    .dataframe thead th {\n",
       "        text-align: right;\n",
       "    }\n",
       "</style>\n",
       "<table border=\"1\" class=\"dataframe\">\n",
       "  <thead>\n",
       "    <tr style=\"text-align: right;\">\n",
       "      <th></th>\n",
       "      <th>Converted</th>\n",
       "      <th>Conversion_Prob</th>\n",
       "      <th>final_predicted</th>\n",
       "    </tr>\n",
       "  </thead>\n",
       "  <tbody>\n",
       "    <tr>\n",
       "      <th>0</th>\n",
       "      <td>1</td>\n",
       "      <td>0.985035</td>\n",
       "      <td>1</td>\n",
       "    </tr>\n",
       "    <tr>\n",
       "      <th>1</th>\n",
       "      <td>0</td>\n",
       "      <td>0.037671</td>\n",
       "      <td>0</td>\n",
       "    </tr>\n",
       "    <tr>\n",
       "      <th>2</th>\n",
       "      <td>0</td>\n",
       "      <td>0.358416</td>\n",
       "      <td>0</td>\n",
       "    </tr>\n",
       "    <tr>\n",
       "      <th>3</th>\n",
       "      <td>0</td>\n",
       "      <td>0.127700</td>\n",
       "      <td>0</td>\n",
       "    </tr>\n",
       "    <tr>\n",
       "      <th>4</th>\n",
       "      <td>0</td>\n",
       "      <td>0.102643</td>\n",
       "      <td>0</td>\n",
       "    </tr>\n",
       "  </tbody>\n",
       "</table>\n",
       "</div>"
      ],
      "text/plain": [
       "   Converted  Conversion_Prob  final_predicted\n",
       "0          1         0.985035                1\n",
       "1          0         0.037671                0\n",
       "2          0         0.358416                0\n",
       "3          0         0.127700                0\n",
       "4          0         0.102643                0"
      ]
     },
     "execution_count": 156,
     "metadata": {},
     "output_type": "execute_result"
    }
   ],
   "source": [
    "y_pred_final.head()"
   ]
  },
  {
   "cell_type": "code",
   "execution_count": 157,
   "id": "6cd75e99",
   "metadata": {},
   "outputs": [
    {
     "data": {
      "text/plain": [
       "0.788717402873869"
      ]
     },
     "execution_count": 157,
     "metadata": {},
     "output_type": "execute_result"
    }
   ],
   "source": [
    "# Let's check the overall accuracy\n",
    "\n",
    "metrics.accuracy_score(y_pred_final['Converted'], y_pred_final.final_predicted)"
   ]
  },
  {
   "cell_type": "code",
   "execution_count": 158,
   "id": "4e393207",
   "metadata": {},
   "outputs": [
    {
     "data": {
      "text/plain": [
       "array([[769, 198],\n",
       "       [199, 713]], dtype=int64)"
      ]
     },
     "execution_count": 158,
     "metadata": {},
     "output_type": "execute_result"
    }
   ],
   "source": [
    "confusion2 = metrics.confusion_matrix(y_pred_final['Converted'], y_pred_final.final_predicted )\n",
    "confusion2"
   ]
  },
  {
   "cell_type": "code",
   "execution_count": 159,
   "id": "1b8fa06b",
   "metadata": {},
   "outputs": [],
   "source": [
    "TP = confusion2[1,1] # true positive \n",
    "TN = confusion2[0,0] # true negatives\n",
    "FP = confusion2[0,1] # false positives\n",
    "FN = confusion2[1,0] # false negatives"
   ]
  },
  {
   "cell_type": "code",
   "execution_count": 160,
   "id": "6632cabe",
   "metadata": {},
   "outputs": [
    {
     "data": {
      "text/plain": [
       "0.7817982456140351"
      ]
     },
     "execution_count": 160,
     "metadata": {},
     "output_type": "execute_result"
    }
   ],
   "source": [
    "# Calculate sensitivity\n",
    "TP / float(TP+FN)"
   ]
  },
  {
   "cell_type": "code",
   "execution_count": 161,
   "id": "a8094667",
   "metadata": {},
   "outputs": [
    {
     "data": {
      "text/plain": [
       "0.795243019648397"
      ]
     },
     "execution_count": 161,
     "metadata": {},
     "output_type": "execute_result"
    }
   ],
   "source": [
    "# Calculate specificity\n",
    "TN / float(TN+FP)"
   ]
  },
  {
   "cell_type": "markdown",
   "id": "633900db",
   "metadata": {},
   "source": [
    "# Precision-Recall View\n",
    "Let's now also build the training model using the precision-recall view"
   ]
  },
  {
   "cell_type": "code",
   "execution_count": 162,
   "id": "3af7d99d",
   "metadata": {},
   "outputs": [
    {
     "data": {
      "text/plain": [
       "array([[1894,  394],\n",
       "       [ 520, 1576]], dtype=int64)"
      ]
     },
     "execution_count": 162,
     "metadata": {},
     "output_type": "execute_result"
    }
   ],
   "source": [
    "#Looking at the confusion matrix again\n",
    "\n",
    "confusion = metrics.confusion_matrix(y_train_pred_final.Converted, y_train_pred_final.Predicted )\n",
    "confusion"
   ]
  },
  {
   "cell_type": "code",
   "execution_count": 163,
   "id": "10499e4d",
   "metadata": {},
   "outputs": [
    {
     "data": {
      "text/plain": [
       "0.8"
      ]
     },
     "execution_count": 163,
     "metadata": {},
     "output_type": "execute_result"
    }
   ],
   "source": [
    "confusion[1,1]/(confusion[0,1]+confusion[1,1])"
   ]
  },
  {
   "cell_type": "code",
   "execution_count": 164,
   "id": "ebd8df63",
   "metadata": {},
   "outputs": [
    {
     "data": {
      "text/plain": [
       "0.7519083969465649"
      ]
     },
     "execution_count": 164,
     "metadata": {},
     "output_type": "execute_result"
    }
   ],
   "source": [
    "confusion[1,1]/(confusion[1,0]+confusion[1,1])"
   ]
  },
  {
   "cell_type": "code",
   "execution_count": 165,
   "id": "ab595eee",
   "metadata": {},
   "outputs": [],
   "source": [
    "from sklearn.metrics import precision_recall_curve"
   ]
  },
  {
   "cell_type": "code",
   "execution_count": 166,
   "id": "babfb475",
   "metadata": {},
   "outputs": [
    {
     "data": {
      "text/plain": [
       "(0       1\n",
       " 1       0\n",
       " 2       1\n",
       " 3       0\n",
       " 4       1\n",
       "        ..\n",
       " 4379    0\n",
       " 4380    0\n",
       " 4381    1\n",
       " 4382    1\n",
       " 4383    0\n",
       " Name: Converted, Length: 4384, dtype: int64,\n",
       " 0       1\n",
       " 1       0\n",
       " 2       1\n",
       " 3       0\n",
       " 4       1\n",
       "        ..\n",
       " 4379    0\n",
       " 4380    0\n",
       " 4381    0\n",
       " 4382    0\n",
       " 4383    0\n",
       " Name: Predicted, Length: 4384, dtype: int64)"
      ]
     },
     "execution_count": 166,
     "metadata": {},
     "output_type": "execute_result"
    }
   ],
   "source": [
    "y_train_pred_final.Converted, y_train_pred_final.Predicted"
   ]
  },
  {
   "cell_type": "code",
   "execution_count": 167,
   "id": "f7802d90",
   "metadata": {},
   "outputs": [],
   "source": [
    "p, r, thresholds = precision_recall_curve(y_train_pred_final.Converted, y_train_pred_final.Conversion_Prob)\n"
   ]
  },
  {
   "cell_type": "code",
   "execution_count": 168,
   "id": "f1817c2b",
   "metadata": {},
   "outputs": [
    {
     "data": {
      "image/png": "[encoded data removed]",
      "text/plain": [
       "<Figure size 432x288 with 1 Axes>"
      ]
     },
     "metadata": {
      "needs_background": "light"
     },
     "output_type": "display_data"
    }
   ],
   "source": [
    "plt.plot(thresholds, p[:-1], \"g-\")\n",
    "plt.plot(thresholds, r[:-1], \"r-\")\n",
    "plt.show()\n"
   ]
  },
  {
   "cell_type": "code",
   "execution_count": 169,
   "id": "8b22a30c",
   "metadata": {},
   "outputs": [
    {
     "data": {
      "text/html": [
       "<div>\n",
       "<style scoped>\n",
       "    .dataframe tbody tr th:only-of-type {\n",
       "        vertical-align: middle;\n",
       "    }\n",
       "\n",
       "    .dataframe tbody tr th {\n",
       "        vertical-align: top;\n",
       "    }\n",
       "\n",
       "    .dataframe thead th {\n",
       "        text-align: right;\n",
       "    }\n",
       "</style>\n",
       "<table border=\"1\" class=\"dataframe\">\n",
       "  <thead>\n",
       "    <tr style=\"text-align: right;\">\n",
       "      <th></th>\n",
       "      <th>Converted</th>\n",
       "      <th>Conversion_Prob</th>\n",
       "      <th>Predicted</th>\n",
       "      <th>0.0</th>\n",
       "      <th>0.1</th>\n",
       "      <th>0.2</th>\n",
       "      <th>0.3</th>\n",
       "      <th>0.4</th>\n",
       "      <th>0.5</th>\n",
       "      <th>0.6</th>\n",
       "      <th>0.7</th>\n",
       "      <th>0.8</th>\n",
       "      <th>0.9</th>\n",
       "      <th>final_predicted</th>\n",
       "    </tr>\n",
       "  </thead>\n",
       "  <tbody>\n",
       "    <tr>\n",
       "      <th>0</th>\n",
       "      <td>1</td>\n",
       "      <td>0.726008</td>\n",
       "      <td>1</td>\n",
       "      <td>1</td>\n",
       "      <td>1</td>\n",
       "      <td>1</td>\n",
       "      <td>1</td>\n",
       "      <td>1</td>\n",
       "      <td>1</td>\n",
       "      <td>1</td>\n",
       "      <td>1</td>\n",
       "      <td>0</td>\n",
       "      <td>0</td>\n",
       "      <td>1</td>\n",
       "    </tr>\n",
       "    <tr>\n",
       "      <th>1</th>\n",
       "      <td>0</td>\n",
       "      <td>0.157998</td>\n",
       "      <td>0</td>\n",
       "      <td>1</td>\n",
       "      <td>1</td>\n",
       "      <td>0</td>\n",
       "      <td>0</td>\n",
       "      <td>0</td>\n",
       "      <td>0</td>\n",
       "      <td>0</td>\n",
       "      <td>0</td>\n",
       "      <td>0</td>\n",
       "      <td>0</td>\n",
       "      <td>0</td>\n",
       "    </tr>\n",
       "    <tr>\n",
       "      <th>2</th>\n",
       "      <td>1</td>\n",
       "      <td>0.981053</td>\n",
       "      <td>1</td>\n",
       "      <td>1</td>\n",
       "      <td>1</td>\n",
       "      <td>1</td>\n",
       "      <td>1</td>\n",
       "      <td>1</td>\n",
       "      <td>1</td>\n",
       "      <td>1</td>\n",
       "      <td>1</td>\n",
       "      <td>1</td>\n",
       "      <td>1</td>\n",
       "      <td>1</td>\n",
       "    </tr>\n",
       "    <tr>\n",
       "      <th>3</th>\n",
       "      <td>0</td>\n",
       "      <td>0.132205</td>\n",
       "      <td>0</td>\n",
       "      <td>1</td>\n",
       "      <td>1</td>\n",
       "      <td>0</td>\n",
       "      <td>0</td>\n",
       "      <td>0</td>\n",
       "      <td>0</td>\n",
       "      <td>0</td>\n",
       "      <td>0</td>\n",
       "      <td>0</td>\n",
       "      <td>0</td>\n",
       "      <td>0</td>\n",
       "    </tr>\n",
       "    <tr>\n",
       "      <th>4</th>\n",
       "      <td>1</td>\n",
       "      <td>0.875421</td>\n",
       "      <td>1</td>\n",
       "      <td>1</td>\n",
       "      <td>1</td>\n",
       "      <td>1</td>\n",
       "      <td>1</td>\n",
       "      <td>1</td>\n",
       "      <td>1</td>\n",
       "      <td>1</td>\n",
       "      <td>1</td>\n",
       "      <td>1</td>\n",
       "      <td>0</td>\n",
       "      <td>1</td>\n",
       "    </tr>\n",
       "  </tbody>\n",
       "</table>\n",
       "</div>"
      ],
      "text/plain": [
       "   Converted  Conversion_Prob  Predicted  0.0  0.1  0.2  0.3  0.4  0.5  0.6  \\\n",
       "0          1         0.726008          1    1    1    1    1    1    1    1   \n",
       "1          0         0.157998          0    1    1    0    0    0    0    0   \n",
       "2          1         0.981053          1    1    1    1    1    1    1    1   \n",
       "3          0         0.132205          0    1    1    0    0    0    0    0   \n",
       "4          1         0.875421          1    1    1    1    1    1    1    1   \n",
       "\n",
       "   0.7  0.8  0.9  final_predicted  \n",
       "0    1    0    0                1  \n",
       "1    0    0    0                0  \n",
       "2    1    1    1                1  \n",
       "3    0    0    0                0  \n",
       "4    1    1    0                1  "
      ]
     },
     "execution_count": 169,
     "metadata": {},
     "output_type": "execute_result"
    }
   ],
   "source": [
    "y_train_pred_final['final_predicted'] = y_train_pred_final.Conversion_Prob.map(lambda x: 1 if x > 0.44 else 0)\n",
    "\n",
    "y_train_pred_final.head()\n"
   ]
  },
  {
   "cell_type": "code",
   "execution_count": 170,
   "id": "b076ff8e",
   "metadata": {},
   "outputs": [
    {
     "data": {
      "text/plain": [
       "0.791286496350365"
      ]
     },
     "execution_count": 170,
     "metadata": {},
     "output_type": "execute_result"
    }
   ],
   "source": [
    "# Let's check the accuracy now\n",
    "\n",
    "metrics.accuracy_score(y_train_pred_final.Converted, y_train_pred_final.final_predicted)"
   ]
  },
  {
   "cell_type": "code",
   "execution_count": 171,
   "id": "f9b880f7",
   "metadata": {},
   "outputs": [
    {
     "data": {
      "text/plain": [
       "array([[1823,  465],\n",
       "       [ 450, 1646]], dtype=int64)"
      ]
     },
     "execution_count": 171,
     "metadata": {},
     "output_type": "execute_result"
    }
   ],
   "source": [
    "# Let's create the confusion matrix once again\n",
    "\n",
    "confusion2 = metrics.confusion_matrix(y_train_pred_final.Converted, y_train_pred_final.final_predicted )\n",
    "confusion2"
   ]
  },
  {
   "cell_type": "code",
   "execution_count": 172,
   "id": "ef6bd926",
   "metadata": {},
   "outputs": [],
   "source": [
    "# Let's evaluate the other metrics as well\n",
    "\n",
    "TP = confusion2[1,1] # true positive \n",
    "TN = confusion2[0,0] # true negatives\n",
    "FP = confusion2[0,1] # false positives\n",
    "FN = confusion2[1,0] # false negatives"
   ]
  },
  {
   "cell_type": "code",
   "execution_count": 173,
   "id": "67ebd5f1",
   "metadata": {},
   "outputs": [
    {
     "data": {
      "text/plain": [
       "0.7797252486972999"
      ]
     },
     "execution_count": 173,
     "metadata": {},
     "output_type": "execute_result"
    }
   ],
   "source": [
    "TP/(TP+FP)"
   ]
  },
  {
   "cell_type": "code",
   "execution_count": 174,
   "id": "accb32f5",
   "metadata": {},
   "outputs": [
    {
     "data": {
      "text/plain": [
       "0.7853053435114504"
      ]
     },
     "execution_count": 174,
     "metadata": {},
     "output_type": "execute_result"
    }
   ],
   "source": [
    "TP/(TP+FN)"
   ]
  },
  {
   "cell_type": "markdown",
   "id": "dd6c9024",
   "metadata": {},
   "source": [
    "Observation:\n",
    "After running the model on the Test Data these are the figures we obtain:\n",
    "\n",
    "TEST DATA:\n",
    "Accuracy : 79 %\n",
    "Sensitivity : 79%\n",
    "Specificity : 78%"
   ]
  },
  {
   "cell_type": "markdown",
   "id": "a0e816f0",
   "metadata": {},
   "source": [
    "TRAIN DATA: ¶\n",
    "Accuracy : 79%\n",
    "Sensitivity : 78%\n",
    "Specificity : 79%"
   ]
  },
  {
   "cell_type": "markdown",
   "id": "3a296814",
   "metadata": {},
   "source": [
    "The Model seems to predict the Conversion Rate very well and we should be able to give the CEO confidence in making good calls based on this model\n"
   ]
  },
  {
   "cell_type": "code",
   "execution_count": null,
   "id": "82369830",
   "metadata": {},
   "outputs": [],
   "source": []
  },
  {
   "cell_type": "code",
   "execution_count": null,
   "id": "0d9b2744",
   "metadata": {},
   "outputs": [],
   "source": []
  }
 ],
 "metadata": {
  "kernelspec": {
   "display_name": "Python 3 (ipykernel)",
   "language": "python",
   "name": "python3"
  },
  "language_info": {
   "codemirror_mode": {
    "name": "ipython",
    "version": 3
   },
   "file_extension": ".py",
   "mimetype": "text/x-python",
   "name": "python",
   "nbconvert_exporter": "python",
   "pygments_lexer": "ipython3",
   "version": "3.9.12"
  }
 },
 "nbformat": 4,
 "nbformat_minor": 5
}
